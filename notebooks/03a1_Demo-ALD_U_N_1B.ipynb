{
 "cells": [
  {
   "cell_type": "markdown",
   "metadata": {},
   "source": [
    "# Aeolus Level 1B product - Aeolus preliminary HLOS (horizontal line-of-sight) wind observations and useful signals\n",
    "\n",
    "> Abstract: Access to level 1B product and its visualization"
   ]
  },
  {
   "cell_type": "code",
   "execution_count": null,
   "metadata": {
    "tags": []
   },
   "outputs": [],
   "source": [
    "%load_ext blackcellmagic\n",
    "%matplotlib widget\n",
    "%load_ext watermark\n",
    "%watermark -i -v -p viresclient,pandas,xarray,matplotlib"
   ]
  },
  {
   "cell_type": "markdown",
   "metadata": {},
   "source": [
    "## Load packages and modules"
   ]
  },
  {
   "cell_type": "code",
   "execution_count": null,
   "metadata": {
    "tags": []
   },
   "outputs": [],
   "source": [
    "from viresclient import AeolusRequest\n",
    "import datetime as dt\n",
    "import numpy as np\n",
    "from netCDF4 import num2date\n",
    "import matplotlib.pyplot as plt\n",
    "import matplotlib.dates as mdates\n",
    "import cartopy.crs as ccrs\n",
    "import cartopy.feature as feat\n",
    "from cartopy.mpl.ticker import LongitudeFormatter, LatitudeFormatter"
   ]
  },
  {
   "cell_type": "markdown",
   "metadata": {},
   "source": [
    "## Product information\n",
    "\n",
    "The Level 1B wind product of the Aeolus mission contains the preliminary HLOS (horizontal line-of-sight) wind observations and useful signals for Rayleigh and Mie receivers, which are generated in Near Real Time (NRT) within 3 hours after data acquisition. Standard atmospheric correction (Rayleigh channel), receiver response and bias correction is applied. \n",
    "\n",
    "Documentation:\n",
    "- https://earth.esa.int/eogateway/catalog/aeolus-preliminary-hlos-horizontal-line-of-sight-wind-observations-for-rayleigh-and-mie-receivers\n",
    "\n"
   ]
  },
  {
   "cell_type": "markdown",
   "metadata": {},
   "source": [
    "### L1B parameters on VirES\n",
    "\n",
    "Many of the parameters of the L1B product can be obtained from the viresclient. A list of selected parameters can be found in the following table. For a complete list, please refer to the web client which lists the available parameters under the \"Data\" tab. For an explanation of the parameters, please refer to the VirES web client or the documentation (link above).\n",
    "Some parameters are available specifically for Rayleigh or Mie measurements (e.g. HLOS winds), others are independent of the measurement method and universally applicable (e.g. time). There is also a distinction between observations and measurements, with 30 measurements being averaged to one observation. A description of the parameters in the table is shown as tooltip when hovering the parameter name.\n",
    "\n",
    "| Parameter | Observation type <br> Rayleigh | Observation type <br> Mie | Observation type <br> independent | Granularity <br> observation | Granularity <br> measurement |\n",
    "|:----------|:------------------------------:|:-------------------------:|:--------------------------:|:----------------------------:|:----------------------------:|\n",
    "|[time](## \"UTC Time at center of obs/meas\")              |   |   | X | X | X |\n",
    "|[altitude](## \"Altitude of height bins with respect to the WGS84 ellipsoid along the line-of-sight\")          | X | X |   | X | X |\n",
    "|[latitude](## \"Latitude of each height bin along the line-of-sight\")          | X | X |   | X | X |\n",
    "|[longitude](## \"Longitude of each height bin along the line-of-sight\")         | X | X |   | X | X |\n",
    "|[range](## \"Distance along the LOS between the instrument and the lower edge of the height bin\")             | X | X |   | X |   |\n",
    "|[HLOS_wind_speed](## \"Vertical profiles of HLOS winds\")   | X | X |   | X | X |\n",
    "|[signal_intensity](## \"Vertical profiles of signal intensity\")  | X | X |   | X | X |\n",
    "|[signal_channel_A_intensity](## \"Vertical profiles of signal intensity of Rayleigh channel A\") | X |   |   | X | X |\n",
    "|[signal_channel_B_intensity](## \"Vertical profiles of signal intensity of Rayleigh channel B\") | X |   |   | X | X |\n",
    "|[SNR](## \"Vertical profiles of signal-to-noise ratio\")               | X | X |   | X | X |\n",
    "|[channel_A_SNR](## \"Vertical profiles of signal-to-noise for the Rayleigh channel A\")     | X |   |   | X | X |\n",
    "|[channel_B_SNR](## \"Vertical profiles of signal-to-noise for the Rayleigh channel B\")     | X |   |   | X | X |\n",
    "|[bin_quality_flag](## \"Bin quality flag\")  | X | X |   | X | X |\n",
    "|[geoid_separation](## \"Height of geoid above WGS84 ellipsoid\")  |   |   | X | X | X |\n",
    "|[scattering_ratio](## \"Vertical profiles of the scattering ratio for the Mie channel\")  |   | X |   | X | X |\n",
    "|[average_laser_energy](## \"Average laser pulse UV energy of N * (P – 1) pulses\") |   |   | X | X | X |"
   ]
  },
  {
   "cell_type": "markdown",
   "metadata": {},
   "source": [
    "## Defining product, parameters and time for the data request\n",
    "Keep in mind that the time for **one full orbit** is aorund **90 minutes**.\n",
    "The **repeat cycle** of the orbits is **7 days**."
   ]
  },
  {
   "cell_type": "code",
   "execution_count": null,
   "metadata": {},
   "outputs": [],
   "source": [
    "# Aeolus product\n",
    "DATA_PRODUCT = \"ALD_U_N_1B\"\n",
    "\n",
    "# measurement period in yyyy-mm-ddTHH:MM:SS\n",
    "measurement_start = \"2020-10-20T00:00:00Z\"\n",
    "measurement_stop = \"2020-10-20T02:00:00Z\"\n",
    "\n",
    "# Product parameters to retrieve\n",
    "# uncomment parameters of interest\n",
    "\n",
    "# Rayleigh observation level\n",
    "parameter_rayleigh_observations = [\n",
    "    \"altitude\",\n",
    "    \"latitude\",\n",
    "    \"longitude\",\n",
    "    \"range\",\n",
    "    # \"HLOS_wind_speed\",\n",
    "    \"signal_intensity\",\n",
    "    # \"signal_intensity_normalised\",\n",
    "    # \"signal_channel_A_intensity\",\n",
    "    # \"signal_channel_B_intensity\",\n",
    "    \"bin_quality_flag\",\n",
    "    \"SNR\",\n",
    "]\n",
    "parameter_rayleigh_observations = [\"rayleigh_\" + param for param in parameter_rayleigh_observations]\n",
    "\n",
    "# Rayleigh measurement level\n",
    "parameter_rayleigh_measurements = [\n",
    "    \"altitude\",\n",
    "    # \"latitude\",\n",
    "    # \"longitude\",\n",
    "    # \"HLOS_wind_speed\",\n",
    "    \"signal_intensity\",\n",
    "    # \"signal_intensity_normalised\",\n",
    "    # \"signal_channel_A_intensity\",\n",
    "    # \"signal_channel_B_intensity\",\n",
    "    \"bin_quality_flag\",\n",
    "    # \"SNR\",\n",
    "]\n",
    "parameter_rayleigh_measurements = [\"rayleigh_\" + param for param in parameter_rayleigh_measurements]\n",
    "\n",
    "# Mie observation level\n",
    "parameter_mie_observations = [\n",
    "    \"altitude\",\n",
    "    \"latitude\",\n",
    "    \"longitude\",\n",
    "    \"range\",\n",
    "    # \"HLOS_wind_speed\",\n",
    "    \"signal_intensity\",\n",
    "    # \"signal_intensity_normalised\",\n",
    "    \"bin_quality_flag\",\n",
    "    \"SNR\",\n",
    "]\n",
    "parameter_mie_observations = [\"mie_\" + param for param in parameter_mie_observations]\n",
    "\n",
    "# Mie measurement level\n",
    "parameter_mie_measurements = [\n",
    "    \"altitude\",\n",
    "    # \"latitude\",\n",
    "    # \"longitude\",\n",
    "    # \"HLOS_wind_speed\",\n",
    "    \"signal_intensity\",\n",
    "    # \"signal_intensity_normalised\",\n",
    "    \"bin_quality_flag\",\n",
    "    # \"SNR\",\n",
    "]\n",
    "parameter_mie_measurements = [\"mie_\" + param for param in parameter_mie_measurements]\n",
    "\n",
    "# Observation type independent parameters observations level\n",
    "parameter_observations_indepdendent = [\n",
    "    \"time\",\n",
    "]\n",
    "\n",
    "# Observation type independent parameters measurement level\n",
    "parameter_measurements_independent = [\n",
    "    \"time\",\n",
    "]\n",
    "\n",
    "# Combine parameters to one list for observation and one for measurement level\n",
    "parameter_list_observations = (\n",
    "    parameter_rayleigh_observations\n",
    "    + parameter_mie_observations\n",
    "    + parameter_observations_indepdendent\n",
    ")\n",
    "parameter_list_measurements = (\n",
    "    parameter_rayleigh_measurements\n",
    "    + parameter_mie_measurements\n",
    "    + parameter_measurements_independent\n",
    ")"
   ]
  },
  {
   "cell_type": "markdown",
   "metadata": {
    "tags": []
   },
   "source": [
    "## Retrieve data from VRE server"
   ]
  },
  {
   "cell_type": "code",
   "execution_count": null,
   "metadata": {
    "tags": []
   },
   "outputs": [],
   "source": [
    "# Data request for observation level\n",
    "# check if observation parameter list is not empty\n",
    "if len(parameter_list_observations) > 0:\n",
    "    \n",
    "    request = AeolusRequest()\n",
    "\n",
    "    request.set_collection(DATA_PRODUCT)\n",
    "\n",
    "    # set observation fields\n",
    "    request.set_fields(\n",
    "        observation_fields=parameter_list_observations,\n",
    "    )\n",
    "\n",
    "    # set start and end time and request data\n",
    "    data_observation = request.get_between(\n",
    "        start_time=measurement_start, end_time=measurement_stop, filetype=\"nc\", asynchronous=True\n",
    "    )"
   ]
  },
  {
   "cell_type": "code",
   "execution_count": null,
   "metadata": {
    "tags": []
   },
   "outputs": [],
   "source": [
    "# Data request for measurement level\n",
    "# check if measurement parameter list is not empty\n",
    "if len(parameter_list_measurements) > 0:\n",
    "    \n",
    "    request = AeolusRequest()\n",
    "\n",
    "    request.set_collection(DATA_PRODUCT)\n",
    "\n",
    "    # set measurement fields\n",
    "    request.set_fields(\n",
    "        measurement_fields=parameter_list_measurements,\n",
    "    )\n",
    "\n",
    "    # set start and end time and request data\n",
    "    data_measurement = request.get_between(\n",
    "        start_time=measurement_start, end_time=measurement_stop, filetype=\"nc\", asynchronous=True\n",
    "    )"
   ]
  },
  {
   "cell_type": "code",
   "execution_count": null,
   "metadata": {
    "tags": []
   },
   "outputs": [],
   "source": [
    "# Save data as xarray data sets\n",
    "# check if variable is assigned\n",
    "if 'data_observation' in globals():\n",
    "    ds_observations = data_observation.as_xarray()\n",
    "if 'data_measurement' in globals():\n",
    "    ds_measurements = data_measurement.as_xarray()"
   ]
  },
  {
   "cell_type": "markdown",
   "metadata": {
    "execution": {
     "iopub.execute_input": "2021-05-06T14:44:46.457637Z",
     "iopub.status.busy": "2021-05-06T14:44:46.456925Z",
     "iopub.status.idle": "2021-05-06T14:44:55.982813Z",
     "shell.execute_reply": "2021-05-06T14:44:55.983200Z"
    }
   },
   "source": [
    "## Add datetime variable to the data sets"
   ]
  },
  {
   "cell_type": "code",
   "execution_count": null,
   "metadata": {
    "tags": []
   },
   "outputs": [],
   "source": [
    "if \"ds_measurements\" in globals():\n",
    "    ds_measurements[\"datetime\"] = (\n",
    "        (\"measurement\"),\n",
    "        num2date(\n",
    "            ds_measurements[\"time\"], units=\"s since 2000-01-01\", only_use_cftime_datetimes=False\n",
    "        ),\n",
    "    )\n",
    "if \"ds_observations\" in globals():\n",
    "    ds_observations[\"datetime\"] = (\n",
    "        (\"observation\"),\n",
    "        num2date(\n",
    "            ds_observations[\"time\"], units=\"s since 2000-01-01\", only_use_cftime_datetimes=False\n",
    "        ),\n",
    "    )"
   ]
  },
  {
   "cell_type": "markdown",
   "metadata": {},
   "source": [
    "## Extract bits from bin_quality_flag and add them to the data sets for QC"
   ]
  },
  {
   "cell_type": "code",
   "execution_count": null,
   "metadata": {},
   "outputs": [],
   "source": [
    "if \"ds_observations\" in globals():\n",
    "    ds_observations[\"rayleigh_validity_flags\"] = (\n",
    "        (\"observation\", \"array_24\", \"array_16\"),\n",
    "        np.flip(\n",
    "            np.unpackbits(\n",
    "                ds_observations[\"rayleigh_bin_quality_flag\"][:, :].values.view(np.uint8),\n",
    "                bitorder=\"little\",\n",
    "            ).reshape([-1, 24, 16]),\n",
    "            axis=-1,\n",
    "        ),\n",
    "    )\n",
    "    ds_observations[\"mie_validity_flags\"] = (\n",
    "        (\"observation\", \"array_24\", \"array_16\"),\n",
    "        np.flip(\n",
    "            np.unpackbits(\n",
    "                ds_observations[\"mie_bin_quality_flag\"][:, :].values.view(np.uint8),\n",
    "                bitorder=\"little\",\n",
    "            ).reshape([-1, 24, 16]),\n",
    "            axis=-1,\n",
    "        ),\n",
    "    )\n",
    "\n",
    "if \"ds_measurements\" in globals():\n",
    "    ds_measurements[\"rayleigh_validity_flags\"] = (\n",
    "        (\"measurement\", \"array_24\", \"array_16\"),\n",
    "        np.flip(\n",
    "            np.unpackbits(\n",
    "                ds_measurements[\"rayleigh_bin_quality_flag\"][:, :].values.view(np.uint8),\n",
    "                bitorder=\"little\",\n",
    "            ).reshape([-1, 24, 16]),\n",
    "            axis=-1,\n",
    "        ),\n",
    "    )\n",
    "    ds_measurements[\"mie_validity_flags\"] = (\n",
    "        (\"measurement\", \"array_24\", \"array_16\"),\n",
    "        np.flip(\n",
    "            np.unpackbits(\n",
    "                ds_measurements[\"mie_bin_quality_flag\"][:, :].values.view(np.uint8),\n",
    "                bitorder=\"little\",\n",
    "            ).reshape([-1, 24, 16]),\n",
    "            axis=-1,\n",
    "        ),\n",
    "    )"
   ]
  },
  {
   "cell_type": "markdown",
   "metadata": {
    "execution": {
     "iopub.execute_input": "2021-05-06T14:44:46.457637Z",
     "iopub.status.busy": "2021-05-06T14:44:46.456925Z",
     "iopub.status.idle": "2021-05-06T14:44:55.982813Z",
     "shell.execute_reply": "2021-05-06T14:44:55.983200Z"
    }
   },
   "source": [
    "## Calculate additional parameters"
   ]
  },
  {
   "cell_type": "code",
   "execution_count": null,
   "metadata": {
    "tags": []
   },
   "outputs": [],
   "source": [
    "# compute range corrected and normalized signal intensities\n",
    "# compute range to bin center and range bin thickness\n",
    "for parameter in ds_observations:\n",
    "    if \"range\" in parameter:\n",
    "        # range bin thickness\n",
    "        ds_observations[parameter + \"_bin_thickness\"] = (\n",
    "            (\"observation\", \"array_24\"),\n",
    "            ds_observations[parameter].diff(dim=\"array_25\").data,\n",
    "        )\n",
    "        # range to bin center\n",
    "        range_to_bin_center = (\n",
    "            ds_observations[parameter][:, 1:].data\n",
    "            - 0.5 * ds_observations[parameter + \"_bin_thickness\"].data\n",
    "        )\n",
    "        ds_observations[parameter + \"_to_bin_center\"] = (\n",
    "            (\"observation\", \"array_24\"),\n",
    "            range_to_bin_center,\n",
    "        )\n",
    "\n",
    "# apply range correction and normalization by smallest possible range bin\n",
    "# smallest range bin along line of sight is 315.407 meter\n",
    "\n",
    "# range correction for observation level\n",
    "if \"ds_observations\" in globals():        \n",
    "    for parameter in ds_observations:\n",
    "        if \"signal_intensity\" in parameter:\n",
    "            obs_type = parameter.split(\"_\")[0]\n",
    "            signal_intensity_rc_normalized = (\n",
    "                ds_observations[parameter].data[:, :-1]\n",
    "                * (ds_observations[obs_type + \"_range_to_bin_center\"].data ** 2)\n",
    "                * (315.407 / ds_observations[obs_type + \"_range_bin_thickness\"].data)\n",
    "            )\n",
    "            ds_observations[parameter + \"_rc_normalized\"] = (\n",
    "                (\"observation\", \"array_24\"),\n",
    "                signal_intensity_rc_normalized,\n",
    "            )\n",
    "\n",
    "# range correction for measurement level        \n",
    "if \"ds_measurements\" in globals():\n",
    "    for parameter in ds_measurements:\n",
    "        if \"signal_intensity\" in parameter:\n",
    "            obs_type = parameter.split(\"_\")[0]\n",
    "            signal_intensity_rc_normalized = (\n",
    "                ds_measurements[parameter].data[:, :-1]\n",
    "                * (ds_observations[obs_type + \"_range_to_bin_center\"].data.repeat(30, axis=0) ** 2)\n",
    "                * (315.407 / ds_observations[obs_type + \"_range_bin_thickness\"].data.repeat(30, axis=0))\n",
    "            )\n",
    "            ds_measurements[parameter + \"_rc_normalized\"] = (\n",
    "                (\"measurement\", \"array_24\"),\n",
    "                signal_intensity_rc_normalized,\n",
    "            )"
   ]
  },
  {
   "cell_type": "markdown",
   "metadata": {},
   "source": [
    "## Plot parameter"
   ]
  },
  {
   "cell_type": "markdown",
   "metadata": {},
   "source": [
    "### Curtain plot"
   ]
  },
  {
   "cell_type": "code",
   "execution_count": null,
   "metadata": {},
   "outputs": [],
   "source": [
    "# Define plot function\n",
    "def plot_parameter_2D(\n",
    "    parameter, x, y, level=\"observation\", QC_filter=False, start_bin=0, end_bin=-1\n",
    "):\n",
    "    if level == \"observation\":\n",
    "        ds = ds_observations\n",
    "        # usual time difference between observations\n",
    "        time_diff = 13.0\n",
    "    elif level == \"measurement\":\n",
    "        ds = ds_measurements\n",
    "        # usual time difference between measurements is around 0.4 seconds\n",
    "        # a larger gap is present at the end of 30 consecutive measurements forming one observation\n",
    "        time_diff = 1.2\n",
    "\n",
    "    # set profiles to nan where time differences are larger than one measurement or one observation\n",
    "    # this is necessary to visualize gaps in pcolormesh\n",
    "    parameter_data = np.copy(ds[parameter])\n",
    "    parameter_data[:-1, :][np.diff(ds[\"time\"], axis=0) > time_diff] = np.nan\n",
    "    parameter_data[1:, :][np.diff(ds[\"time\"], axis=0) > time_diff] = np.nan\n",
    "    # filter range bins where the overall validity flag (bit 1 of bin quality flag) is 1\n",
    "    if QC_filter:\n",
    "        parameter_data[ds[parameter.split(\"_\")[0] + \"_validity_flags\"][:, :, 0] == 1] = np.nan\n",
    "\n",
    "    fig, ax = plt.subplots(1, 1, figsize=(10, 6), constrained_layout=True)\n",
    "    im = ax.pcolormesh(\n",
    "        ds[x][start_bin:end_bin],\n",
    "        ds[y][start_bin:end_bin, :].T / 1000.0,\n",
    "        parameter_data[start_bin : end_bin - 1, :].T,\n",
    "        vmin=np.nanpercentile(parameter_data[start_bin:end_bin], 5),\n",
    "        vmax=np.nanpercentile(parameter_data[start_bin:end_bin], 95),\n",
    "    )\n",
    "    ax.set_ylim(-1, 30)\n",
    "    ax.set_xlabel(\"Date [UTC]\")\n",
    "    ax.set_ylabel(\"Altitude [km]\")\n",
    "    ax.set_title(\"{} - {} level\".format(parameter, level))\n",
    "    ax.grid()\n",
    "    locator = mdates.AutoDateLocator(minticks=4, maxticks=8)\n",
    "    formatter = mdates.ConciseDateFormatter(locator)\n",
    "    ax.xaxis.set_major_locator(locator)\n",
    "    ax.xaxis.set_major_formatter(formatter)\n",
    "    fig.colorbar(im, ax=ax, aspect=50, pad=0.001)"
   ]
  },
  {
   "cell_type": "code",
   "execution_count": null,
   "metadata": {},
   "outputs": [],
   "source": [
    "# plot observation level\n",
    "plot_parameter_2D(\n",
    "    parameter=\"rayleigh_signal_intensity_rc_normalized\",\n",
    "    x=\"datetime\",\n",
    "    y=\"rayleigh_altitude\",\n",
    "    level=\"observation\",\n",
    "    QC_filter=True,\n",
    "    start_bin=0,\n",
    "    end_bin=-1,\n",
    ")"
   ]
  },
  {
   "cell_type": "code",
   "execution_count": null,
   "metadata": {},
   "outputs": [],
   "source": [
    "# plot measurement level\n",
    "plot_parameter_2D(\n",
    "    parameter=\"rayleigh_signal_intensity_rc_normalized\",\n",
    "    x=\"datetime\",\n",
    "    y=\"rayleigh_altitude\",\n",
    "    level=\"measurement\",\n",
    "    QC_filter=False,\n",
    "    start_bin=0,\n",
    "    end_bin=-1,\n",
    ")"
   ]
  }
 ],
 "metadata": {
  "kernelspec": {
   "display_name": "Python 3",
   "language": "python",
   "name": "python3"
  },
  "language_info": {
   "codemirror_mode": {
    "name": "ipython",
    "version": 3
   },
   "file_extension": ".py",
   "mimetype": "text/x-python",
   "name": "python",
   "nbconvert_exporter": "python",
   "pygments_lexer": "ipython3",
   "version": "3.8.12"
  }
 },
 "nbformat": 4,
 "nbformat_minor": 4
}
