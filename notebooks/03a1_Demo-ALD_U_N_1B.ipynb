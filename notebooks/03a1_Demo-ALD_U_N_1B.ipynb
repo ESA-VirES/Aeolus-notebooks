{
 "cells": [
  {
   "cell_type": "markdown",
   "metadata": {},
   "source": [
    "# ALD_U_N_1B\n",
    "\n",
    "> Abstract: Access to level 1b product"
   ]
  },
  {
   "cell_type": "code",
   "execution_count": 1,
   "metadata": {
    "execution": {
     "iopub.execute_input": "2021-04-28T10:15:04.937219Z",
     "iopub.status.busy": "2021-04-28T10:15:04.936743Z",
     "iopub.status.idle": "2021-04-28T10:15:05.995533Z",
     "shell.execute_reply": "2021-04-28T10:15:05.994977Z"
    }
   },
   "outputs": [
    {
     "name": "stdout",
     "output_type": "stream",
     "text": [
      "Python implementation: CPython\n",
      "Python version       : 3.8.8\n",
      "IPython version      : 7.22.0\n",
      "\n",
      "viresclient: 0.7.2\n",
      "pandas     : 1.2.3\n",
      "xarray     : 0.17.0\n",
      "matplotlib : 3.4.1\n",
      "\n"
     ]
    }
   ],
   "source": [
    "%load_ext watermark\n",
    "%watermark -i -v -p viresclient,pandas,xarray,matplotlib"
   ]
  },
  {
   "cell_type": "code",
   "execution_count": 1,
   "metadata": {
    "execution": {
     "iopub.execute_input": "2021-04-28T10:15:05.999242Z",
     "iopub.status.busy": "2021-04-28T10:15:05.998758Z",
     "iopub.status.idle": "2021-04-28T10:15:06.883293Z",
     "shell.execute_reply": "2021-04-28T10:15:06.882823Z"
    }
   },
   "outputs": [
    {
     "name": "stderr",
     "output_type": "stream",
     "text": [
      "Matplotlib created a temporary config/cache directory at /tmp/matplotlib-j1qiuchb because the default path (/home/jovyan/.config/matplotlib) is not a writable directory; it is highly recommended to set the MPLCONFIGDIR environment variable to a writable directory, in particular to speed up the import of Matplotlib and to better support multiprocessing.\n"
     ]
    }
   ],
   "source": [
    "from viresclient import AeolusRequest\n",
    "import datetime as dt\n",
    "import matplotlib.pyplot as plt\n",
    "\n",
    "# request = AeolusRequest()"
   ]
  },
  {
   "cell_type": "markdown",
   "metadata": {},
   "source": [
    "## Product information\n",
    "\n",
    "Description of product.\n",
    "\n",
    "Documentation:\n",
    "- https://earth.esa.int/eogateway/catalog/aeolus-preliminary-hlos-horizontal-line-of-sight-wind-observations-for-rayleigh-and-mie-receivers\n"
   ]
  },
  {
   "cell_type": "code",
   "execution_count": 3,
   "metadata": {},
   "outputs": [
    {
     "data": {
      "text/plain": [
       "'\\n\\nrequest.set_collection(\\'ALD_U_N_1B\\')\\n\\nrequest.set_fields(observation_fields=[\\n    \"time\",\\n    \"rayleigh_altitude\",\\n    \"rayleigh_HLOS_wind_speed\",\\n    \"rayleigh_bin_quality_flag\"\\n])\\n\\ndata = request.get_between(\\n    start_time=\"2020-04-02T06:09:58Z\",\\n    end_time=\"2020-04-02T07:38:34Z\",\\n    filetype=\"nc\",\\n    asynchronous=False\\n)\\n\\nds = data.as_xarray()\\n\\nrayleigh_data = ds[\\'rayleigh_HLOS_wind_speed\\'].values\\n\\nds[\"rayleigh_HLOS_wind_speed\"].plot.pcolormesh(\\n    x=\"observation\",\\n    yincrease=False,\\n    robust=True\\n)\\n\\n'"
      ]
     },
     "execution_count": 3,
     "metadata": {},
     "output_type": "execute_result"
    }
   ],
   "source": [
    "'''\n",
    "\n",
    "request.set_collection('ALD_U_N_1B')\n",
    "\n",
    "request.set_fields(observation_fields=[\n",
    "    \"time\",\n",
    "    \"rayleigh_altitude\",\n",
    "    \"rayleigh_HLOS_wind_speed\",\n",
    "    \"rayleigh_bin_quality_flag\"\n",
    "])\n",
    "\n",
    "data = request.get_between(\n",
    "    start_time=\"2020-04-02T06:09:58Z\",\n",
    "    end_time=\"2020-04-02T07:38:34Z\",\n",
    "    filetype=\"nc\",\n",
    "    asynchronous=False\n",
    ")\n",
    "\n",
    "ds = data.as_xarray()\n",
    "\n",
    "rayleigh_data = ds['rayleigh_HLOS_wind_speed'].values\n",
    "\n",
    "ds[\"rayleigh_HLOS_wind_speed\"].plot.pcolormesh(\n",
    "    x=\"observation\",\n",
    "    yincrease=False,\n",
    "    robust=True\n",
    ")\n",
    "\n",
    "'''"
   ]
  }
 ],
 "metadata": {
  "kernelspec": {
   "display_name": "Python 3",
   "language": "python",
   "name": "python3"
  },
  "language_info": {
   "codemirror_mode": {
    "name": "ipython",
    "version": 3
   },
   "file_extension": ".py",
   "mimetype": "text/x-python",
   "name": "python",
   "nbconvert_exporter": "python",
   "pygments_lexer": "ipython3",
   "version": "3.8.8"
  }
 },
 "nbformat": 4,
 "nbformat_minor": 4
}
