{
 "cells": [
  {
   "cell_type": "markdown",
   "id": "907dfa6a",
   "metadata": {},
   "source": [
    "# Aeolus Level 2B product\n",
    "\n",
    "## Aeolus scientific wind product\n",
    "\n",
    "> Abstract: Access to level 2B product and its visualization"
   ]
  },
  {
   "cell_type": "markdown",
   "id": "6a14c58e-2252-43b6-bdb9-ddbd6fcc0e09",
   "metadata": {
    "tags": []
   },
   "source": [
    "## Load packages, modules and extensions"
   ]
  },
  {
   "cell_type": "code",
   "execution_count": null,
   "id": "a12b9e67-e2d9-49e9-9ac7-47585a5c9c31",
   "metadata": {
    "tags": []
   },
   "outputs": [],
   "source": [
    "%load_ext blackcellmagic\n",
    "# enable following line for interactive visualization backend for matplotlib\n",
    "# %matplotlib widget\n",
    "# print version info\n",
    "%load_ext watermark\n",
    "%watermark -i -v -p viresclient,pandas,xarray,matplotlib"
   ]
  },
  {
   "cell_type": "code",
   "execution_count": null,
   "id": "1d8abffb-59f9-43a0-88bc-98266f34db52",
   "metadata": {
    "tags": []
   },
   "outputs": [],
   "source": [
    "from viresclient import AeolusRequest\n",
    "import numpy as np\n",
    "from netCDF4 import num2date\n",
    "import matplotlib.pyplot as plt\n",
    "from matplotlib.collections import PolyCollection\n",
    "import matplotlib.cm as cm\n",
    "import matplotlib.colors as colors\n",
    "import cartopy.crs as ccrs"
   ]
  },
  {
   "cell_type": "markdown",
   "id": "90e1f9c9",
   "metadata": {},
   "source": [
    "## Product information\n",
    "\n",
    "The Level 2B wind product of the Aeolus mission is a geo-located consolidated HLOS (horizontal line-of-sight) wind observation with actual atmospheric correction and further bias corrections applied. The product is generated within 3 hours after data acquisition. \n",
    "\n",
    "Documentation:\n",
    "-https://earth.esa.int/eogateway/catalog/aeolus-scientific-l2b-rayleigh-mie-wind-product"
   ]
  },
  {
   "cell_type": "markdown",
   "id": "d1620ca3-c97a-4c83-802d-fee851f4ee2a",
   "metadata": {
    "tags": []
   },
   "source": [
    "### L2B parameters on VirES\n",
    "\n",
    "Many of the parameters of the L2B product can be obtained via the viresclient. A list of selected parameters can be found in the following table. For a complete list, please refer to the web client which lists the available parameters under the \"Data\" tab. For an explanation of the parameters, please refer to the VirES web client or the documentation (link above).\n",
    "The parameters are available specifically for Rayleigh or Mie measurements and are then divided into Rayleigh-clear, Mie-cloudy, Rayleigh-cloudy and Mie-clear, the first two being the most reliable with the smallest errors according to their physical principle.\n",
    "In contrast to the L1B-product, where whole measurement profiles are available, the L2B-product can be considered as point measurements where several profiles are averaged range bin-wise to obtain a \"group\". For each group, start and stop time as well as bottom and top altitude is avaiable as different parameters.  \n",
    "A description of the parameters in the table is shown as tooltip when hovering the parameter name."
   ]
  },
  {
   "cell_type": "markdown",
   "id": "c55291fd-a222-476d-8531-dcdd6fb90e96",
   "metadata": {
    "tags": []
   },
   "source": [
    "| Parameter | Rayleigh channel | Mie channel | Unit |\n",
    "|:----------|:------------------------------:|:-------------------------:|:----:|\n",
    "|[wind_result_start_time](## \"Start date and time of the accumulation [UTC]\")                   | x | x |   |\n",
    "|[wind_result_stop_time](## \"Stop date and time of the accumulation [UTC]\")                     | x | x |   |\n",
    "|[wind_result_COG_time](## \"Center of gravity (CoG) date and time of the accumulation [UTC]\")   | x | x |   |\n",
    "|[wind_result_bottom_altitude](## \"Bottom altitude for the accumulation]\")                      | x | x | m |\n",
    "|[wind_result_top_altitude](## \"Top altitude for the accumulation\")                             | x | x | m |\n",
    "|[wind_result_COG_altitude](## \"Vertical center of gravity altitude for the accumulation\")      | x | x | m |\n",
    "|[wind_result_id](## \"An unique id for this wind in this L2B file\")                             | x | x |   |\n",
    "|[wind_result_range_bin_number](## \"Range bin number this wind result belongs to\")              | x | x |   |\n",
    "|[wind_result_start_latitude](## \"Start latitude for this accumulation\")                        | x | x | 10<sup>-6</sup> DegN |\n",
    "|[wind_result_stop_latitude](## \"Stop latitude for this accumulation\")                          | x | x | 10<sup>-6</sup> DegN |\n",
    "|[wind_result_COG_latitude](## \"CoG latitude for this accumulation\")                            | x | x | 10<sup>-6</sup> DegN |\n",
    "|[wind_result_start_longitude](## \"Start longitude for this accumulation\")                      | x | x | 10<sup>-6</sup> DegE |\n",
    "|[wind_result_stop_longitude](## \"Stop longitude for this accumulation\")                        | x | x | 10<sup>-6</sup> DegE |\n",
    "|[wind_result_COG_longitude](## \"CoG longitude for this accumulation\")                          | x | x | 10<sup>-6</sup> DegE |\n",
    "|[wind_result_lat_of_DEM_intersection](## \"Latitude of DEM intersection for the CoG of this accumulation\")  | x | x | 10<sup>-6</sup> DegN |\n",
    "|[wind_result_lon_of_DEM_intersection](## \"Longitude of DEM intersection for the CoG of this accumulation\") | x | x | 10<sup>-6</sup> DegE |\n",
    "|[wind_result_alt_of_DEM_intersection](## \"Altitude of DEM intersection for the CoG of this accumulation\")  | x | x | m |\n",
    "|[wind_result_geoid_separation](## \"Height of geoid above WGS84 ellipsoid for each wind result\")  | x | x | m |\n",
    "|[wind_result_HLOS_error](## \"Error estimate reported by the Mie processing algorithm\")  | x | x | cm/s |\n",
    "|[wind_result_reference_hlos](## \"Reference HLOS wind taken from the matching profile in the AUX_MET file\")  | x | x | cm/s |\n",
    "|[wind_result_SNR](## \"Signal to noise ratio of the Mie spectrum\")  |   | x |  |\n",
    "|[wind_result_scattering_ratio](## \"Scattering ratio used to estimate the extinction (Mie-channel) or Mie signal for Mie decontamination (Rayleigh-channel) for this wind result\")  | x | x |  |\n",
    "|[wind_result_background_high](## \"A value of 1 indicates that this data was taken during daylight\")  | x | x |  |\n",
    "|[wind_result_observation_type](## \"Divides the observation conditions into undefined=0, cloudy=1, clear=2\")  | x | x |  |\n",
    "|[wind_result_validity_flag](## \"Validity flag (1 or TRUE = valid, 0 or FALSE = invalid)\")  | x | x |  |\n",
    "|[wind_result_wind_velocity](## \"Wind velocity given in cm/s and rounded to the nearest integer)\")  | x | x | cm/s |\n",
    "|[wind_result_integration_length](## \"Horizontal integration length for the reported wind\")  | x | x | m |\n",
    "|[wind_result_num_of_measurements](## \"Number of measurements used to construct the accumulation used to derive the wind result\")  | x | x |  |\n",
    "|[wind_result_albedo_off_nadir](## \"Wind result albedo off nadir\")  | x | x |  |\n",
    "|[wind_result_reference_temperature](## \"Reference temperature used for inverting the Rayleigh response into an HLOS wind\")  | x |   | 10<sup>-2</sup>K |\n",
    "|[wind_result_reference_pressure](## \"Reference pressure used for inverting the Rayleigh response into an HLOS wind\")  | x |   | Pa |\n"
   ]
  },
  {
   "cell_type": "markdown",
   "id": "43175033-dd9c-4a49-a8ec-6c4f87136b8a",
   "metadata": {
    "tags": []
   },
   "source": [
    "## Defining product, parameters and time for the data request\n",
    "Keep in mind that the time for **one full orbit** is aorund **90 minutes**.\n",
    "The **repeat cycle** of the orbits is **7 days**."
   ]
  },
  {
   "cell_type": "code",
   "execution_count": null,
   "id": "c9e1d485-2300-41ec-894f-2d3cb647c94d",
   "metadata": {
    "tags": []
   },
   "outputs": [],
   "source": [
    "# Aeolus product\n",
    "DATA_PRODUCT = \"ALD_U_N_2B\"\n",
    "\n",
    "# measurement period in yyyy-mm-ddTHH:MM:SS\n",
    "measurement_start = \"2020-10-20T00:00:00Z\"\n",
    "measurement_stop = \"2020-10-20T02:00:00Z\""
   ]
  },
  {
   "cell_type": "markdown",
   "id": "b9587565-00f1-4408-9739-6a7eec516dbf",
   "metadata": {
    "tags": []
   },
   "source": [
    "### Define Rayleigh parameter"
   ]
  },
  {
   "cell_type": "code",
   "execution_count": null,
   "id": "d3920d61-b76e-401f-92dc-fc2cca22f820",
   "metadata": {
    "tags": []
   },
   "outputs": [],
   "source": [
    "# Product parameters to retrieve\n",
    "# uncomment parameters of interest\n",
    "\n",
    "# Rayleigh wind fields\n",
    "parameter_rayleigh = [\n",
    "    \"wind_result_start_time\",\n",
    "    \"wind_result_stop_time\",\n",
    "    \"wind_result_bottom_altitude\",\n",
    "    \"wind_result_top_altitude\",\n",
    "    \"wind_result_range_bin_number\",\n",
    "    \"wind_result_start_latitude\",\n",
    "    \"wind_result_start_longitude\",\n",
    "    \"wind_result_stop_latitude\",\n",
    "    \"wind_result_stop_longitude\",\n",
    "    \"wind_result_COG_latitude\",\n",
    "    \"wind_result_COG_longitude\",\n",
    "    \"wind_result_HLOS_error\",\n",
    "    \"wind_result_wind_velocity\",\n",
    "    \"wind_result_observation_type\",\n",
    "    \"wind_result_validity_flag\",\n",
    "]\n",
    "parameter_rayleigh = [\"rayleigh_\" + param for param in parameter_rayleigh]"
   ]
  },
  {
   "cell_type": "markdown",
   "id": "de21a90c-2cf8-445c-b088-000f77dc6574",
   "metadata": {
    "tags": []
   },
   "source": [
    "### Define Mie parameter"
   ]
  },
  {
   "cell_type": "code",
   "execution_count": null,
   "id": "0b1020c8-92b2-4dd0-961e-8e9584405d63",
   "metadata": {
    "tags": []
   },
   "outputs": [],
   "source": [
    "# Mie wind fields\n",
    "parameter_mie = [\n",
    "    \"wind_result_start_time\",\n",
    "    \"wind_result_stop_time\",\n",
    "    \"wind_result_bottom_altitude\",\n",
    "    \"wind_result_top_altitude\",\n",
    "    \"wind_result_range_bin_number\",\n",
    "    \"wind_result_start_latitude\",\n",
    "    \"wind_result_start_longitude\",\n",
    "    \"wind_result_stop_latitude\",\n",
    "    \"wind_result_stop_longitude\",\n",
    "    \"wind_result_COG_latitude\",\n",
    "    \"wind_result_COG_longitude\",\n",
    "    \"wind_result_HLOS_error\",\n",
    "    \"wind_result_wind_velocity\",\n",
    "    \"wind_result_observation_type\",\n",
    "    \"wind_result_validity_flag\",\n",
    "]\n",
    "parameter_mie = [\"mie_\" + param for param in parameter_mie]"
   ]
  },
  {
   "cell_type": "markdown",
   "id": "89ff04c0-98cf-4f9f-95cb-b2a8f1a0c5ff",
   "metadata": {
    "tags": []
   },
   "source": [
    "## Retrieve data from VRE server"
   ]
  },
  {
   "cell_type": "code",
   "execution_count": null,
   "id": "e06840a0-b7d9-45a0-8184-2e67bc684e58",
   "metadata": {
    "tags": []
   },
   "outputs": [],
   "source": [
    "# Data request for Rayleigh wind measurements\n",
    "# check if parameter list is not empty\n",
    "if len(parameter_rayleigh) > 0:\n",
    "\n",
    "    request = AeolusRequest()\n",
    "\n",
    "    request.set_collection(DATA_PRODUCT)\n",
    "\n",
    "    # set wind fields\n",
    "    request.set_fields(\n",
    "        rayleigh_wind_fields=parameter_rayleigh,\n",
    "        # mie_wind_fields=parameter_mie,\n",
    "    )\n",
    "\n",
    "    # set start and end time and request data\n",
    "    data_rayleigh = request.get_between(\n",
    "        start_time=measurement_start, end_time=measurement_stop, filetype=\"nc\", asynchronous=True\n",
    "    )\n",
    "\n",
    "# Data request for Mie wind measurements\n",
    "# check if parameter list is not empty\n",
    "if len(parameter_mie) > 0:\n",
    "\n",
    "    request = AeolusRequest()\n",
    "\n",
    "    request.set_collection(DATA_PRODUCT)\n",
    "\n",
    "    # set measurement fields\n",
    "    request.set_fields(\n",
    "        mie_wind_fields=parameter_mie,\n",
    "    )\n",
    "\n",
    "    # set start and end time and request data\n",
    "    data_mie = request.get_between(\n",
    "        start_time=measurement_start, end_time=measurement_stop, filetype=\"nc\", asynchronous=True\n",
    "    )\n",
    "\n",
    "# Save data as xarray data sets\n",
    "# check if variable is assigned\n",
    "if \"data_rayleigh\" in globals():\n",
    "    ds_rayleigh = data_rayleigh.as_xarray()\n",
    "if \"data_mie\" in globals():\n",
    "    ds_mie = data_mie.as_xarray()"
   ]
  },
  {
   "cell_type": "markdown",
   "id": "26261442-ba2a-4603-a1fe-97bc5f8a4b99",
   "metadata": {
    "tags": []
   },
   "source": [
    "## Plot overview map\n",
    "\n",
    "Here all observation types (Rayleigh-clear, Rayleigh-cloudy, Mie-clear, Mie-cloudy) are plotted."
   ]
  },
  {
   "cell_type": "code",
   "execution_count": null,
   "id": "96cf2636-24c2-4149-bd75-375037b011ba",
   "metadata": {
    "tags": []
   },
   "outputs": [],
   "source": [
    "fig, ax = plt.subplots(\n",
    "    2,\n",
    "    1,\n",
    "    figsize=(8, 8),\n",
    "    subplot_kw={\"projection\": ccrs.PlateCarree()},\n",
    "    constrained_layout=True,\n",
    ")\n",
    "for axis, ds, obs_type in zip(ax, [ds_rayleigh, ds_mie], [\"rayleigh\", \"mie\"]):\n",
    "    axis.stock_img()\n",
    "    gl = axis.gridlines(draw_labels=True, linewidth=0.3, color=\"black\", alpha=0.5, linestyle=\"-\")\n",
    "    axis.scatter(\n",
    "        ds[obs_type + \"_wind_result_COG_longitude\"],\n",
    "        ds[obs_type + \"_wind_result_COG_latitude\"],\n",
    "        marker=\"o\",\n",
    "        c=\"b\",\n",
    "        s=5,\n",
    "        transform=ccrs.Geodetic(),\n",
    "    )\n",
    "    axis.scatter(\n",
    "        ds[obs_type + \"_wind_result_COG_longitude\"][0],\n",
    "        ds[obs_type + \"_wind_result_COG_latitude\"][0],\n",
    "        marker=\"o\",\n",
    "        c=\"g\",\n",
    "        edgecolor=\"g\",\n",
    "        s=40,\n",
    "        label=\"start\",\n",
    "        transform=ccrs.Geodetic(),\n",
    "    )\n",
    "    axis.scatter(\n",
    "        ds[obs_type + \"_wind_result_COG_longitude\"][-1],\n",
    "        ds[obs_type + \"_wind_result_COG_latitude\"][-1],\n",
    "        marker=\"o\",\n",
    "        c=\"r\",\n",
    "        edgecolor=\"r\",\n",
    "        s=40,\n",
    "        label=\"stop\",\n",
    "        transform=ccrs.Geodetic(),\n",
    "    )\n",
    "    axis.legend()\n",
    "    axis.set_title(obs_type.title())\n",
    "fig.suptitle(\"Aeolus orbit \\n from {} to {} \\n\".format(measurement_start, measurement_stop))"
   ]
  },
  {
   "cell_type": "markdown",
   "id": "01496455-4faf-4ecc-be57-25ad0267db22",
   "metadata": {
    "tags": []
   },
   "source": [
    "## Plot parameter\n",
    "\n",
    "### Curtain plot\n",
    "Define 2D plot function for L2B point-like measurements"
   ]
  },
  {
   "cell_type": "code",
   "execution_count": null,
   "id": "7a1f1ac8-97d9-4510-a640-f50166c03337",
   "metadata": {
    "tags": []
   },
   "outputs": [],
   "source": [
    "def plot_parameter_2D(\n",
    "    parameter=\"wind_result_wind_velocity\",\n",
    "    channel=\"rayleigh\",\n",
    "    obs_type=\"clear\",\n",
    "    QC_filter=True,\n",
    "    error_estimate_threshold=800,\n",
    "    start_bin=0,\n",
    "    end_bin=-1,\n",
    "):\n",
    "\n",
    "    if channel == \"rayleigh\":\n",
    "        ds = ds_rayleigh\n",
    "    elif channel == \"mie\":\n",
    "        ds = ds_mie\n",
    "\n",
    "    # define necessary parameters for plotting\n",
    "    X0 = ds[channel + \"_wind_result_start_time\"].values\n",
    "    X1 = ds[channel + \"_wind_result_stop_time\"].values\n",
    "\n",
    "    Y0 = ds[channel + \"_wind_result_bottom_altitude\"].values / 1000.0\n",
    "    Y1 = ds[channel + \"_wind_result_top_altitude\"].values / 1000.0\n",
    "    Z = ds[channel + \"_\" + parameter].values\n",
    "\n",
    "    # create a mask out of different filters which can be applied to the different parameters\n",
    "    mask = np.zeros(len(Z), dtype=bool)\n",
    "\n",
    "    # mask dependent on start and end bing given as parameter to the plot function\n",
    "    mask[0:start_bin] = True\n",
    "    mask[end_bin:-1] = True\n",
    "\n",
    "    # mask where validity flag is 0\n",
    "    if QC_filter:\n",
    "        mask = mask | (ds[channel + \"_wind_result_validity_flag\"] == 0)\n",
    "\n",
    "    # mask dependent on observation type\n",
    "    if obs_type == \"cloudy\":\n",
    "        mask = mask | (ds[channel + \"_wind_result_observation_type\"] != 1)\n",
    "    elif obs_type == \"clear\":\n",
    "        mask = mask | (ds[channel + \"_wind_result_observation_type\"] != 2)\n",
    "\n",
    "    # mask where wind results have error estimates larger than a given threshold\n",
    "    mask = mask | (ds[channel + \"_wind_result_HLOS_error\"] > error_estimate_threshold)\n",
    "\n",
    "    # mask all necessary parameters for plotting\n",
    "    # tilde before mask inverts the mask\n",
    "    X0 = X0[~mask]\n",
    "    X1 = X1[~mask]\n",
    "    Y0 = Y0[~mask]\n",
    "    Y1 = Y1[~mask]\n",
    "    Z = Z[~mask]\n",
    "\n",
    "    patches = []\n",
    "    for x0, x1, y0, y1 in zip(X0, X1, Y0, Y1):\n",
    "        patches.append(((x0, y0), (x0, y1), (x1, y1), (x1, y0)))\n",
    "\n",
    "    # define min and max value for the colorbar\n",
    "    if parameter == \"wind_result_wind_velocity\":\n",
    "        Z_vmax = np.amax(np.abs(np.asarray([np.nanpercentile(Z, 2), np.nanpercentile(Z, 98)])))\n",
    "        Z_vmin = -Z_vmax\n",
    "    else:\n",
    "        Z_vmax = np.nanpercentile(Z, 99)\n",
    "        Z_vmin = np.nanpercentile(Z, 1)\n",
    "\n",
    "    fig, ax = plt.subplots(1, 1, figsize=(10, 6), constrained_layout=True)\n",
    "    coll = PolyCollection(\n",
    "        patches,\n",
    "        array=Z,\n",
    "        cmap=cm.RdBu_r,\n",
    "        norm=colors.Normalize(\n",
    "            vmin=Z_vmin,\n",
    "            vmax=Z_vmax,\n",
    "            clip=False,\n",
    "        ),\n",
    "    )\n",
    "    ax.add_collection(coll)\n",
    "\n",
    "    # ax.set_ylim(-1, 30)\n",
    "    ax.set_xlabel(\"Date [UTC]\")\n",
    "    ax.set_ylabel(\"Altitude [km]\")\n",
    "    ax.set_title(\"{} - {} \\n {} wind results\".format(channel.title(), parameter, len(Z)))\n",
    "    ax.grid()\n",
    "\n",
    "    def format_date(x, pos=None):\n",
    "        dt_obj = num2date(x, units=\"s since 2000-01-01\", only_use_cftime_datetimes=False)\n",
    "        return dt_obj.strftime(\"%H:%M:%S\")\n",
    "\n",
    "    ax.xaxis.set_major_formatter(format_date)\n",
    "    ax.autoscale()\n",
    "    fig.colorbar(coll, ax=ax, aspect=50, pad=0.01)\n",
    "    fig.autofmt_xdate()"
   ]
  },
  {
   "cell_type": "code",
   "execution_count": null,
   "id": "bd4e747b-7edb-46fb-9ffc-d15c81d853a9",
   "metadata": {
    "tags": []
   },
   "outputs": [],
   "source": [
    "plot_parameter_2D(\n",
    "    parameter=\"wind_result_wind_velocity\",\n",
    "    channel=\"rayleigh\",\n",
    "    obs_type=\"clear\",\n",
    "    QC_filter=True,\n",
    "    error_estimate_threshold=800,\n",
    "    start_bin=0,\n",
    "    end_bin=-1,\n",
    ")"
   ]
  },
  {
   "cell_type": "code",
   "execution_count": null,
   "id": "d9a4d254-f707-4ca0-9314-2430a0fdddf1",
   "metadata": {
    "tags": []
   },
   "outputs": [],
   "source": [
    "plot_parameter_2D(\n",
    "    parameter=\"wind_result_wind_velocity\",\n",
    "    channel=\"mie\",\n",
    "    obs_type=\"cloudy\",\n",
    "    QC_filter=True,\n",
    "    error_estimate_threshold=500,\n",
    "    start_bin=0,\n",
    "    end_bin=-1,\n",
    ")"
   ]
  },
  {
   "cell_type": "code",
   "execution_count": null,
   "id": "0fd1c897-92fe-4903-862f-7682e3a85085",
   "metadata": {},
   "outputs": [],
   "source": []
  }
 ],
 "metadata": {
  "kernelspec": {
   "display_name": "Python 3",
   "language": "python",
   "name": "python3"
  },
  "language_info": {
   "codemirror_mode": {
    "name": "ipython",
    "version": 3
   },
   "file_extension": ".py",
   "mimetype": "text/x-python",
   "name": "python",
   "nbconvert_exporter": "python",
   "pygments_lexer": "ipython3",
   "version": "3.8.12"
  }
 },
 "nbformat": 4,
 "nbformat_minor": 5
}
