{
 "cells": [
  {
   "cell_type": "markdown",
   "id": "6d8d8146-74c6-4cb2-9676-3bcab1370b27",
   "metadata": {},
   "source": [
    "# Temporal error evolution\n",
    "\n",
    "> Authors: Alexander Geiss\n",
    ">\n",
    "> Abstract: Using AUX_MET data to determine the temporal evolution of L2B systematic and random errors for longer time periods.  \n",
    "\n",
    "This notebook is currently \"in progress\" and covers the loading of the data for now."
   ]
  },
  {
   "cell_type": "markdown",
   "id": "4194c59e-a029-4cf1-b736-0d2f935a6f4e",
   "metadata": {},
   "source": [
    "## Load packages, modules and extensions"
   ]
  },
  {
   "cell_type": "code",
   "execution_count": null,
   "id": "def34edc-d083-4269-873a-d7bb7abdc255",
   "metadata": {
    "tags": []
   },
   "outputs": [],
   "source": [
    "# %load_ext blackcellmagic\n",
    "# enable following line for interactive visualization backend for matplotlib\n",
    "# %matplotlib widget\n",
    "# print version info\n",
    "%load_ext watermark\n",
    "%watermark -i -v -p viresclient,pandas,xarray,matplotlib"
   ]
  },
  {
   "cell_type": "code",
   "execution_count": null,
   "id": "8b61d389-b6d7-40b4-a627-31aa28f47895",
   "metadata": {
    "tags": []
   },
   "outputs": [],
   "source": [
    "from viresclient import AeolusRequest\n",
    "import numpy as np\n",
    "import netCDF4 as nc\n",
    "import xarray as xr\n",
    "import pandas as pd\n",
    "import os\n",
    "# import multiprocessing as mp\n",
    "# import matplotlib.pyplot as plt\n",
    "# from matplotlib.collections import PolyCollection\n",
    "# import matplotlib.cm as cm\n",
    "# import matplotlib.colors as colors\n",
    "# import cartopy.crs as ccrs"
   ]
  },
  {
   "cell_type": "markdown",
   "id": "7c2fb453-bfa2-4983-926b-d7d647552ec0",
   "metadata": {},
   "source": [
    "## Load AUX_MET and Aeolus L2B data\n",
    "For a detailed description on how to load AUX_MET and L2B data, please see the corresponding notebooks.  \n",
    "Computing long-term statistics of Aeolus' errors requires a different strategy for loading and handling large data sets with the available system resources. One option is to create requests on a monthly basis and save the retrieved data directly as netcdf data in the user space. Because some of the data within one month can be incomplete this would lead to a failed request for the whole month. Therefore, we reduce each request to half-month periods.\n",
    "The retrieved and saved data can then be loaded with xarray and dask functionality to concatenate and process the files. Here it must be taken care of saved but invalid data which could be empty."
   ]
  },
  {
   "cell_type": "code",
   "execution_count": null,
   "id": "d546c2d7-914e-437b-8aac-251721e120b1",
   "metadata": {},
   "outputs": [],
   "source": [
    "# create start and end dates (here for 1 year of data)\n",
    "dates = pd.date_range(start='2021-01-01', end='2022-01-01', freq='SMS').to_pydatetime()\n",
    "start_dates = dates[:-1]\n",
    "end_dates = dates[1:]"
   ]
  },
  {
   "cell_type": "markdown",
   "id": "5e0f9e25-5de5-495b-a890-078cc1d3204d",
   "metadata": {},
   "source": [
    "### Load L2B data\n",
    "Define fields"
   ]
  },
  {
   "cell_type": "code",
   "execution_count": null,
   "id": "bdef1a92-ca68-41f0-ae2c-0bf8a9428bc0",
   "metadata": {},
   "outputs": [],
   "source": [
    "# Aeolus product\n",
    "DATA_PRODUCT = \"ALD_U_N_2B\"\n",
    "\n",
    "# define fields to retrieve\n",
    "parameter_rayleigh = [\n",
    "    \"rayleigh_wind_result_start_time\",\n",
    "    \"rayleigh_wind_result_stop_time\",\n",
    "    \"rayleigh_wind_result_top_altitude\",\n",
    "    \"rayleigh_wind_result_bottom_altitude\",\n",
    "    \"rayleigh_wind_result_start_latitude\",\n",
    "    \"rayleigh_wind_result_start_longitude\",\n",
    "    \"rayleigh_wind_result_stop_latitude\",\n",
    "    \"rayleigh_wind_result_stop_longitude\",\n",
    "    \"rayleigh_wind_result_range_bin_number\",\n",
    "    \"rayleigh_wind_result_wind_velocity\",\n",
    "    \"rayleigh_wind_result_HLOS_error\",\n",
    "    \"rayleigh_wind_result_los_azimuth\",\n",
    "    \"rayleigh_wind_result_observation_type\",\n",
    "    \"rayleigh_wind_result_validity_flag\",\n",
    "]\n",
    "\n",
    "parameter_mie = [\n",
    "    \"mie_wind_result_start_time\",\n",
    "    \"mie_wind_result_stop_time\",\n",
    "    \"mie_wind_result_top_altitude\",\n",
    "    \"mie_wind_result_bottom_altitude\",\n",
    "    \"mie_wind_result_start_latitude\",\n",
    "    \"mie_wind_result_start_longitude\",\n",
    "    \"mie_wind_result_stop_latitude\",\n",
    "    \"mie_wind_result_stop_longitude\",\n",
    "    \"mie_wind_result_range_bin_number\",\n",
    "    \"mie_wind_result_wind_velocity\",\n",
    "    \"mie_wind_result_HLOS_error\",\n",
    "    \"mie_wind_result_los_azimuth\",\n",
    "    \"mie_wind_result_observation_type\",\n",
    "    \"mie_wind_result_validity_flag\",\n",
    "]"
   ]
  },
  {
   "cell_type": "markdown",
   "id": "37d31567-98ba-43c6-a405-81eda5729040",
   "metadata": {},
   "source": [
    "Generate file names and paths for saving data periods as netCDF files.  "
   ]
  },
  {
   "cell_type": "code",
   "execution_count": null,
   "id": "4a1e90c7-95d4-4482-a95e-99e54a230fa8",
   "metadata": {},
   "outputs": [],
   "source": [
    "L2B_rayleigh_filenames = [\n",
    "    f\"L2B_rayleigh_{start.strftime('%Y-%m-%d')}-{end.strftime('%Y-%m-%d')}.nc\"\n",
    "    for start, end in zip(start_dates, end_dates)\n",
    "]\n",
    "L2B_mie_filenames = [\n",
    "    f\"L2B_mie_{start.strftime('%Y-%m-%d')}-{end.strftime('%Y-%m-%d')}.nc\"\n",
    "    for start, end in zip(start_dates, end_dates)\n",
    "]\n",
    "user_folder = os.path.expanduser(\"~\")\n",
    "L2B_folder = os.path.join(user_folder, \"files/L2B\")\n",
    "os.makedirs(L2B_folder, exist_ok=True)\n",
    "L2B_rayleigh_file_paths = [\n",
    "    os.path.join(L2B_folder, filename) for filename in L2B_rayleigh_filenames\n",
    "]\n",
    "L2B_mie_file_paths = [os.path.join(L2B_folder, filename) for filename in L2B_mie_filenames]"
   ]
  },
  {
   "cell_type": "markdown",
   "id": "49333c1a-8ba2-4e3e-b6d0-0584dac6b5d7",
   "metadata": {},
   "source": [
    "**Request L2B Rayleigh data**  \n",
    "This can take some time depending on the requested time period.  \n",
    "Here we repeat the get_between method for our list of half-months and save the retrieved (netCDF)-files to our user space right away using the to_file method.\n",
    "The data for the requested period is only retrieved and saved if it is not yet available under the defined file path.\n",
    "The list where the file paths are saved is then checked for files which are empty (have no groups in case of L2B data)."
   ]
  },
  {
   "cell_type": "code",
   "execution_count": null,
   "id": "f7436375-2e4a-4e8f-b8fb-c3120f596c4b",
   "metadata": {},
   "outputs": [],
   "source": [
    "# Create Aeolus request\n",
    "request = AeolusRequest()\n",
    "request.set_collection(DATA_PRODUCT)\n",
    "request.set_fields(rayleigh_wind_fields=parameter_rayleigh)\n",
    "\n",
    "# Set bounding box for region around Germany\n",
    "request.set_bbox({\"n\": 60, \"w\": 0, \"s\": 45, \"e\": 20})\n",
    "\n",
    "# create list which will hold the loaded Rayleigh data\n",
    "L2B_rayleigh_file_paths_loaded = []\n",
    "for measurement_start, measurement_stop, filename in zip(\n",
    "    start_dates, end_dates, L2B_rayleigh_file_paths\n",
    "):\n",
    "    # check if file already exists\n",
    "    if not os.path.isfile(filename):\n",
    "        try:\n",
    "            L2B_rayleigh_data = request.get_between(\n",
    "                start_time=measurement_start,\n",
    "                end_time=measurement_stop,\n",
    "                filetype=\"nc\",\n",
    "                asynchronous=True,\n",
    "            ).to_file(filename, overwrite=True)\n",
    "            L2B_rayleigh_file_paths_loaded.append(filename)\n",
    "        except Exception as e:\n",
    "            print(f\"No data for the period {measurement_start}-{measurement_stop} available\")\n",
    "            # context is printed here because it holds the true reason for the Exception\n",
    "            print(e.__context__)\n",
    "    else:\n",
    "        L2B_rayleigh_file_paths_loaded.append(filename)\n",
    "\n",
    "# Check file list for empty files\n",
    "L2B_rayleigh_file_paths_valid = [i for i in L2B_rayleigh_file_paths_loaded if nc.Dataset(i).groups]"
   ]
  },
  {
   "cell_type": "markdown",
   "id": "20c828a5-157d-46fc-b1cb-07571475bce8",
   "metadata": {},
   "source": [
    "**Request L2B Mie data**  \n",
    "This can take some time depending on the requested time period."
   ]
  },
  {
   "cell_type": "code",
   "execution_count": null,
   "id": "1632eb32-2460-420a-a35f-1aa7584a7ea3",
   "metadata": {},
   "outputs": [],
   "source": [
    "# Create Aeolus request\n",
    "request = AeolusRequest()\n",
    "request.set_collection(DATA_PRODUCT)\n",
    "request.set_fields(mie_wind_fields=parameter_mie)\n",
    "\n",
    "# Set bounding box for region around Germany\n",
    "request.set_bbox({\"n\": 60, \"w\": 0, \"s\": 45, \"e\": 20})\n",
    "\n",
    "# create list which will hold the loaded Mie data\n",
    "L2B_mie_file_paths_loaded = []\n",
    "for measurement_start, measurement_stop, filename in zip(\n",
    "    start_dates, end_dates, L2B_mie_file_paths\n",
    "):\n",
    "    # check if file already exists\n",
    "    if not os.path.isfile(filename):\n",
    "        try:\n",
    "            L2B_mie_data = request.get_between(\n",
    "                start_time=measurement_start,\n",
    "                end_time=measurement_stop,\n",
    "                filetype=\"nc\",\n",
    "                asynchronous=True,\n",
    "            ).to_file(filename, overwrite=True)\n",
    "            L2B_mie_file_paths_loaded.append(filename)\n",
    "        except Exception as e:\n",
    "            print(f\"No data for the period {measurement_start}-{measurement_stop} available\")\n",
    "            print(e.__context__)\n",
    "    else:\n",
    "        L2B_mie_file_paths_loaded.append(filename)\n",
    "\n",
    "# Check file list for empty files\n",
    "L2B_mie_file_paths_valid = [i for i in L2B_mie_file_paths_loaded if nc.Dataset(i).groups]"
   ]
  },
  {
   "cell_type": "markdown",
   "id": "224aaa89-b6ea-42bf-99d8-55b0e2ab16bc",
   "metadata": {},
   "source": [
    "**Read netCDF-data as xarray dataset (dask array)**  \n",
    "xarray.open_mfdataset can be used to read multiple netCDF files into a single xarray dataset. Because data is stored in groups, they must be explicitly passed as parameter to the open_mfdataset method. \n",
    "The group names can be checked with the netCDF4 module and are depending on the requested fields.\n",
    "The dimension which shall be used for concatenation, must also be defined. Data is then loaded as Dask arrays. (https://xarray.pydata.org/en/stable/user-guide/dask.html)"
   ]
  },
  {
   "cell_type": "code",
   "execution_count": null,
   "id": "7c684653-1b16-46f6-87f5-bb5d7b6bd960",
   "metadata": {},
   "outputs": [],
   "source": [
    "ds_rayleigh = xr.open_mfdataset(\n",
    "    L2B_rayleigh_file_paths_valid,\n",
    "    group=\"rayleigh_wind_data\",\n",
    "    combine=\"nested\",\n",
    "    concat_dim=\"rayleigh_wind_data\",\n",
    ")\n",
    "ds_mie = xr.open_mfdataset(\n",
    "    L2B_mie_file_paths_valid, group=\"mie_wind_data\", combine=\"nested\", concat_dim=\"mie_wind_data\"\n",
    ")"
   ]
  },
  {
   "cell_type": "markdown",
   "id": "7c84a413-3559-4c43-a2c9-5b4d2339a8e5",
   "metadata": {},
   "source": [
    "### Load AUX_MET data\n",
    "Define fields"
   ]
  },
  {
   "cell_type": "code",
   "execution_count": null,
   "id": "b27231dc-820a-4142-828a-a28e2219e02c",
   "metadata": {
    "tags": []
   },
   "outputs": [],
   "source": [
    "# Aeolus product\n",
    "DATA_PRODUCT = \"AUX_MET_12\"\n",
    "\n",
    "# off-nadir parameter\n",
    "parameter_off_nadir = [\n",
    "    \"time\",\n",
    "    \"latitude\",\n",
    "    \"longitude\",\n",
    "    \"surface_altitude\",\n",
    "    \"layer_altitude\",\n",
    "    \"layer_wind_component_u\",\n",
    "    \"layer_wind_component_v\",\n",
    "]\n",
    "parameter_off_nadir = [param + \"_off_nadir\" for param in parameter_off_nadir]"
   ]
  },
  {
   "cell_type": "markdown",
   "id": "aca3eace-b49a-4444-abd5-dad1bf023105",
   "metadata": {},
   "source": [
    "Generate file names and paths for saving data periods as netCDF files.  "
   ]
  },
  {
   "cell_type": "code",
   "execution_count": null,
   "id": "8407a47d-8686-4184-8795-fd103b06feed",
   "metadata": {},
   "outputs": [],
   "source": [
    "AUX_MET_filenames = [\n",
    "    f\"AUX_MET_{start.strftime('%Y-%m-%d')}-{end.strftime('%Y-%m-%d')}.nc\"\n",
    "    for start, end in zip(start_dates, end_dates)\n",
    "]\n",
    "user_folder = os.path.expanduser(\"~\")\n",
    "AUX_MET_folder = os.path.join(user_folder, \"files/AUX_MET\")\n",
    "os.makedirs(AUX_MET_folder, exist_ok=True)\n",
    "AUX_MET_file_paths = [os.path.join(AUX_MET_folder, filename) for filename in AUX_MET_filenames]"
   ]
  },
  {
   "cell_type": "markdown",
   "id": "e9faba77-8003-476f-8b37-857281a67810",
   "metadata": {},
   "source": [
    "**Request AUX_MET data**  \n",
    "This can take some time depending on the requested time period."
   ]
  },
  {
   "cell_type": "code",
   "execution_count": null,
   "id": "973ae035-1733-4ff7-84be-512f38aa5e53",
   "metadata": {
    "tags": []
   },
   "outputs": [],
   "source": [
    "# Create Aeolus request\n",
    "request = AeolusRequest()\n",
    "request.set_collection(DATA_PRODUCT)\n",
    "request.set_fields(fields=parameter_off_nadir)\n",
    "\n",
    "# Set bounding box for region around Germany\n",
    "request.set_bbox({\"n\": 60, \"w\": 0, \"s\": 45, \"e\": 20})\n",
    "\n",
    "# create list which will hold the loaded AUX_MET data\n",
    "AUX_MET_file_paths_loaded = []\n",
    "for measurement_start, measurement_stop, filename in zip(\n",
    "    start_dates, end_dates, AUX_MET_file_paths\n",
    "):\n",
    "    # check if file already exists\n",
    "    if not os.path.isfile(filename):\n",
    "        try:\n",
    "            AUX_MET_data = request.get_between(\n",
    "                start_time=measurement_start,\n",
    "                end_time=measurement_stop,\n",
    "                filetype=\"nc\",\n",
    "                asynchronous=True,\n",
    "            ).to_file(filename, overwrite=True)\n",
    "            AUX_MET_file_paths_loaded.append(filename)\n",
    "        except RuntimeError:\n",
    "            print(f\"No data for the period {measurement_start}-{measurement_stop} available\")\n",
    "    else:\n",
    "        AUX_MET_file_paths_loaded.append(filename)\n",
    "\n",
    "# Check file list for empty files (here if variables exist)\n",
    "AUX_MET_file_paths_valid = [i for i in AUX_MET_file_paths_loaded if nc.Dataset(i).variables]"
   ]
  },
  {
   "cell_type": "markdown",
   "id": "f7b26c90-e94d-4223-9404-10848894daef",
   "metadata": {},
   "source": [
    "**Read netCDF-data as xarray dataset (dask array)**  \n",
    "AUX_MET data is not saved in netCDF-groups and thus no group must be passed."
   ]
  },
  {
   "cell_type": "code",
   "execution_count": null,
   "id": "327ec8d8-0d70-4277-b3a9-feae55d8e7d1",
   "metadata": {},
   "outputs": [],
   "source": [
    "ds_aux_met = xr.open_mfdataset(AUX_MET_file_paths, combine=\"nested\", concat_dim=\"off_nadir\")"
   ]
  },
  {
   "cell_type": "markdown",
   "id": "7f6105c3-f91c-4fc9-883d-c786d03ab762",
   "metadata": {},
   "source": [
    "## Spatial and temporal collocation (in progress)\n",
    "AUX_MET data is available with 3 seconds temporal resolution and 137 altitude levels with around 100 levels up to 25 km. That is much higher than the Aeolus vertical resolution of 24 atmospheric range bins.  \n",
    "In the next steps a temporal and spatially horizontal collocation is needed to look for all AUX_MET profiles within one L2B group.\n",
    "Subsequently, a vertical averaging to the Aeolus range bin size is needed.  \n",
    "The L2B line of sight azimuth angle must then be used to calculate the HLOS wind speeds from the wind components in the AUX_MET data."
   ]
  },
  {
   "cell_type": "markdown",
   "id": "c20e7f6c-70fc-4986-b9df-e2a39207bf3e",
   "metadata": {},
   "source": [
    "## Data filtering (in progress)\n",
    "Currently, using data from the FM-A data set still requires exclusion of hot-pixel data which will be solved with the coming reprocessed data set.\n",
    "In addition, also blacklisted data has to be excluded."
   ]
  },
  {
   "cell_type": "markdown",
   "id": "2173bce3-23cd-4d31-b009-c3bb732145f9",
   "metadata": {},
   "source": [
    "## Determination of random and systematic errors (in progress)\n"
   ]
  }
 ],
 "metadata": {
  "kernelspec": {
   "display_name": "Python 3",
   "language": "python",
   "name": "python3"
  },
  "language_info": {
   "codemirror_mode": {
    "name": "ipython",
    "version": 3
   },
   "file_extension": ".py",
   "mimetype": "text/x-python",
   "name": "python",
   "nbconvert_exporter": "python",
   "pygments_lexer": "ipython3",
   "version": "3.8.8"
  }
 },
 "nbformat": 4,
 "nbformat_minor": 5
}
