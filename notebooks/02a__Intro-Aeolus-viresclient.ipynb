{
 "cells": [
  {
   "cell_type": "markdown",
   "metadata": {},
   "source": [
    "# Aeolus access through VirES\n",
    "\n",
    "> Abstract: VirES is a server/client architecture to help access Aeolus data. Access is enabled through a token generated on the website, and a Python package, viresclient, which provides the connection with the Python ecosystem (e.g. xarray)."
   ]
  },
  {
   "cell_type": "code",
   "execution_count": 1,
   "metadata": {
    "execution": {
     "iopub.execute_input": "2021-11-05T10:35:35.479359Z",
     "iopub.status.busy": "2021-11-05T10:35:35.478122Z",
     "iopub.status.idle": "2021-11-05T10:35:37.772730Z",
     "shell.execute_reply": "2021-11-05T10:35:37.773587Z"
    }
   },
   "outputs": [
    {
     "name": "stdout",
     "output_type": "stream",
     "text": [
      "Python implementation: CPython\n",
      "Python version       : 3.8.12\n",
      "IPython version      : 7.22.0\n",
      "\n",
      "viresclient: 0.9.1\n",
      "pandas     : 1.2.4\n",
      "xarray     : 0.17.0\n",
      "matplotlib : 3.4.1\n",
      "\n"
     ]
    }
   ],
   "source": [
    "# Display important package versions used\n",
    "%load_ext watermark\n",
    "%watermark -i -v -p viresclient,pandas,xarray,matplotlib"
   ]
  },
  {
   "cell_type": "markdown",
   "metadata": {},
   "source": [
    "**VirES** (Virtual environments for Earth Scientists) is a platform for data access, analysis, and visualisation for ESA's **Aeolus** mission.\n",
    "\n",
    "This tutorial introduces the Python interface to VirES, **`viresclient`**. We demonstrate usage of the primary Aeolus dataset (`SW_OPER_MAGA_LR_1B`) and geomagnetic field models produced as part of the Swarm mission. Some knowledge of `pandas` and `matplotlib` is assumed.\n",
    "\n",
    "Run this on the **[VRE](https://vre.vires.services/)** (Virtual Research Environment), where viresclient is already installed, or [check the instructions](https://viresclient.readthedocs.io/en/latest/installation.html) to set it up on your own Python environment.\n",
    "\n",
    "For more information see:\n",
    "- https://aeolus.services/ (Web interface)\n",
    "- https://viresclient.readthedocs.io (Python interface)\n"
   ]
  },
  {
   "cell_type": "markdown",
   "metadata": {},
   "source": [
    "## Configuration\n",
    "\n",
    "In order to authenticate access to the VirES server, `viresclient` requires an access token - this ties communications between the server and the client to your account. **If you are using the VRE, this is handled automatically so you can skip this step.**\n",
    "\n",
    "If you are running `viresclient` on a different machine, you will need to follow these instructions:\n",
    "\n",
    "1. Create a user account at https://aeolus.services if you haven't already done so\n",
    "2. Install viresclient in your Python environment - see https://viresclient.readthedocs.io/en/latest/installation.html\n",
    "3. Create a new code cell here and execute the following:\n",
    "\n",
    "   ```python\n",
    "   from viresclient import set_token\n",
    "   set_token(\"https://aeolus.services/ows\", set_default=True)\n",
    "   ```\n",
    "\n",
    "\n",
    "4. You will now be directed to the [VirES token management page](https://aeolus.services/accounts/tokens/), and prompted to generate a new token and enter it here\n",
    "\n",
    "Your access token should now have been saved to your environment and you won't need to provide it again. The token and its associated access URL are stored in a file: `~/.viresclient.ini` (this file can also be edited directly). You may generate and set a new token, or revoke old tokens, at any point. These are similar to passwords, so **should be kept secret** - if you accidentally leak a token, you can revoke it at the token management page and generate a new one. It is also possible to set access tokens via CLI. For more information, see https://viresclient.readthedocs.io/en/latest/config_details.html\n",
    "\n",
    "To remove the configuration (assuming you left it in its default location), you can use the CLI command: `viresclient clear_credentials`"
   ]
  },
  {
   "cell_type": "markdown",
   "metadata": {},
   "source": [
    "## Fetching some data\n",
    "\n",
    "Import the `AeolusRequest` object which provides the VirES interface, and `datetime` which gives convenient time objects which can be used by `SwarmRequest.get_between()`"
   ]
  },
  {
   "cell_type": "code",
   "execution_count": 2,
   "metadata": {
    "execution": {
     "iopub.execute_input": "2021-11-05T10:35:37.780918Z",
     "iopub.status.busy": "2021-11-05T10:35:37.779503Z",
     "iopub.status.idle": "2021-11-05T10:35:37.784821Z",
     "shell.execute_reply": "2021-11-05T10:35:37.785994Z"
    }
   },
   "outputs": [],
   "source": [
    "from viresclient import AeolusRequest"
   ]
  },
  {
   "cell_type": "markdown",
   "metadata": {},
   "source": [
    "The following code will fetch a time period from L2B data.\n",
    "\n",
    "`start_time` and `end_time` in `.get_between()` together provide the time window you want to fetch data for - executing this line causes the request to be processed on the server and the data returned to you.  Alternatively we can provide the start and end times as ISO_8601 strings."
   ]
  },
  {
   "cell_type": "code",
   "execution_count": 3,
   "metadata": {
    "execution": {
     "iopub.execute_input": "2021-11-05T10:35:37.801477Z",
     "iopub.status.busy": "2021-11-05T10:35:37.800590Z",
     "iopub.status.idle": "2021-11-05T10:35:37.807397Z",
     "shell.execute_reply": "2021-11-05T10:35:37.808102Z"
    }
   },
   "outputs": [
    {
     "data": {
      "text/plain": [
       "'\\n# Set up connection with server\\nrequest = AeolusRequest(skip_token=True)\\n# Set collection to use\\nrequest.set_collection(\\'ALD_U_N_2B\\')\\n\\nrequest.set_fields(rayleigh_wind_fields=[\\n    \"rayleigh_wind_result_start_time\",\\n    \"rayleigh_wind_result_stop_time\",\\n    \"rayleigh_wind_result_bottom_altitude\",\\n    \"rayleigh_wind_result_top_altitude\",\\n    \"rayleigh_wind_result_wind_velocity\",\\n])\\n\\n\\ndata = request.get_between(\\n    start_time=\"2020-04-10T06:21:58Z\",\\n    end_time=\"2020-04-10T07:50:33Z\",\\n    filetype=\"nc\",\\n    asynchronous=False\\n)\\n'"
      ]
     },
     "execution_count": 3,
     "metadata": {},
     "output_type": "execute_result"
    }
   ],
   "source": [
    "'''\n",
    "# Set up connection with server\n",
    "request = AeolusRequest(skip_token=True)\n",
    "# Set collection to use\n",
    "request.set_collection('ALD_U_N_2B')\n",
    "\n",
    "request.set_fields(rayleigh_wind_fields=[\n",
    "    \"rayleigh_wind_result_start_time\",\n",
    "    \"rayleigh_wind_result_stop_time\",\n",
    "    \"rayleigh_wind_result_bottom_altitude\",\n",
    "    \"rayleigh_wind_result_top_altitude\",\n",
    "    \"rayleigh_wind_result_wind_velocity\",\n",
    "])\n",
    "\n",
    "\n",
    "data = request.get_between(\n",
    "    start_time=\"2020-04-10T06:21:58Z\",\n",
    "    end_time=\"2020-04-10T07:50:33Z\",\n",
    "    filetype=\"nc\",\n",
    "    asynchronous=False\n",
    ")\n",
    "'''"
   ]
  }
 ],
 "metadata": {
  "kernelspec": {
   "display_name": "Python 3",
   "language": "python",
   "name": "python3"
  },
  "language_info": {
   "codemirror_mode": {
    "name": "ipython",
    "version": 3
   },
   "file_extension": ".py",
   "mimetype": "text/x-python",
   "name": "python",
   "nbconvert_exporter": "python",
   "pygments_lexer": "ipython3",
   "version": "3.8.12"
  },
  "toc-autonumbering": false
 },
 "nbformat": 4,
 "nbformat_minor": 4
}
