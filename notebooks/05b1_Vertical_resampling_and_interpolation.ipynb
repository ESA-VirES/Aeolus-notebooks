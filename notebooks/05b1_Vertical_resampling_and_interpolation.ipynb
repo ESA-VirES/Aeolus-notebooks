{
 "cells": [
  {
   "cell_type": "markdown",
   "id": "c045c5ea-6565-4420-bb23-802a5541726b",
   "metadata": {},
   "source": [
    "# L2B vertical resampling/interpolation\n",
    "## Vertical resampling and interpolation of the Aeolus scientific wind product (L2B)\n",
    "\n",
    "> Authors: Isabell Krisch\n",
    ">\n",
    "> Abstract: Access to level 2B product, rearanging of the data into profiles, and interpolation to a regular altitude grid"
   ]
  },
  {
   "cell_type": "markdown",
   "id": "57e99a9e-5ee3-49c8-8457-f4bda370e89c",
   "metadata": {},
   "source": [
    "## Load packages, modules and extensions"
   ]
  },
  {
   "cell_type": "code",
   "execution_count": null,
   "id": "137d5fbf-5864-4828-8186-edf831eec9d0",
   "metadata": {},
   "outputs": [],
   "source": [
    "# %load_ext blackcellmagic\n",
    "# enable following line for interactive visualization backend for matplotlib\n",
    "# %matplotlib widget\n",
    "%load_ext watermark\n",
    "%watermark -i -v -p viresclient,pandas,xarray,matplotlib"
   ]
  },
  {
   "cell_type": "code",
   "execution_count": null,
   "id": "3c677d1e-3233-43e6-b885-c25b861c6c80",
   "metadata": {},
   "outputs": [],
   "source": [
    "from viresclient import AeolusRequest\n",
    "import numpy as np\n",
    "import xarray as xr\n",
    "import pandas as pd\n",
    "import matplotlib.pyplot as plt\n",
    "import matplotlib.dates as mdates"
   ]
  },
  {
   "cell_type": "markdown",
   "id": "9f333f79-4a53-4daf-a804-8efd8bf63c47",
   "metadata": {
    "tags": []
   },
   "source": [
    "## Load Aeolus data\n",
    "> For details on how to read Aeolus L2B data see Notebook Demo-ALD_U_N_2B. "
   ]
  },
  {
   "cell_type": "markdown",
   "id": "824604a6-584b-463e-8cd0-312c4b1da24c",
   "metadata": {},
   "source": [
    "> This notbook only uses Rayleigh clear measurements. By adjusting the following section one could retrieve other data products and do the same e.g. also with Mie cloudy data."
   ]
  },
  {
   "cell_type": "code",
   "execution_count": null,
   "id": "77cf4b85-b73c-4526-a678-0c9f28168b14",
   "metadata": {},
   "outputs": [],
   "source": [
    "# Aeolus product\n",
    "DATA_PRODUCT = \"ALD_U_N_2B\"\n",
    "\n",
    "# measurement period in yyyy-mm-ddTHH:MM:SS\n",
    "measurement_start = \"2019-09-11T22:00:00Z\"\n",
    "measurement_stop = \"2019-09-12T00:00:00Z\"\n",
    "\n",
    "# define fields to retrieve\n",
    "rayleigh_wind_fields = [\n",
    "    \"rayleigh_wind_result_start_time\",\n",
    "    \"rayleigh_wind_result_stop_time\",\n",
    "    \"rayleigh_wind_result_COG_altitude\",\n",
    "    \"rayleigh_wind_result_wind_velocity\",\n",
    "    \"rayleigh_wind_result_reference_hlos\",\n",
    "    \"rayleigh_wind_result_HLOS_error\",\n",
    "    \"rayleigh_wind_result_id\",\n",
    "    \"rayleigh_wind_result_observation_type\",\n",
    "    \"rayleigh_wind_result_validity_flag\",\n",
    "]\n",
    "\n",
    "rayleigh_profile_fields = [\n",
    "    \"rayleigh_wind_profile_wind_result_id\",\n",
    "    \"rayleigh_wind_profile_observation_type\",\n",
    "    \"rayleigh_profile_datetime_average\",\n",
    "    \"rayleigh_profile_alt_of_DEM_intersection\",\n",
    "    \"rayleigh_profile_lat_of_DEM_intersection\",\n",
    "    \"rayleigh_profile_lon_of_DEM_intersection\",\n",
    "]\n",
    "\n",
    "# get L2B data\n",
    "request = AeolusRequest()\n",
    "request.set_collection(DATA_PRODUCT)\n",
    "request.set_fields(\n",
    "    rayleigh_wind_fields=rayleigh_wind_fields, rayleigh_profile_fields=rayleigh_profile_fields\n",
    ")\n",
    "\n",
    "L2B_rayleigh = request.get_between(\n",
    "    start_time=measurement_start, end_time=measurement_stop, filetype=\"nc\", asynchronous=True\n",
    ").as_xarray()"
   ]
  },
  {
   "cell_type": "markdown",
   "id": "a29ebc8f-c2ce-487d-8310-45c95b32a26a",
   "metadata": {},
   "source": [
    "## Select only Rayleigh clear data"
   ]
  },
  {
   "cell_type": "code",
   "execution_count": null,
   "id": "86ae7eab-b3dd-4fc6-8b75-36984cc703e5",
   "metadata": {},
   "outputs": [],
   "source": [
    "f_clear_p = L2B_rayleigh[\"rayleigh_wind_profile_observation_type\"] == 2\n",
    "f_clear = L2B_rayleigh[\"rayleigh_wind_result_observation_type\"] == 2\n",
    "L2B_rayleigh_clear = L2B_rayleigh.isel(rayleigh_profile_data=f_clear_p, rayleigh_wind_data=f_clear)"
   ]
  },
  {
   "cell_type": "markdown",
   "id": "4ee776f5-2a6c-4a77-9953-bfd5974a0d6d",
   "metadata": {},
   "source": [
    "## Reshape the data into 2D arrays (profile vs. range bin)"
   ]
  },
  {
   "cell_type": "code",
   "execution_count": null,
   "id": "5b99e06b-f649-4030-95c5-4a5d87bd0a98",
   "metadata": {},
   "outputs": [],
   "source": [
    "def reshape_to_profile(data, mtype=\"rayleigh\"):\n",
    "    \"\"\"\n",
    "    Input:   data      xarray.Dataset containing Aeolus L2B wind data.\n",
    "                       It needs to contain the parameters wind_result_id and wind_profile_wind_result_id\n",
    "             mtype     Measurement type (Rayleigh or Mie)\n",
    "\n",
    "    Output:  data_2D   xarray.Dataset containing all variables from data resampled into 2D (profile vs. range-bin)\n",
    "    \"\"\"\n",
    "    # get data shape of (new) 2D array\n",
    "    data_shape = data[mtype + \"_wind_profile_wind_result_id\"].shape\n",
    "    # get wind ids from 1D dataset\n",
    "    wind_result_id = data[mtype + \"_wind_result_id\"].astype(np.int32)\n",
    "    # get wind ids per profile and reshape to 1D\n",
    "    new_wind_result_id = data[mtype + \"_wind_profile_wind_result_id\"].values.flatten()\n",
    "    mask = new_wind_result_id == 0\n",
    "\n",
    "    # increment all ambigious wind ids (necessary if multiple L2B files were concatenated by the request)\n",
    "    while (np.diff(wind_result_id) < 0).sum() > 0:\n",
    "        i = np.where(np.diff(wind_result_id) < 0)[0][0]\n",
    "        increment = -np.diff(wind_result_id)[i] + 1\n",
    "        ip = np.where(new_wind_result_id == wind_result_id[i].values)[0][0]\n",
    "        wind_result_id[i + 1 :] += increment\n",
    "        new_wind_result_id[ip + 1 :] += increment\n",
    "    new_wind_result_id[mask] = 0\n",
    "\n",
    "    # populate wind ids with incremented values and reindex all 1D DataArrays to 2D (still on 1D)\n",
    "    data[mtype + \"_wind_result_id\"] = wind_result_id\n",
    "    data_1D = (\n",
    "        data.drop_dims(mtype + \"_profile_data\")\n",
    "        .set_index({mtype + \"_wind_data\": \"rayleigh_wind_result_id\"})\n",
    "        .reindex({mtype + \"_wind_data\": new_wind_result_id})\n",
    "    )\n",
    "\n",
    "    # reshape to 2D and reinclude all original 2D DataArrays\n",
    "    midx = pd.MultiIndex.from_product(\n",
    "        [range(1, data_shape[0] + 1), range(1, data_shape[1] + 1)],\n",
    "        names=(\"rayleigh_profile_data\", \"array_24\"),\n",
    "    )\n",
    "    data_1D[mtype + \"_wind_data\"] = midx\n",
    "    data_2D = xr.merge(\n",
    "        [data.drop_dims(mtype + \"_wind_data\"), data_1D.unstack(dim=mtype + \"_wind_data\")]\n",
    "    )\n",
    "    return data_2D"
   ]
  },
  {
   "cell_type": "code",
   "execution_count": null,
   "id": "6042a47d-6c0e-4a28-9f54-33a0de268e67",
   "metadata": {},
   "outputs": [],
   "source": [
    "%%time\n",
    "L2B_rayleigh_clear_2D = reshape_to_profile(L2B_rayleigh_clear, mtype=\"rayleigh\")\n",
    "\n",
    "# discard all duplicate profiles (duplicates may occure in neighbouring orbits due to downlinking procedure)\n",
    "_, profile_index = np.unique(\n",
    "    L2B_rayleigh_clear_2D[\"rayleigh_profile_datetime_average\"], return_index=True\n",
    ")\n",
    "L2B_rayleigh_clear_2D = L2B_rayleigh_clear_2D.isel(rayleigh_profile_data=profile_index)"
   ]
  },
  {
   "cell_type": "code",
   "execution_count": null,
   "id": "6b6dd409-646d-4604-882c-be4f9aa34df0",
   "metadata": {},
   "outputs": [],
   "source": [
    "# plot curtain of 2D data\n",
    "plot_data = xr.decode_cf(L2B_rayleigh_clear_2D, decode_times=True)\n",
    "ee_QC_filter = plot_data[\"rayleigh_wind_result_HLOS_error\"] < 800\n",
    "fig, ax = plt.subplots(1, 1, figsize=(10, 6), constrained_layout=True)\n",
    "p = ax.pcolormesh(\n",
    "    plot_data[\"rayleigh_profile_datetime_average\"],\n",
    "    plot_data[\"array_24\"],\n",
    "    plot_data[\"rayleigh_wind_result_wind_velocity\"].where(ee_QC_filter).T,\n",
    "    shading=\"auto\",\n",
    "    vmin=-6000,\n",
    "    vmax=6000,\n",
    "    cmap=\"RdBu_r\",\n",
    ")\n",
    "ax.xaxis.set_major_formatter(mdates.DateFormatter(\"%H:%M\"))\n",
    "ax.autoscale()\n",
    "units = plot_data[\"rayleigh_wind_result_wind_velocity\"].units\n",
    "fig.colorbar(p, ax=ax, aspect=30, pad=0.02, label=\"Rayleigh wind velocity [{:s}]\".format(units))\n",
    "ax.set_ylabel(\"Range bin\")\n",
    "ax.set_ylim(25, 0)"
   ]
  },
  {
   "cell_type": "markdown",
   "id": "7474e8b9-0b9c-4893-a7a4-ed3d5487e7f8",
   "metadata": {},
   "source": [
    "## Interpolate Aeolus data to a regular altitude grid"
   ]
  },
  {
   "cell_type": "code",
   "execution_count": null,
   "id": "9e660df4-027e-437d-ab3e-dae53c7c81b5",
   "metadata": {},
   "outputs": [],
   "source": [
    "def interpolate_to_altitude(\n",
    "    data,\n",
    "    altitudes=np.arange(0, 30000, 1000),\n",
    "    mtype=\"rayleigh\",\n",
    "    variables=[\"rayleigh_wind_result_wind_velocity\"],\n",
    "    altitude_name=\"rayleigh_wind_result_COG_altitude\",\n",
    "):\n",
    "    \"\"\"\n",
    "    Input:   data           xarray.Dataset containing Aeolus L2B wind data on a 2D array\n",
    "                            (profile vs range-bin).\n",
    "             altitude       numpy.Array containing the new altitude grid (in meter)\n",
    "             mtype          Measurement type (Rayleigh or Mie)\n",
    "             variables      List of variables to interpolate to the new grid\n",
    "             altitude_name  Name of altitude variable in input dataset (used for interpolation)\n",
    "\n",
    "    Output:  data_alt   xarray.Dataset containing all variables from data resampled into 2D (profile vs. range-bin)\n",
    "    \"\"\"\n",
    "    # create a xarray.Dataset with given altitude dimension\n",
    "    new_alts = xr.DataArray(\n",
    "        data=altitudes, name=mtype + \"_altitude\", dims=[mtype + \"_altitude\"], attrs={\"units\": \"m\"}\n",
    "    )\n",
    "    data_alt = xr.Dataset(\n",
    "        coords={\n",
    "            mtype + \"_altitude\": new_alts,\n",
    "            mtype + \"_profile_data\": data[mtype + \"_profile_data\"],\n",
    "        }\n",
    "    )\n",
    "    new_shape = (len(data[mtype + \"_profile_data\"]), len(new_alts))\n",
    "\n",
    "    # fill the new DataSet with all reinterpolated variables variables\n",
    "    for var in variables:\n",
    "        assert \"array_24\" in data[var].dims\n",
    "        data_alt[var] = xr.DataArray(\n",
    "            data=np.ones(new_shape) * np.nan,\n",
    "            dims=[mtype + \"_profile_data\", mtype + \"_altitude\"],\n",
    "            coords=data_alt.coords,\n",
    "        )\n",
    "        data_alt[var].attrs = data[var].attrs\n",
    "        for ip in range(new_shape[0]):\n",
    "            ds = data.isel({mtype + \"_profile_data\": ip}).dropna(dim=\"array_24\")\n",
    "            ds = ds.set_index({\"array_24\": altitude_name})\n",
    "            new_da = ds[var].interp(array_24=new_alts)\n",
    "            data_alt[var][ip, :] = new_da[:].values\n",
    "\n",
    "    return data_alt"
   ]
  },
  {
   "cell_type": "code",
   "execution_count": null,
   "id": "620c61d1-3563-44e7-b011-3f2fb392c572",
   "metadata": {},
   "outputs": [],
   "source": [
    "%%time\n",
    "L2B_rayleigh_clear_2D_reg_alt = interpolate_to_altitude(\n",
    "    L2B_rayleigh_clear_2D,\n",
    "    altitudes=np.arange(0, 30000, 1000),\n",
    "    mtype=\"rayleigh\",\n",
    "    variables=[\n",
    "        \"rayleigh_wind_result_wind_velocity\",\n",
    "        \"rayleigh_wind_result_reference_hlos\",\n",
    "        \"rayleigh_wind_result_HLOS_error\",\n",
    "    ],\n",
    "    altitude_name=\"rayleigh_wind_result_COG_altitude\",\n",
    ")\n",
    "\n",
    "# add profile information\n",
    "L2B_rayleigh_clear_2D_reg_alt = xr.merge(\n",
    "    [L2B_rayleigh_clear_2D_reg_alt, L2B_rayleigh_clear_2D.drop_dims(\"array_24\")]\n",
    ")"
   ]
  },
  {
   "cell_type": "code",
   "execution_count": null,
   "id": "587bf9e6-94ea-475e-b3ac-2c61c456d005",
   "metadata": {},
   "outputs": [],
   "source": [
    "# plot curtain of 2D data on regular altitude grid\n",
    "plot_data = xr.decode_cf(L2B_rayleigh_clear_2D_reg_alt, decode_times=True)\n",
    "ee_QC_filter = plot_data[\"rayleigh_wind_result_HLOS_error\"] < 800\n",
    "fig, ax = plt.subplots(1, 1, figsize=(10, 6), constrained_layout=True)\n",
    "p = ax.pcolormesh(\n",
    "    plot_data[\"rayleigh_profile_datetime_average\"],\n",
    "    plot_data[\"rayleigh_altitude\"],\n",
    "    plot_data[\"rayleigh_wind_result_wind_velocity\"].where(ee_QC_filter).T,\n",
    "    shading=\"auto\",\n",
    "    vmin=-6000,\n",
    "    vmax=6000,\n",
    "    cmap=\"RdBu_r\",\n",
    ")\n",
    "ax.fill_between(\n",
    "    plot_data[\"rayleigh_profile_datetime_average\"],\n",
    "    plot_data[\"rayleigh_profile_alt_of_DEM_intersection\"],\n",
    "    color=\"k\",\n",
    ")\n",
    "ax.xaxis.set_major_formatter(mdates.DateFormatter(\"%H:%M\"))\n",
    "ax.autoscale()\n",
    "units = plot_data[\"rayleigh_wind_result_wind_velocity\"].units\n",
    "fig.colorbar(p, ax=ax, aspect=30, pad=0.02, label=\"Rayleigh wind velocity [{:s}]\".format(units))\n",
    "alt_units = plot_data[\"rayleigh_altitude\"].units\n",
    "ax.set_ylabel(\"Altitude [{:s}]\".format(alt_units))"
   ]
  }
 ],
 "metadata": {
  "kernelspec": {
   "display_name": "Python 3",
   "language": "python",
   "name": "python3"
  },
  "language_info": {
   "codemirror_mode": {
    "name": "ipython",
    "version": 3
   },
   "file_extension": ".py",
   "mimetype": "text/x-python",
   "name": "python",
   "nbconvert_exporter": "python",
   "pygments_lexer": "ipython3",
   "version": "3.8.8"
  }
 },
 "nbformat": 4,
 "nbformat_minor": 5
}
