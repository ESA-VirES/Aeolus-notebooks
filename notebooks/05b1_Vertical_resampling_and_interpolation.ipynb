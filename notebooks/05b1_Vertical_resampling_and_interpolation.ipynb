{
 "cells": [
  {
   "cell_type": "markdown",
   "id": "c045c5ea-6565-4420-bb23-802a5541726b",
   "metadata": {},
   "source": [
    "# L2B vertical resampling/interpolation\n",
    "## Vertical resampling and interpolation of the Aeolus scientific wind product (L2B)\n",
    "\n",
    "> Authors: Isabell Krisch\n",
    ">\n",
    "> Abstract: Access to level 2B product, rearanging of the data into profiles, and interpolation to a regular altitude grid. The interpolation to a regular altitude grid takes about 5min for 3 variables and one week of Aeolus data."
   ]
  },
  {
   "cell_type": "markdown",
   "id": "57e99a9e-5ee3-49c8-8457-f4bda370e89c",
   "metadata": {},
   "source": [
    "## Load packages, modules and extensions"
   ]
  },
  {
   "cell_type": "code",
   "execution_count": 1,
   "id": "137d5fbf-5864-4828-8186-edf831eec9d0",
   "metadata": {
    "execution": {
     "iopub.execute_input": "2024-01-10T10:40:29.358691Z",
     "iopub.status.busy": "2024-01-10T10:40:29.358164Z",
     "iopub.status.idle": "2024-01-10T10:40:30.129531Z",
     "shell.execute_reply": "2024-01-10T10:40:30.128695Z"
    }
   },
   "outputs": [
    {
     "name": "stdout",
     "output_type": "stream",
     "text": [
      "Python implementation: CPython\n",
      "Python version       : 3.11.6\n",
      "IPython version      : 8.18.0\n",
      "\n",
      "viresclient: 0.11.3\n",
      "pandas     : 2.1.3\n",
      "xarray     : 2023.12.0\n",
      "matplotlib : 3.8.2\n",
      "\n"
     ]
    }
   ],
   "source": [
    "# %load_ext blackcellmagic\n",
    "# enable following line for interactive visualization backend for matplotlib\n",
    "# %matplotlib widget\n",
    "%load_ext watermark\n",
    "%watermark -i -v -p viresclient,pandas,xarray,matplotlib"
   ]
  },
  {
   "cell_type": "code",
   "execution_count": 2,
   "id": "3c677d1e-3233-43e6-b885-c25b861c6c80",
   "metadata": {
    "execution": {
     "iopub.execute_input": "2024-01-10T10:40:30.132724Z",
     "iopub.status.busy": "2024-01-10T10:40:30.132187Z",
     "iopub.status.idle": "2024-01-10T10:40:30.342719Z",
     "shell.execute_reply": "2024-01-10T10:40:30.341907Z"
    }
   },
   "outputs": [],
   "source": [
    "from viresclient import AeolusRequest\n",
    "import numpy as np\n",
    "import xarray as xr\n",
    "import pandas as pd\n",
    "import matplotlib.pyplot as plt\n",
    "import matplotlib.dates as mdates"
   ]
  },
  {
   "cell_type": "markdown",
   "id": "9f333f79-4a53-4daf-a804-8efd8bf63c47",
   "metadata": {
    "tags": []
   },
   "source": [
    "## Load Aeolus data\n",
    "> For details on how to read Aeolus L2B data see Notebook Demo-ALD_U_N_2B. "
   ]
  },
  {
   "cell_type": "markdown",
   "id": "824604a6-584b-463e-8cd0-312c4b1da24c",
   "metadata": {},
   "source": [
    "> This notbook only uses Rayleigh clear measurements. By adjusting the following section one could retrieve other data products and do the same e.g. also with Mie cloudy data."
   ]
  },
  {
   "cell_type": "code",
   "execution_count": 3,
   "id": "77cf4b85-b73c-4526-a678-0c9f28168b14",
   "metadata": {
    "execution": {
     "iopub.execute_input": "2024-01-10T10:40:30.345292Z",
     "iopub.status.busy": "2024-01-10T10:40:30.344909Z",
     "iopub.status.idle": "2024-01-10T10:40:32.388973Z",
     "shell.execute_reply": "2024-01-10T10:40:32.388188Z"
    }
   },
   "outputs": [
    {
     "data": {
      "application/vnd.jupyter.widget-view+json": {
       "model_id": "e6cddeb0a8af425eb6a3d54c03e8ad36",
       "version_major": 2,
       "version_minor": 0
      },
      "text/plain": [
       "Processing:    0%|          |  [ Elapsed: 00:00, Remaining: ? ] [1/1] "
      ]
     },
     "metadata": {},
     "output_type": "display_data"
    },
    {
     "data": {
      "application/vnd.jupyter.widget-view+json": {
       "model_id": "f47846203acf423faa4b4e2fdc5673b4",
       "version_major": 2,
       "version_minor": 0
      },
      "text/plain": [
       "Downloading:   0%|          |  [ Elapsed: 00:00, Remaining: ? ] (0.793MB)"
      ]
     },
     "metadata": {},
     "output_type": "display_data"
    }
   ],
   "source": [
    "# Aeolus product\n",
    "DATA_PRODUCT = \"ALD_U_N_2B\"\n",
    "\n",
    "# measurement period in yyyy-mm-ddTHH:MM:SS\n",
    "measurement_start = \"2019-09-11T22:00:00Z\"\n",
    "measurement_stop = \"2019-09-12T00:00:00Z\"\n",
    "\n",
    "# define fields to retrieve\n",
    "rayleigh_wind_fields = [\n",
    "    \"rayleigh_wind_result_start_time\",\n",
    "    \"rayleigh_wind_result_stop_time\",\n",
    "    \"rayleigh_wind_result_COG_altitude\",\n",
    "    \"rayleigh_wind_result_wind_velocity\",\n",
    "    \"rayleigh_wind_result_reference_hlos\",\n",
    "    \"rayleigh_wind_result_HLOS_error\",\n",
    "    \"rayleigh_wind_result_id\",\n",
    "    \"rayleigh_wind_result_observation_type\",\n",
    "    \"rayleigh_wind_result_validity_flag\",\n",
    "]\n",
    "\n",
    "rayleigh_profile_fields = [\n",
    "    \"rayleigh_wind_profile_wind_result_id\",\n",
    "    \"rayleigh_wind_profile_observation_type\",\n",
    "    \"rayleigh_profile_datetime_average\",\n",
    "    \"rayleigh_profile_alt_of_DEM_intersection\",\n",
    "    \"rayleigh_profile_lat_of_DEM_intersection\",\n",
    "    \"rayleigh_profile_lon_of_DEM_intersection\",\n",
    "]\n",
    "\n",
    "# get L2B data\n",
    "request = AeolusRequest()\n",
    "request.set_collection(DATA_PRODUCT)\n",
    "request.set_fields(\n",
    "    rayleigh_wind_fields=rayleigh_wind_fields, rayleigh_profile_fields=rayleigh_profile_fields\n",
    ")\n",
    "\n",
    "L2B_rayleigh = request.get_between(\n",
    "    start_time=measurement_start, end_time=measurement_stop, filetype=\"nc\", asynchronous=True\n",
    ").as_xarray()\n",
    "\n",
    "# load data from dask array into storage. This line speeds up the code below a lot.\n",
    "L2B_rayleigh = L2B_rayleigh.load()"
   ]
  },
  {
   "cell_type": "markdown",
   "id": "a29ebc8f-c2ce-487d-8310-45c95b32a26a",
   "metadata": {},
   "source": [
    "## Select only Rayleigh clear data"
   ]
  },
  {
   "cell_type": "code",
   "execution_count": 4,
   "id": "86ae7eab-b3dd-4fc6-8b75-36984cc703e5",
   "metadata": {
    "execution": {
     "iopub.execute_input": "2024-01-10T10:40:32.392838Z",
     "iopub.status.busy": "2024-01-10T10:40:32.392552Z",
     "iopub.status.idle": "2024-01-10T10:40:32.402312Z",
     "shell.execute_reply": "2024-01-10T10:40:32.401785Z"
    }
   },
   "outputs": [],
   "source": [
    "f_clear_p = L2B_rayleigh[\"rayleigh_wind_profile_observation_type\"] == 2\n",
    "f_clear = L2B_rayleigh[\"rayleigh_wind_result_observation_type\"] == 2\n",
    "L2B_rayleigh_clear = L2B_rayleigh.isel(rayleigh_profile_data=f_clear_p, rayleigh_wind_data=f_clear)"
   ]
  },
  {
   "cell_type": "markdown",
   "id": "4ee776f5-2a6c-4a77-9953-bfd5974a0d6d",
   "metadata": {},
   "source": [
    "## Reshape the data into 2D arrays (profile vs. range bin)"
   ]
  },
  {
   "cell_type": "code",
   "execution_count": 5,
   "id": "5b99e06b-f649-4030-95c5-4a5d87bd0a98",
   "metadata": {
    "execution": {
     "iopub.execute_input": "2024-01-10T10:40:32.405974Z",
     "iopub.status.busy": "2024-01-10T10:40:32.405803Z",
     "iopub.status.idle": "2024-01-10T10:40:32.411915Z",
     "shell.execute_reply": "2024-01-10T10:40:32.411405Z"
    }
   },
   "outputs": [],
   "source": [
    "def reshape_to_profile(data, mtype=\"rayleigh\"):\n",
    "    \"\"\"\n",
    "    Input:   data      xarray.Dataset containing Aeolus L2B wind data.\n",
    "                       It needs to contain the parameters wind_result_id and wind_profile_wind_result_id\n",
    "             mtype     Measurement type (Rayleigh or Mie)\n",
    "\n",
    "    Output:  data_2D   xarray.Dataset containing all variables from data resampled into 2D (profile vs. range-bin)\n",
    "    \"\"\"\n",
    "    # get data shape of (new) 2D array\n",
    "    data_shape = data[mtype + \"_wind_profile_wind_result_id\"].shape\n",
    "    # get wind ids from 1D dataset\n",
    "    wind_result_id = data[mtype + \"_wind_result_id\"].astype(np.int32)\n",
    "    # get wind ids per profile and reshape to 1D\n",
    "    new_wind_result_id = data[mtype + \"_wind_profile_wind_result_id\"].values.flatten()\n",
    "    mask = new_wind_result_id == 0\n",
    "\n",
    "    # increment all ambigious wind ids (necessary if multiple L2B files were concatenated by the request)\n",
    "    while (np.diff(wind_result_id) < 0).sum() > 0:\n",
    "        i = np.where(np.diff(wind_result_id) < 0)[0][0]\n",
    "        increment = -np.diff(wind_result_id)[i] + 1\n",
    "        ip = np.where(new_wind_result_id == wind_result_id[i].values)[0][0]\n",
    "        wind_result_id[i + 1 :] += increment\n",
    "        new_wind_result_id[ip + 1 :] += increment\n",
    "    new_wind_result_id[mask] = 0\n",
    "\n",
    "    # populate wind ids with incremented values and reindex all 1D DataArrays to 2D (still on 1D)\n",
    "    data[mtype + \"_wind_result_id\"] = wind_result_id\n",
    "    data_1D = (\n",
    "        data.drop_dims(mtype + \"_profile_data\")\n",
    "        .set_index({mtype + \"_wind_data\": \"rayleigh_wind_result_id\"})\n",
    "        .reindex({mtype + \"_wind_data\": new_wind_result_id})\n",
    "    )\n",
    "\n",
    "    # reshape to 2D and reinclude all original 2D DataArrays\n",
    "    midx = pd.MultiIndex.from_product(\n",
    "        [range(1, data_shape[0] + 1), range(1, data_shape[1] + 1)],\n",
    "        names=(\"rayleigh_profile_data\", \"array_24\"),\n",
    "    )\n",
    "    data_1D[mtype + \"_wind_data\"] = midx\n",
    "    data_2D = xr.merge(\n",
    "        [data.drop_dims(mtype + \"_wind_data\"), data_1D.unstack(dim=mtype + \"_wind_data\")]\n",
    "    )\n",
    "    return data_2D"
   ]
  },
  {
   "cell_type": "code",
   "execution_count": 6,
   "id": "6042a47d-6c0e-4a28-9f54-33a0de268e67",
   "metadata": {
    "execution": {
     "iopub.execute_input": "2024-01-10T10:40:32.415438Z",
     "iopub.status.busy": "2024-01-10T10:40:32.415268Z",
     "iopub.status.idle": "2024-01-10T10:40:32.678362Z",
     "shell.execute_reply": "2024-01-10T10:40:32.677843Z"
    }
   },
   "outputs": [
    {
     "name": "stdout",
     "output_type": "stream",
     "text": [
      "CPU times: user 216 ms, sys: 44.3 ms, total: 260 ms\n",
      "Wall time: 260 ms\n"
     ]
    }
   ],
   "source": [
    "%%time\n",
    "L2B_rayleigh_clear_2D = reshape_to_profile(L2B_rayleigh_clear, mtype=\"rayleigh\")\n",
    "\n",
    "# discard all duplicate profiles (duplicates may occure in neighbouring orbits due to downlinking procedure)\n",
    "_, profile_index = np.unique(\n",
    "    L2B_rayleigh_clear_2D[\"rayleigh_profile_datetime_average\"], return_index=True\n",
    ")\n",
    "L2B_rayleigh_clear_2D = L2B_rayleigh_clear_2D.isel(rayleigh_profile_data=profile_index)"
   ]
  },
  {
   "cell_type": "code",
   "execution_count": 7,
   "id": "6b6dd409-646d-4604-882c-be4f9aa34df0",
   "metadata": {
    "execution": {
     "iopub.execute_input": "2024-01-10T10:40:32.685674Z",
     "iopub.status.busy": "2024-01-10T10:40:32.685222Z",
     "iopub.status.idle": "2024-01-10T10:40:33.159552Z",
     "shell.execute_reply": "2024-01-10T10:40:33.158819Z"
    }
   },
   "outputs": [
    {
     "data": {
      "text/plain": [
       "(25.0, 0.0)"
      ]
     },
     "execution_count": 7,
     "metadata": {},
     "output_type": "execute_result"
    },
    {
     "data": {
      "image/png": "[encoded data removed]",
      "text/plain": [
       "<Figure size 1000x600 with 2 Axes>"
      ]
     },
     "metadata": {},
     "output_type": "display_data"
    }
   ],
   "source": [
    "# plot curtain of 2D data\n",
    "plot_data = xr.decode_cf(L2B_rayleigh_clear_2D, decode_times=True)\n",
    "ee_QC_filter = plot_data[\"rayleigh_wind_result_HLOS_error\"] < 800\n",
    "fig, ax = plt.subplots(1, 1, figsize=(10, 6), constrained_layout=True)\n",
    "p = ax.pcolormesh(\n",
    "    plot_data[\"rayleigh_profile_datetime_average\"],\n",
    "    plot_data[\"array_24\"],\n",
    "    plot_data[\"rayleigh_wind_result_wind_velocity\"].where(ee_QC_filter).T,\n",
    "    shading=\"auto\",\n",
    "    vmin=-6000,\n",
    "    vmax=6000,\n",
    "    cmap=\"RdBu_r\",\n",
    ")\n",
    "ax.xaxis.set_major_formatter(mdates.DateFormatter(\"%H:%M\"))\n",
    "ax.autoscale()\n",
    "units = plot_data[\"rayleigh_wind_result_wind_velocity\"].units\n",
    "fig.colorbar(p, ax=ax, aspect=30, pad=0.02, label=\"Rayleigh wind velocity [{:s}]\".format(units))\n",
    "ax.set_ylabel(\"Range bin\")\n",
    "ax.set_ylim(25, 0)"
   ]
  },
  {
   "cell_type": "markdown",
   "id": "7474e8b9-0b9c-4893-a7a4-ed3d5487e7f8",
   "metadata": {},
   "source": [
    "## Interpolate Aeolus data to a regular altitude grid"
   ]
  },
  {
   "cell_type": "code",
   "execution_count": 8,
   "id": "9e660df4-027e-437d-ab3e-dae53c7c81b5",
   "metadata": {
    "execution": {
     "iopub.execute_input": "2024-01-10T10:40:33.162401Z",
     "iopub.status.busy": "2024-01-10T10:40:33.161814Z",
     "iopub.status.idle": "2024-01-10T10:40:33.169338Z",
     "shell.execute_reply": "2024-01-10T10:40:33.168685Z"
    }
   },
   "outputs": [],
   "source": [
    "def interpolate_to_altitude(\n",
    "    data,\n",
    "    altitudes=np.arange(0, 30000, 1000),\n",
    "    mtype=\"rayleigh\",\n",
    "    variables=[\"rayleigh_wind_result_wind_velocity\"],\n",
    "    altitude_name=\"rayleigh_wind_result_COG_altitude\",\n",
    "):\n",
    "    \"\"\"\n",
    "    Input:   data           xarray.Dataset containing Aeolus L2B wind data on a 2D array\n",
    "                            (profile vs range-bin).\n",
    "             altitude       numpy.Array containing the new altitude grid (in meter)\n",
    "             mtype          Measurement type (Rayleigh or Mie)\n",
    "             variables      List or None: Names of variables to interpolate to the new grid. None will interpolate all variables.\n",
    "             altitude_name  Name of altitude variable in input dataset (used for interpolation)\n",
    "\n",
    "    Output:  data_alt   xarray.Dataset containing all variables from data resampled into 2D (profile vs. range-bin)\n",
    "    \"\"\"\n",
    "    # create a xarray.DataArray with given altitudes\n",
    "    new_alts = xr.DataArray(\n",
    "        data=altitudes, name=mtype + \"_altitude\", dims=[mtype + \"_altitude\"], attrs={\"units\": \"m\"}\n",
    "    )\n",
    "    \n",
    "    # remove unecessary variables before interpolation\n",
    "    if variables is not None:\n",
    "        # save all 1D variables for later\n",
    "        data_1D = data.drop_dims(\"array_24\")\n",
    "        # remove all unnecessary variables for processing\n",
    "        variables.append(altitude_name)\n",
    "        dims = list(data.dims)\n",
    "        for var in list(data.variables):\n",
    "            if var not in (dims + variables):\n",
    "                data = data.drop_vars(var)    \n",
    "\n",
    "    # fill the new DataSet with all reinterpolated variables variables\n",
    "    results = []\n",
    "    for t_label, t_group in data.groupby(mtype + \"_profile_data\"):\n",
    "        results.append(t_group.squeeze().dropna(dim=\"array_24\").set_index({\"array_24\": altitude_name}).interp(array_24=new_alts))\n",
    "    data_alt = xr.concat(results, dim=mtype + \"_profile_data_bins\")\n",
    "    data_alt = data_alt.rename({mtype + \"_profile_data_bins\": mtype + \"_profile_data\", \"array_24\": mtype + \"_altitude\"})\n",
    "    \n",
    "    # re-add 1D variables to DataSet (if they have been removed before)\n",
    "    if variables is not None:\n",
    "        data_alt = xr.merge([data_alt, data_1D])\n",
    "\n",
    "    return data_alt"
   ]
  },
  {
   "cell_type": "code",
   "execution_count": 9,
   "id": "620c61d1-3563-44e7-b011-3f2fb392c572",
   "metadata": {
    "execution": {
     "iopub.execute_input": "2024-01-10T10:40:33.171715Z",
     "iopub.status.busy": "2024-01-10T10:40:33.171345Z",
     "iopub.status.idle": "2024-01-10T10:40:35.449939Z",
     "shell.execute_reply": "2024-01-10T10:40:35.449259Z"
    }
   },
   "outputs": [
    {
     "name": "stdout",
     "output_type": "stream",
     "text": [
      "CPU times: user 2.24 s, sys: 26.2 ms, total: 2.26 s\n",
      "Wall time: 2.27 s\n"
     ]
    },
    {
     "name": "stderr",
     "output_type": "stream",
     "text": [
      "/tmp/ipykernel_1241/428852928.py:39: UserWarning: rename 'rayleigh_profile_data_bins' to 'rayleigh_profile_data' does not create an index anymore. Try using swap_dims instead or use set_index after rename to create an indexed coordinate.\n",
      "  data_alt = data_alt.rename({mtype + \"_profile_data_bins\": mtype + \"_profile_data\", \"array_24\": mtype + \"_altitude\"})\n",
      "/tmp/ipykernel_1241/428852928.py:39: UserWarning: rename 'array_24' to 'rayleigh_altitude' does not create an index anymore. Try using swap_dims instead or use set_index after rename to create an indexed coordinate.\n",
      "  data_alt = data_alt.rename({mtype + \"_profile_data_bins\": mtype + \"_profile_data\", \"array_24\": mtype + \"_altitude\"})\n"
     ]
    }
   ],
   "source": [
    "%%time\n",
    "L2B_rayleigh_clear_2D_reg_alt = interpolate_to_altitude(\n",
    "    L2B_rayleigh_clear_2D,\n",
    "    altitudes=np.arange(0, 30000, 1000),\n",
    "    mtype=\"rayleigh\",\n",
    "    variables=[\n",
    "        \"rayleigh_wind_result_wind_velocity\",\n",
    "        \"rayleigh_wind_result_reference_hlos\",\n",
    "        \"rayleigh_wind_result_HLOS_error\",\n",
    "    ],\n",
    "    altitude_name=\"rayleigh_wind_result_COG_altitude\",\n",
    ")"
   ]
  },
  {
   "cell_type": "code",
   "execution_count": 10,
   "id": "587bf9e6-94ea-475e-b3ac-2c61c456d005",
   "metadata": {
    "execution": {
     "iopub.execute_input": "2024-01-10T10:40:35.456171Z",
     "iopub.status.busy": "2024-01-10T10:40:35.455707Z",
     "iopub.status.idle": "2024-01-10T10:40:35.890874Z",
     "shell.execute_reply": "2024-01-10T10:40:35.890381Z"
    }
   },
   "outputs": [
    {
     "data": {
      "text/plain": [
       "Text(0, 0.5, 'Altitude [m]')"
      ]
     },
     "execution_count": 10,
     "metadata": {},
     "output_type": "execute_result"
    },
    {
     "data": {
      "image/png": "[encoded data removed]",
      "text/plain": [
       "<Figure size 1000x600 with 2 Axes>"
      ]
     },
     "metadata": {},
     "output_type": "display_data"
    }
   ],
   "source": [
    "# plot curtain of 2D data on regular altitude grid\n",
    "plot_data = xr.decode_cf(L2B_rayleigh_clear_2D_reg_alt, decode_times=True)\n",
    "ee_QC_filter = plot_data[\"rayleigh_wind_result_HLOS_error\"] < 800\n",
    "fig, ax = plt.subplots(1, 1, figsize=(10, 6), constrained_layout=True)\n",
    "p = ax.pcolormesh(\n",
    "    plot_data[\"rayleigh_profile_datetime_average\"],\n",
    "    plot_data[\"rayleigh_altitude\"],\n",
    "    plot_data[\"rayleigh_wind_result_wind_velocity\"].where(ee_QC_filter).T,\n",
    "    shading=\"auto\",\n",
    "    vmin=-6000,\n",
    "    vmax=6000,\n",
    "    cmap=\"RdBu_r\",\n",
    ")\n",
    "ax.fill_between(\n",
    "    plot_data[\"rayleigh_profile_datetime_average\"],\n",
    "    plot_data[\"rayleigh_profile_alt_of_DEM_intersection\"],\n",
    "    color=\"k\",\n",
    ")\n",
    "ax.xaxis.set_major_formatter(mdates.DateFormatter(\"%H:%M\"))\n",
    "ax.autoscale()\n",
    "units = plot_data[\"rayleigh_wind_result_wind_velocity\"].units\n",
    "fig.colorbar(p, ax=ax, aspect=30, pad=0.02, label=\"Rayleigh wind velocity [{:s}]\".format(units))\n",
    "alt_units = plot_data[\"rayleigh_altitude\"].units\n",
    "ax.set_ylabel(\"Altitude [{:s}]\".format(alt_units))"
   ]
  }
 ],
 "metadata": {
  "kernelspec": {
   "display_name": "Python 3",
   "language": "python",
   "name": "python3"
  },
  "language_info": {
   "codemirror_mode": {
    "name": "ipython",
    "version": 3
   },
   "file_extension": ".py",
   "mimetype": "text/x-python",
   "name": "python",
   "nbconvert_exporter": "python",
   "pygments_lexer": "ipython3",
   "version": "3.11.6"
  },
  "widgets": {
   "application/vnd.jupyter.widget-state+json": {
    "state": {
     "42db018cffc549d6a9638994ee07ccae": {
      "model_module": "@jupyter-widgets/base",
      "model_module_version": "1.2.0",
      "model_name": "LayoutModel",
      "state": {
       "_model_module": "@jupyter-widgets/base",
       "_model_module_version": "1.2.0",
       "_model_name": "LayoutModel",
       "_view_count": null,
       "_view_module": "@jupyter-widgets/base",
       "_view_module_version": "1.2.0",
       "_view_name": "LayoutView",
       "align_content": null,
       "align_items": null,
       "align_self": null,
       "border": null,
       "bottom": null,
       "display": null,
       "flex": null,
       "flex_flow": null,
       "grid_area": null,
       "grid_auto_columns": null,
       "grid_auto_flow": null,
       "grid_auto_rows": null,
       "grid_column": null,
       "grid_gap": null,
       "grid_row": null,
       "grid_template_areas": null,
       "grid_template_columns": null,
       "grid_template_rows": null,
       "height": null,
       "justify_content": null,
       "justify_items": null,
       "left": null,
       "margin": null,
       "max_height": null,
       "max_width": null,
       "min_height": null,
       "min_width": null,
       "object_fit": null,
       "object_position": null,
       "order": null,
       "overflow": null,
       "overflow_x": null,
       "overflow_y": null,
       "padding": null,
       "right": null,
       "top": null,
       "visibility": null,
       "width": null
      }
     },
     "4484f9146ba34dc3978a384566fe76e4": {
      "model_module": "@jupyter-widgets/controls",
      "model_module_version": "1.5.0",
      "model_name": "HTMLModel",
      "state": {
       "_dom_classes": [],
       "_model_module": "@jupyter-widgets/controls",
       "_model_module_version": "1.5.0",
       "_model_name": "HTMLModel",
       "_view_count": null,
       "_view_module": "@jupyter-widgets/controls",
       "_view_module_version": "1.5.0",
       "_view_name": "HTMLView",
       "description": "",
       "description_tooltip": null,
       "layout": "IPY_MODEL_6bc9e41b97a445579a5bd81a954306c8",
       "placeholder": "​",
       "style": "IPY_MODEL_fc85bcbd996f47cc97e12fde3e0d6206",
       "value": "  [ Elapsed: 00:00, Remaining: 00:00 ] (0.793MB)"
      }
     },
     "54bbeae948fe41c0bb5585c135a801b3": {
      "model_module": "@jupyter-widgets/controls",
      "model_module_version": "1.5.0",
      "model_name": "HTMLModel",
      "state": {
       "_dom_classes": [],
       "_model_module": "@jupyter-widgets/controls",
       "_model_module_version": "1.5.0",
       "_model_name": "HTMLModel",
       "_view_count": null,
       "_view_module": "@jupyter-widgets/controls",
       "_view_module_version": "1.5.0",
       "_view_name": "HTMLView",
       "description": "",
       "description_tooltip": null,
       "layout": "IPY_MODEL_6485bbd41cfd432eb7b60ce520394e1d",
       "placeholder": "​",
       "style": "IPY_MODEL_f70822d038384a229f54f3aefcfe6959",
       "value": "Processing:  100%"
      }
     },
     "56c0aa2f5a6b45ae98be2716b0f13c44": {
      "model_module": "@jupyter-widgets/controls",
      "model_module_version": "1.5.0",
      "model_name": "ProgressStyleModel",
      "state": {
       "_model_module": "@jupyter-widgets/controls",
       "_model_module_version": "1.5.0",
       "_model_name": "ProgressStyleModel",
       "_view_count": null,
       "_view_module": "@jupyter-widgets/base",
       "_view_module_version": "1.2.0",
       "_view_name": "StyleView",
       "bar_color": null,
       "description_width": ""
      }
     },
     "6190f0306f61458c9f1e5c322a0db8b8": {
      "model_module": "@jupyter-widgets/controls",
      "model_module_version": "1.5.0",
      "model_name": "DescriptionStyleModel",
      "state": {
       "_model_module": "@jupyter-widgets/controls",
       "_model_module_version": "1.5.0",
       "_model_name": "DescriptionStyleModel",
       "_view_count": null,
       "_view_module": "@jupyter-widgets/base",
       "_view_module_version": "1.2.0",
       "_view_name": "StyleView",
       "description_width": ""
      }
     },
     "62731d16c5364a64a7ce3469105f1de1": {
      "model_module": "@jupyter-widgets/base",
      "model_module_version": "1.2.0",
      "model_name": "LayoutModel",
      "state": {
       "_model_module": "@jupyter-widgets/base",
       "_model_module_version": "1.2.0",
       "_model_name": "LayoutModel",
       "_view_count": null,
       "_view_module": "@jupyter-widgets/base",
       "_view_module_version": "1.2.0",
       "_view_name": "LayoutView",
       "align_content": null,
       "align_items": null,
       "align_self": null,
       "border": null,
       "bottom": null,
       "display": null,
       "flex": null,
       "flex_flow": null,
       "grid_area": null,
       "grid_auto_columns": null,
       "grid_auto_flow": null,
       "grid_auto_rows": null,
       "grid_column": null,
       "grid_gap": null,
       "grid_row": null,
       "grid_template_areas": null,
       "grid_template_columns": null,
       "grid_template_rows": null,
       "height": null,
       "justify_content": null,
       "justify_items": null,
       "left": null,
       "margin": null,
       "max_height": null,
       "max_width": null,
       "min_height": null,
       "min_width": null,
       "object_fit": null,
       "object_position": null,
       "order": null,
       "overflow": null,
       "overflow_x": null,
       "overflow_y": null,
       "padding": null,
       "right": null,
       "top": null,
       "visibility": null,
       "width": null
      }
     },
     "6485bbd41cfd432eb7b60ce520394e1d": {
      "model_module": "@jupyter-widgets/base",
      "model_module_version": "1.2.0",
      "model_name": "LayoutModel",
      "state": {
       "_model_module": "@jupyter-widgets/base",
       "_model_module_version": "1.2.0",
       "_model_name": "LayoutModel",
       "_view_count": null,
       "_view_module": "@jupyter-widgets/base",
       "_view_module_version": "1.2.0",
       "_view_name": "LayoutView",
       "align_content": null,
       "align_items": null,
       "align_self": null,
       "border": null,
       "bottom": null,
       "display": null,
       "flex": null,
       "flex_flow": null,
       "grid_area": null,
       "grid_auto_columns": null,
       "grid_auto_flow": null,
       "grid_auto_rows": null,
       "grid_column": null,
       "grid_gap": null,
       "grid_row": null,
       "grid_template_areas": null,
       "grid_template_columns": null,
       "grid_template_rows": null,
       "height": null,
       "justify_content": null,
       "justify_items": null,
       "left": null,
       "margin": null,
       "max_height": null,
       "max_width": null,
       "min_height": null,
       "min_width": null,
       "object_fit": null,
       "object_position": null,
       "order": null,
       "overflow": null,
       "overflow_x": null,
       "overflow_y": null,
       "padding": null,
       "right": null,
       "top": null,
       "visibility": null,
       "width": null
      }
     },
     "6bc9e41b97a445579a5bd81a954306c8": {
      "model_module": "@jupyter-widgets/base",
      "model_module_version": "1.2.0",
      "model_name": "LayoutModel",
      "state": {
       "_model_module": "@jupyter-widgets/base",
       "_model_module_version": "1.2.0",
       "_model_name": "LayoutModel",
       "_view_count": null,
       "_view_module": "@jupyter-widgets/base",
       "_view_module_version": "1.2.0",
       "_view_name": "LayoutView",
       "align_content": null,
       "align_items": null,
       "align_self": null,
       "border": null,
       "bottom": null,
       "display": null,
       "flex": null,
       "flex_flow": null,
       "grid_area": null,
       "grid_auto_columns": null,
       "grid_auto_flow": null,
       "grid_auto_rows": null,
       "grid_column": null,
       "grid_gap": null,
       "grid_row": null,
       "grid_template_areas": null,
       "grid_template_columns": null,
       "grid_template_rows": null,
       "height": null,
       "justify_content": null,
       "justify_items": null,
       "left": null,
       "margin": null,
       "max_height": null,
       "max_width": null,
       "min_height": null,
       "min_width": null,
       "object_fit": null,
       "object_position": null,
       "order": null,
       "overflow": null,
       "overflow_x": null,
       "overflow_y": null,
       "padding": null,
       "right": null,
       "top": null,
       "visibility": null,
       "width": null
      }
     },
     "7b5329cedc1243a8b12fb5762107fa74": {
      "model_module": "@jupyter-widgets/base",
      "model_module_version": "1.2.0",
      "model_name": "LayoutModel",
      "state": {
       "_model_module": "@jupyter-widgets/base",
       "_model_module_version": "1.2.0",
       "_model_name": "LayoutModel",
       "_view_count": null,
       "_view_module": "@jupyter-widgets/base",
       "_view_module_version": "1.2.0",
       "_view_name": "LayoutView",
       "align_content": null,
       "align_items": null,
       "align_self": null,
       "border": null,
       "bottom": null,
       "display": null,
       "flex": null,
       "flex_flow": null,
       "grid_area": null,
       "grid_auto_columns": null,
       "grid_auto_flow": null,
       "grid_auto_rows": null,
       "grid_column": null,
       "grid_gap": null,
       "grid_row": null,
       "grid_template_areas": null,
       "grid_template_columns": null,
       "grid_template_rows": null,
       "height": null,
       "justify_content": null,
       "justify_items": null,
       "left": null,
       "margin": null,
       "max_height": null,
       "max_width": null,
       "min_height": null,
       "min_width": null,
       "object_fit": null,
       "object_position": null,
       "order": null,
       "overflow": null,
       "overflow_x": null,
       "overflow_y": null,
       "padding": null,
       "right": null,
       "top": null,
       "visibility": null,
       "width": null
      }
     },
     "8793001bbbcb4f2d9452c287194b7ac4": {
      "model_module": "@jupyter-widgets/controls",
      "model_module_version": "1.5.0",
      "model_name": "FloatProgressModel",
      "state": {
       "_dom_classes": [],
       "_model_module": "@jupyter-widgets/controls",
       "_model_module_version": "1.5.0",
       "_model_name": "FloatProgressModel",
       "_view_count": null,
       "_view_module": "@jupyter-widgets/controls",
       "_view_module_version": "1.5.0",
       "_view_name": "ProgressView",
       "bar_style": "success",
       "description": "",
       "description_tooltip": null,
       "layout": "IPY_MODEL_dc15da8a554b4125a914aaaa8d8c6a8c",
       "max": 100.0,
       "min": 0.0,
       "orientation": "horizontal",
       "style": "IPY_MODEL_a96b21c8549f40d68467717441fc21be",
       "value": 100.0
      }
     },
     "96f76845559047afa2cfc40af7dc697d": {
      "model_module": "@jupyter-widgets/controls",
      "model_module_version": "1.5.0",
      "model_name": "HTMLModel",
      "state": {
       "_dom_classes": [],
       "_model_module": "@jupyter-widgets/controls",
       "_model_module_version": "1.5.0",
       "_model_name": "HTMLModel",
       "_view_count": null,
       "_view_module": "@jupyter-widgets/controls",
       "_view_module_version": "1.5.0",
       "_view_name": "HTMLView",
       "description": "",
       "description_tooltip": null,
       "layout": "IPY_MODEL_e057b6113b3e4835bfefde095e6bb7bc",
       "placeholder": "​",
       "style": "IPY_MODEL_e31ff37f31e84779b17b94e6a7c5fe5f",
       "value": "Downloading: 100%"
      }
     },
     "9897c336e7934509a656d98bafb1c37e": {
      "model_module": "@jupyter-widgets/controls",
      "model_module_version": "1.5.0",
      "model_name": "FloatProgressModel",
      "state": {
       "_dom_classes": [],
       "_model_module": "@jupyter-widgets/controls",
       "_model_module_version": "1.5.0",
       "_model_name": "FloatProgressModel",
       "_view_count": null,
       "_view_module": "@jupyter-widgets/controls",
       "_view_module_version": "1.5.0",
       "_view_name": "ProgressView",
       "bar_style": "success",
       "description": "",
       "description_tooltip": null,
       "layout": "IPY_MODEL_42db018cffc549d6a9638994ee07ccae",
       "max": 100.0,
       "min": 0.0,
       "orientation": "horizontal",
       "style": "IPY_MODEL_56c0aa2f5a6b45ae98be2716b0f13c44",
       "value": 100.0
      }
     },
     "9ad48360350e4c4bbea05a8917b030e2": {
      "model_module": "@jupyter-widgets/base",
      "model_module_version": "1.2.0",
      "model_name": "LayoutModel",
      "state": {
       "_model_module": "@jupyter-widgets/base",
       "_model_module_version": "1.2.0",
       "_model_name": "LayoutModel",
       "_view_count": null,
       "_view_module": "@jupyter-widgets/base",
       "_view_module_version": "1.2.0",
       "_view_name": "LayoutView",
       "align_content": null,
       "align_items": null,
       "align_self": null,
       "border": null,
       "bottom": null,
       "display": null,
       "flex": null,
       "flex_flow": null,
       "grid_area": null,
       "grid_auto_columns": null,
       "grid_auto_flow": null,
       "grid_auto_rows": null,
       "grid_column": null,
       "grid_gap": null,
       "grid_row": null,
       "grid_template_areas": null,
       "grid_template_columns": null,
       "grid_template_rows": null,
       "height": null,
       "justify_content": null,
       "justify_items": null,
       "left": null,
       "margin": null,
       "max_height": null,
       "max_width": null,
       "min_height": null,
       "min_width": null,
       "object_fit": null,
       "object_position": null,
       "order": null,
       "overflow": null,
       "overflow_x": null,
       "overflow_y": null,
       "padding": null,
       "right": null,
       "top": null,
       "visibility": null,
       "width": null
      }
     },
     "a96b21c8549f40d68467717441fc21be": {
      "model_module": "@jupyter-widgets/controls",
      "model_module_version": "1.5.0",
      "model_name": "ProgressStyleModel",
      "state": {
       "_model_module": "@jupyter-widgets/controls",
       "_model_module_version": "1.5.0",
       "_model_name": "ProgressStyleModel",
       "_view_count": null,
       "_view_module": "@jupyter-widgets/base",
       "_view_module_version": "1.2.0",
       "_view_name": "StyleView",
       "bar_color": null,
       "description_width": ""
      }
     },
     "cce6bd14496b4d6fa3923468a0cea0a6": {
      "model_module": "@jupyter-widgets/controls",
      "model_module_version": "1.5.0",
      "model_name": "HTMLModel",
      "state": {
       "_dom_classes": [],
       "_model_module": "@jupyter-widgets/controls",
       "_model_module_version": "1.5.0",
       "_model_name": "HTMLModel",
       "_view_count": null,
       "_view_module": "@jupyter-widgets/controls",
       "_view_module_version": "1.5.0",
       "_view_name": "HTMLView",
       "description": "",
       "description_tooltip": null,
       "layout": "IPY_MODEL_7b5329cedc1243a8b12fb5762107fa74",
       "placeholder": "​",
       "style": "IPY_MODEL_6190f0306f61458c9f1e5c322a0db8b8",
       "value": "  [ Elapsed: 00:01, Remaining: 00:00 ] [1/1] "
      }
     },
     "dc15da8a554b4125a914aaaa8d8c6a8c": {
      "model_module": "@jupyter-widgets/base",
      "model_module_version": "1.2.0",
      "model_name": "LayoutModel",
      "state": {
       "_model_module": "@jupyter-widgets/base",
       "_model_module_version": "1.2.0",
       "_model_name": "LayoutModel",
       "_view_count": null,
       "_view_module": "@jupyter-widgets/base",
       "_view_module_version": "1.2.0",
       "_view_name": "LayoutView",
       "align_content": null,
       "align_items": null,
       "align_self": null,
       "border": null,
       "bottom": null,
       "display": null,
       "flex": null,
       "flex_flow": null,
       "grid_area": null,
       "grid_auto_columns": null,
       "grid_auto_flow": null,
       "grid_auto_rows": null,
       "grid_column": null,
       "grid_gap": null,
       "grid_row": null,
       "grid_template_areas": null,
       "grid_template_columns": null,
       "grid_template_rows": null,
       "height": null,
       "justify_content": null,
       "justify_items": null,
       "left": null,
       "margin": null,
       "max_height": null,
       "max_width": null,
       "min_height": null,
       "min_width": null,
       "object_fit": null,
       "object_position": null,
       "order": null,
       "overflow": null,
       "overflow_x": null,
       "overflow_y": null,
       "padding": null,
       "right": null,
       "top": null,
       "visibility": null,
       "width": null
      }
     },
     "e057b6113b3e4835bfefde095e6bb7bc": {
      "model_module": "@jupyter-widgets/base",
      "model_module_version": "1.2.0",
      "model_name": "LayoutModel",
      "state": {
       "_model_module": "@jupyter-widgets/base",
       "_model_module_version": "1.2.0",
       "_model_name": "LayoutModel",
       "_view_count": null,
       "_view_module": "@jupyter-widgets/base",
       "_view_module_version": "1.2.0",
       "_view_name": "LayoutView",
       "align_content": null,
       "align_items": null,
       "align_self": null,
       "border": null,
       "bottom": null,
       "display": null,
       "flex": null,
       "flex_flow": null,
       "grid_area": null,
       "grid_auto_columns": null,
       "grid_auto_flow": null,
       "grid_auto_rows": null,
       "grid_column": null,
       "grid_gap": null,
       "grid_row": null,
       "grid_template_areas": null,
       "grid_template_columns": null,
       "grid_template_rows": null,
       "height": null,
       "justify_content": null,
       "justify_items": null,
       "left": null,
       "margin": null,
       "max_height": null,
       "max_width": null,
       "min_height": null,
       "min_width": null,
       "object_fit": null,
       "object_position": null,
       "order": null,
       "overflow": null,
       "overflow_x": null,
       "overflow_y": null,
       "padding": null,
       "right": null,
       "top": null,
       "visibility": null,
       "width": null
      }
     },
     "e31ff37f31e84779b17b94e6a7c5fe5f": {
      "model_module": "@jupyter-widgets/controls",
      "model_module_version": "1.5.0",
      "model_name": "DescriptionStyleModel",
      "state": {
       "_model_module": "@jupyter-widgets/controls",
       "_model_module_version": "1.5.0",
       "_model_name": "DescriptionStyleModel",
       "_view_count": null,
       "_view_module": "@jupyter-widgets/base",
       "_view_module_version": "1.2.0",
       "_view_name": "StyleView",
       "description_width": ""
      }
     },
     "e6cddeb0a8af425eb6a3d54c03e8ad36": {
      "model_module": "@jupyter-widgets/controls",
      "model_module_version": "1.5.0",
      "model_name": "HBoxModel",
      "state": {
       "_dom_classes": [],
       "_model_module": "@jupyter-widgets/controls",
       "_model_module_version": "1.5.0",
       "_model_name": "HBoxModel",
       "_view_count": null,
       "_view_module": "@jupyter-widgets/controls",
       "_view_module_version": "1.5.0",
       "_view_name": "HBoxView",
       "box_style": "",
       "children": [
        "IPY_MODEL_54bbeae948fe41c0bb5585c135a801b3",
        "IPY_MODEL_9897c336e7934509a656d98bafb1c37e",
        "IPY_MODEL_cce6bd14496b4d6fa3923468a0cea0a6"
       ],
       "layout": "IPY_MODEL_62731d16c5364a64a7ce3469105f1de1"
      }
     },
     "f47846203acf423faa4b4e2fdc5673b4": {
      "model_module": "@jupyter-widgets/controls",
      "model_module_version": "1.5.0",
      "model_name": "HBoxModel",
      "state": {
       "_dom_classes": [],
       "_model_module": "@jupyter-widgets/controls",
       "_model_module_version": "1.5.0",
       "_model_name": "HBoxModel",
       "_view_count": null,
       "_view_module": "@jupyter-widgets/controls",
       "_view_module_version": "1.5.0",
       "_view_name": "HBoxView",
       "box_style": "",
       "children": [
        "IPY_MODEL_96f76845559047afa2cfc40af7dc697d",
        "IPY_MODEL_8793001bbbcb4f2d9452c287194b7ac4",
        "IPY_MODEL_4484f9146ba34dc3978a384566fe76e4"
       ],
       "layout": "IPY_MODEL_9ad48360350e4c4bbea05a8917b030e2"
      }
     },
     "f70822d038384a229f54f3aefcfe6959": {
      "model_module": "@jupyter-widgets/controls",
      "model_module_version": "1.5.0",
      "model_name": "DescriptionStyleModel",
      "state": {
       "_model_module": "@jupyter-widgets/controls",
       "_model_module_version": "1.5.0",
       "_model_name": "DescriptionStyleModel",
       "_view_count": null,
       "_view_module": "@jupyter-widgets/base",
       "_view_module_version": "1.2.0",
       "_view_name": "StyleView",
       "description_width": ""
      }
     },
     "fc85bcbd996f47cc97e12fde3e0d6206": {
      "model_module": "@jupyter-widgets/controls",
      "model_module_version": "1.5.0",
      "model_name": "DescriptionStyleModel",
      "state": {
       "_model_module": "@jupyter-widgets/controls",
       "_model_module_version": "1.5.0",
       "_model_name": "DescriptionStyleModel",
       "_view_count": null,
       "_view_module": "@jupyter-widgets/base",
       "_view_module_version": "1.2.0",
       "_view_name": "StyleView",
       "description_width": ""
      }
     }
    },
    "version_major": 2,
    "version_minor": 0
   }
  }
 },
 "nbformat": 4,
 "nbformat_minor": 5
}
