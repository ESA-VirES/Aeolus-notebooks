{
 "cells": [
  {
   "cell_type": "markdown",
   "id": "1de3ba72-def3-4547-85ca-34c09f68da30",
   "metadata": {},
   "source": [
    "# Aerosol profile validation\n",
    "\n",
    "> Authors: Alexander Geiss with data from Holger Baars (TROPOS)\n",
    ">\n",
    "> Abstract: Comparing ground-based aerosol lidar measurements with Aeolus L2A data."
   ]
  },
  {
   "cell_type": "markdown",
   "id": "5a9c0e9c-2073-4be2-a830-cc61751763bc",
   "metadata": {},
   "source": [
    "## Load packages, modules and extensions  \n",
    "Note the line for interactive plotting function!"
   ]
  },
  {
   "cell_type": "code",
   "execution_count": null,
   "id": "71502842-bf3b-4ef1-8f65-2656c45dd73a",
   "metadata": {
    "tags": []
   },
   "outputs": [],
   "source": [
    "# %load_ext blackcellmagic\n",
    "# enable following line for interactive visualization backend for matplotlib\n",
    "# %matplotlib widget\n",
    "# print version info\n",
    "%load_ext watermark\n",
    "%watermark -i -v -p viresclient,pandas,xarray,matplotlib"
   ]
  },
  {
   "cell_type": "code",
   "execution_count": null,
   "id": "341a8b9d-772b-4ccc-94c5-55ccdecf9345",
   "metadata": {
    "tags": []
   },
   "outputs": [],
   "source": [
    "from viresclient import AeolusRequest\n",
    "import numpy as np\n",
    "import netCDF4 as nc\n",
    "import xarray as xr\n",
    "import os\n",
    "from ftplib import FTP\n",
    "import matplotlib.pyplot as plt\n",
    "from matplotlib.patches import Rectangle\n",
    "import cartopy.crs as ccrs\n",
    "import cartopy.feature as feature\n",
    "import cartopy.geodesic as geodesic\n",
    "from geopy import distance"
   ]
  },
  {
   "cell_type": "markdown",
   "id": "55404812-8dcf-4c93-8551-bcf982167220",
   "metadata": {},
   "source": [
    "## Download ground-based aerosol lidar data (PollyXT from TROPOS, https://polly.tropos.de/)\n",
    "\n",
    "Example data is stored on the Aeolus CAL/VAL FTP-Server (for details, see: https://www.aeolus.esa.int/confluence/display/CALVAL/Calval+Ftp).  \n",
    "We will first download data for a case above Leipzig, Germany, where a Saharan dust layer could be observed on 8 November 2020."
   ]
  },
  {
   "cell_type": "code",
   "execution_count": null,
   "id": "d97b272e-d6c6-4105-83a6-bef43a13e4ba",
   "metadata": {},
   "outputs": [],
   "source": [
    "# Define folder on FTP\n",
    "folder_name = \"TROPOS_Saharan_Dust_in_Leipzig_Nov_2020\"\n",
    "# File names on FTP\n",
    "filenames = [\n",
    "    \"2020_11_08_Sun_TROPOS_00_00_01_att_bsc.nc\",\n",
    "    \"2020_11_08_Sun_TROPOS_00_00_01_0500_0559_profiles.nc\",\n",
    "]\n",
    "\n",
    "# Get user folder and set/create folder for example files\n",
    "user_folder = os.path.expanduser(\"~\")\n",
    "example_folder = os.path.join(user_folder, f\"files/examples/ground-based/aerosol/{folder_name}\")\n",
    "os.makedirs(example_folder, exist_ok=True)\n",
    "# Set list of file paths\n",
    "file_paths = [example_folder + \"/\" + i for i in filenames]"
   ]
  },
  {
   "cell_type": "code",
   "execution_count": null,
   "id": "9f835550-4a65-4403-8055-1cabb1fd1140",
   "metadata": {},
   "outputs": [],
   "source": [
    "# Set user and password from Aeolus CAL/VAL FTP credentials (see above)\n",
    "USERNAME = os.environ[\"CALVALU\"]\n",
    "PW = os.environ[\"CALVALP\"]\n",
    "# Uncomment following two lines and comment the two lines above to provide your credentials as input\n",
    "# USERNAME = \"xxxx\"\n",
    "# PW = \"xxxx\"\n",
    "\n",
    "# Connect to the Cal/Val FTP server\n",
    "ftp = FTP(\"ftp.eopp.esa.int\")\n",
    "ftp.login(user=USERNAME, passwd=PW)\n",
    "\n",
    "# change directory\n",
    "ftp.cwd(f\"/aeolus_calval/aerosol_case_studies/{folder_name}/\")\n",
    "\n",
    "# Download example files to user space\n",
    "for file_path, filename in zip(file_paths, filenames):\n",
    "    if not os.path.isfile(file_path):\n",
    "        with open(file_path, \"wb\") as fp:\n",
    "            ftp.retrbinary(\"RETR \" + filename, fp.write)\n",
    "\n",
    "# close FTP connection\n",
    "ftp.quit()"
   ]
  },
  {
   "cell_type": "markdown",
   "id": "b26b207a-9bcb-40d8-9d08-cf45b6f4fd6b",
   "metadata": {},
   "source": [
    "## Load netCDF data and prepare data for comparison\n",
    "\n",
    "Load saved ground-based lidar data from netCDF"
   ]
  },
  {
   "cell_type": "code",
   "execution_count": null,
   "id": "ffaa4e75-7996-4e74-9a18-330aa416e10c",
   "metadata": {},
   "outputs": [],
   "source": [
    "pollyXT_attbsc = xr.load_dataset(file_paths[0])\n",
    "pollyXT_profiles = xr.load_dataset(file_paths[1])"
   ]
  },
  {
   "cell_type": "markdown",
   "id": "8a7d8ab3-d24a-4695-8ace-f77f9581cac4",
   "metadata": {},
   "source": [
    "Add datetime representation for time variables/coordinates"
   ]
  },
  {
   "cell_type": "code",
   "execution_count": null,
   "id": "2f3a5d89-13bf-404b-9ebb-37e3ed585111",
   "metadata": {},
   "outputs": [],
   "source": [
    "pollyXT_attbsc[\"datetime\"] = nc.num2date(\n",
    "    pollyXT_attbsc[\"time\"], units=pollyXT_attbsc[\"time\"].unit, only_use_cftime_datetimes=False\n",
    ")\n",
    "pollyXT_profiles[\"start_datetime\"] = (\n",
    "    (\"method\"),\n",
    "    nc.num2date(\n",
    "        pollyXT_profiles[\"start_time\"],\n",
    "        units=pollyXT_profiles[\"start_time\"].unit,\n",
    "        only_use_cftime_datetimes=False,\n",
    "    ),\n",
    ")\n",
    "pollyXT_profiles[\"end_datetime\"] = (\n",
    "    (\"method\"),\n",
    "    nc.num2date(\n",
    "        pollyXT_profiles[\"end_time\"],\n",
    "        units=pollyXT_profiles[\"end_time\"].unit,\n",
    "        only_use_cftime_datetimes=False,\n",
    "    ),\n",
    ")"
   ]
  },
  {
   "cell_type": "markdown",
   "id": "f2bfc257-c912-4e8b-b40d-9b90e95eade0",
   "metadata": {},
   "source": [
    "### Convert particle backscatter coefficient to Aeolus co-polar particle backscatter coefficient\n",
    "\n",
    "Aeolus emits circular polarized light which is then scattered at particles in the atmosphere and only the backscattered light is captured by the telescope where only the co-polar component is measured.  \n",
    "To compare ground-based lidar measurements based on linear polarized light with Aeolus, we have to take into account the polarization as well as only the co-polar component.  \n",
    "Following equations can be used to convert the linear depolarizaton ratio to circular depolarization ratio which can be used to calculate the co-polar part of the ground-based particle backscatter coefficient:\n",
    "\n",
    "$$\\delta_{lin} = \\frac{\\beta_{cross}}{\\beta_{co}}$$\n",
    "\n",
    "$$\\delta_{circ} = \\frac{2\\delta_{lin}}{1-\\delta_{lin}}$$\n",
    "\n",
    "$$S_{co} = S(\\delta_{circ}+1)$$\n",
    "\n",
    "$$\\beta_{co} = \\frac{\\beta_{tot}}{(\\delta_{circ}+1)}$$"
   ]
  },
  {
   "cell_type": "code",
   "execution_count": null,
   "id": "d7f07592-e088-49e6-b1e4-8ea1e662e4bb",
   "metadata": {},
   "outputs": [],
   "source": [
    "# calculate circular depolarization ratio\n",
    "parDepol_raman_355_circ = (\n",
    "    2 * pollyXT_profiles[\"parDepol_raman_355\"] / (1 - pollyXT_profiles[\"parDepol_raman_355\"])\n",
    ")\n",
    "\n",
    "# calculate co-polar particle backscatter coefficient component\n",
    "aerBsc_raman_355_copolar = pollyXT_profiles[\"aerBsc_raman_355\"] / (1 + parDepol_raman_355_circ)\n",
    "\n",
    "# calculate co-polar aerosol lidar ratio\n",
    "aerLR_raman_355_copolar = pollyXT_profiles[\"aerLR_raman_355\"] * (1 + parDepol_raman_355_circ)\n",
    "\n",
    "# Add both paramters to the xarray dataset\n",
    "pollyXT_profiles[\"parDepol_raman_355_circ\"] = ((\"height\"), parDepol_raman_355_circ.data)\n",
    "pollyXT_profiles[\"aerBsc_raman_355_copolar\"] = ((\"height\"), aerBsc_raman_355_copolar.data)\n",
    "pollyXT_profiles[\"aerLR_raman_355_copolar\"] = ((\"height\"), aerLR_raman_355_copolar.data)"
   ]
  },
  {
   "cell_type": "code",
   "execution_count": null,
   "id": "38be1bf9-f4c6-4ca5-a921-4008e7d45c9d",
   "metadata": {},
   "outputs": [],
   "source": [
    "# PollyXT height is given above ground level.\n",
    "# For comparison with Aeolus we have to calculate height above sea level in km by adding the station altitude.\n",
    "pollyXT_profiles[\"height_asl_km\"] = (\n",
    "    (\"height\"),\n",
    "    (pollyXT_profiles[\"height\"].data + pollyXT_profiles[\"altitude\"].data) / 1000,\n",
    ")"
   ]
  },
  {
   "cell_type": "markdown",
   "id": "5ab15fa9-8435-4be6-b5b6-0dd44898b654",
   "metadata": {},
   "source": [
    "Plot ground-site data products of interest for Aeolus validation.  \n",
    "Note that a rolling median is applied to the profile data to smooth the curves."
   ]
  },
  {
   "cell_type": "code",
   "execution_count": null,
   "id": "616dbe3b-9673-4af7-b834-0a05ecb9fe31",
   "metadata": {},
   "outputs": [],
   "source": [
    "fig = plt.figure(figsize=(10, 8), constrained_layout=True)  # , constrained_layout=True)\n",
    "ax = []\n",
    "gs = fig.add_gridspec(2, 4)\n",
    "ax.append(fig.add_subplot(gs[1, 0]))\n",
    "ax.append(fig.add_subplot(gs[1, 1], sharey=ax[0]))\n",
    "ax.append(fig.add_subplot(gs[1, 2], sharey=ax[0]))\n",
    "ax.append(fig.add_subplot(gs[1, 3], sharey=ax[0]))\n",
    "ax.append(fig.add_subplot(gs[0, :]))\n",
    "\n",
    "ax[0].plot(\n",
    "    pollyXT_profiles[\"aerBsc_raman_355\"].rolling(height=9).median(),\n",
    "    pollyXT_profiles[\"height_asl_km\"],\n",
    "    label=\"total\",\n",
    ")\n",
    "ax[0].plot(\n",
    "    pollyXT_profiles[\"aerBsc_raman_355_copolar\"].rolling(height=9).median(),\n",
    "    pollyXT_profiles[\"height_asl_km\"],\n",
    "    label=\"co-polar\",\n",
    ")\n",
    "ax[0].set_ylim(0, 15)\n",
    "ax[0].set_xlim(-0.5e-6, 4e-6)\n",
    "ax[0].set_ylabel(\"Altitude asl [km]\")\n",
    "ax[0].set_xlabel(\n",
    "    \"Particle backscatter \\n coefficient \\n [{}]\".format(pollyXT_profiles[\"aerBsc_raman_355\"].unit)\n",
    ")\n",
    "ax[0].legend(loc=\"upper right\")\n",
    "\n",
    "ax[1].plot(\n",
    "    pollyXT_profiles[\"aerExt_raman_355\"].rolling(height=9).median(),\n",
    "    pollyXT_profiles[\"height_asl_km\"],\n",
    ")\n",
    "ax[1].set_xlabel(\n",
    "    \"Particle extinction \\n coefficient \\n [{}]\".format(pollyXT_profiles[\"aerExt_raman_355\"].unit)\n",
    ")\n",
    "ax[1].set_xlim(-0.5e-4, 4e-4)\n",
    "ax[1].tick_params(labelleft=False)\n",
    "\n",
    "ax[2].plot(\n",
    "    pollyXT_profiles[\"aerLR_raman_355\"].rolling(height=9).median(),\n",
    "    pollyXT_profiles[\"height_asl_km\"],\n",
    "    label=\"total\",\n",
    ")\n",
    "ax[2].plot(\n",
    "    pollyXT_profiles[\"aerLR_raman_355_copolar\"].rolling(height=5).median(),\n",
    "    pollyXT_profiles[\"height_asl_km\"],\n",
    "    label=\"co-polar\",\n",
    ")\n",
    "ax[2].set_xlabel(\"Particle lidar ratio \\n [{}]\".format(pollyXT_profiles[\"aerLR_raman_355\"].unit))\n",
    "ax[2].set_xlim(0, 120)\n",
    "ax[2].tick_params(labelleft=False)\n",
    "ax[2].legend(loc=\"upper right\")\n",
    "\n",
    "ax[3].plot(\n",
    "    pollyXT_profiles[\"parDepol_raman_355\"].rolling(height=9).median(),\n",
    "    pollyXT_profiles[\"height_asl_km\"],\n",
    "    label=\"linear\",\n",
    ")\n",
    "ax[3].plot(\n",
    "    pollyXT_profiles[\"parDepol_raman_355_circ\"].rolling(height=9).median(),\n",
    "    pollyXT_profiles[\"height_asl_km\"],\n",
    "    label=\"circular\",\n",
    ")\n",
    "ax[3].set_xlabel(\"Particle depolarization \\n ratio\")\n",
    "ax[3].set_xlim(0, 1.0)\n",
    "ax[3].tick_params(labelleft=False)\n",
    "ax[3].legend(loc=\"upper right\")\n",
    "\n",
    "img = ax[4].pcolormesh(\n",
    "    pollyXT_attbsc[\"datetime\"].values,\n",
    "    (pollyXT_attbsc[\"height\"].values + pollyXT_attbsc[\"altitude\"].values) / 1000,\n",
    "    pollyXT_attbsc[\"attenuated_backscatter_1064nm\"].values[:-1, :-1].T,\n",
    "    vmin=0,\n",
    "    vmax=np.percentile(pollyXT_attbsc[\"attenuated_backscatter_1064nm\"].values, 99),\n",
    "    cmap=\"YlGnBu_r\",\n",
    ")\n",
    "ax[4].axvspan(\n",
    "    pollyXT_profiles[\"start_datetime\"][0].values,\n",
    "    pollyXT_profiles[\"end_datetime\"][0].values,\n",
    "    alpha=0.8,\n",
    "    label=\"profile time average\",\n",
    "    ec='r',\n",
    "    fill=False,\n",
    "    lw=5\n",
    ")\n",
    "ax[4].set_ylabel(\"Altitude asl [km]\")\n",
    "ax[4].set_ylim(0, 15)\n",
    "ax[4].set_xlabel(\"Time [UTC]\")\n",
    "ax[4].legend(loc=\"upper right\")\n",
    "\n",
    "fig.colorbar(\n",
    "    img,\n",
    "    ax=ax[4],\n",
    "    aspect=20,\n",
    "    pad=0.0001,\n",
    "    label=\"{} \\n [{}]\".format(\n",
    "        pollyXT_attbsc[\"attenuated_backscatter_1064nm\"].long_name,\n",
    "        pollyXT_attbsc[\"attenuated_backscatter_1064nm\"].unit,\n",
    "    ),\n",
    ")\n",
    "\n",
    "for axis in ax:\n",
    "    axis.grid()\n",
    "\n",
    "fig.suptitle(\n",
    "    \"PollyXT measurement at 355 nm averaged from {} until {}\".format(\n",
    "        pollyXT_profiles[\"start_datetime\"][0].values.astype(\"datetime64[s]\"),\n",
    "        pollyXT_profiles[\"end_datetime\"][0].values.astype(\"datetime64[s]\"),\n",
    "    )\n",
    ")"
   ]
  },
  {
   "cell_type": "markdown",
   "id": "923246dd-2229-4723-a35c-ffef124090c6",
   "metadata": {},
   "source": [
    "In the ground-based lidar data we can see a strong aerosol layer at around 2 km altitude starting at 03:00 UTC.  \n",
    "Now, let's see if Aeolus could capture this aerosol layer as well."
   ]
  },
  {
   "cell_type": "markdown",
   "id": "8ec599cd-3529-4b46-b70c-a7ca04712db6",
   "metadata": {},
   "source": [
    "## Retrieve Aeolus data for the ground-site geolocation and measurement time"
   ]
  },
  {
   "cell_type": "code",
   "execution_count": null,
   "id": "1cc2c9d3-0286-4277-9b07-1bc9d96455dc",
   "metadata": {},
   "outputs": [],
   "source": [
    "# get location and time-range from ground-based lidar data\n",
    "# latitude and longitude in the data is swapped, so we need to correct for this.\n",
    "longitude_collocated = float(pollyXT_attbsc[\"latitude\"].values)\n",
    "latitude_collocated = float(pollyXT_attbsc[\"longitude\"].values)\n",
    "time_collocated_min = (\n",
    "    pollyXT_attbsc[\"datetime\"]\n",
    "    .min()\n",
    "    .values.astype(\"datetime64[s]\")\n",
    ")\n",
    "time_collocated_max = (\n",
    "    pollyXT_attbsc[\"datetime\"]\n",
    "    .max()\n",
    "    .values.astype(\"datetime64[s]\")\n",
    ")"
   ]
  },
  {
   "cell_type": "code",
   "execution_count": null,
   "id": "2c82a42a-6695-47d8-8dda-6b7851b40499",
   "metadata": {},
   "outputs": [],
   "source": [
    "# measurement period in yyyy-mm-ddTHH:MM:SS\n",
    "measurement_start = str(time_collocated_min)\n",
    "measurement_stop = str(time_collocated_max)"
   ]
  },
  {
   "cell_type": "code",
   "execution_count": null,
   "id": "55357af6-5757-4ce0-b2e3-3f0ee3fcaf72",
   "metadata": {},
   "outputs": [],
   "source": [
    "parameter_observation = [\n",
    "    \"L1B_start_time_obs\",\n",
    "    \"L1B_centroid_time_obs\",\n",
    "    \"longitude_of_DEM_intersection_obs\",\n",
    "    \"latitude_of_DEM_intersection_obs\",\n",
    "    \"altitude_of_DEM_intersection_obs\",\n",
    "    \"rayleigh_altitude_obs\",\n",
    "    \"sca_mask\",\n",
    "]\n",
    "\n",
    "parameter_sca = [\n",
    "    \"SCA_time_obs\",\n",
    "    \"SCA_middle_bin_altitude_obs\",\n",
    "    \"SCA_QC_flag\",\n",
    "    \"SCA_processing_qc_flag\",\n",
    "    \"SCA_middle_bin_processing_qc_flag\",\n",
    "    \"SCA_extinction\",\n",
    "    \"SCA_extinction_variance\",\n",
    "    \"SCA_backscatter\",\n",
    "    \"SCA_backscatter_variance\",\n",
    "    \"SCA_LOD\",\n",
    "    \"SCA_LOD_variance\",\n",
    "    \"SCA_middle_bin_extinction\",\n",
    "    \"SCA_middle_bin_extinction_variance\",\n",
    "    \"SCA_middle_bin_backscatter\",\n",
    "    \"SCA_middle_bin_backscatter_variance\",\n",
    "    \"SCA_middle_bin_LOD\",\n",
    "    \"SCA_middle_bin_LOD_variance\",\n",
    "    \"SCA_middle_bin_BER\",\n",
    "    \"SCA_middle_bin_BER_variance\",\n",
    "    \"SCA_SR\",\n",
    "]"
   ]
  },
  {
   "cell_type": "code",
   "execution_count": null,
   "id": "f426da32-4c53-493d-9107-808d0aeca2e7",
   "metadata": {},
   "outputs": [],
   "source": [
    "# Data request for SCA aerosol product\n",
    "request = AeolusRequest()\n",
    "\n",
    "request.set_collection(\"ALD_U_N_2A\")\n",
    "\n",
    "# set observation fields\n",
    "request.set_fields(\n",
    "    observation_fields=parameter_observation,\n",
    ")\n",
    "\n",
    "# set SCA fields\n",
    "request.set_fields(\n",
    "    sca_fields=parameter_sca,\n",
    ")\n",
    "\n",
    "# Set bounding box for the area around the ground-site geolocation\n",
    "request.set_bbox(\n",
    "    {\n",
    "        \"n\": latitude_collocated + 2,\n",
    "        \"w\": longitude_collocated - 2,\n",
    "        \"s\": latitude_collocated - 2,\n",
    "        \"e\": longitude_collocated + 2,\n",
    "    }\n",
    ")\n",
    "\n",
    "# set start and end time and request data\n",
    "data_sca = request.get_between(\n",
    "    start_time=measurement_start, end_time=measurement_stop, filetype=\"nc\", asynchronous=True\n",
    ")\n",
    "\n",
    "# Save data as xarray data set\n",
    "ds_sca_preliminary = data_sca.as_xarray()"
   ]
  },
  {
   "cell_type": "code",
   "execution_count": null,
   "id": "cb165890-452e-48e1-ba93-930a84c81a15",
   "metadata": {},
   "outputs": [],
   "source": [
    "# Data request for SCA aerosol product\n",
    "request = AeolusRequest()\n",
    "\n",
    "request.set_collection(\"ALD_U_N_1B\")\n",
    "\n",
    "# set observation fields\n",
    "request.set_fields(\n",
    "    observation_fields=[\"rayleigh_SNR\", \"mie_SNR\", \"rayleigh_altitude\", \"mie_altitude\", \"time\"],\n",
    ")\n",
    "\n",
    "# Set bounding box for the area around the ground-site geolocation\n",
    "request.set_bbox(\n",
    "    {\n",
    "        \"n\": latitude_collocated + 2,\n",
    "        \"w\": longitude_collocated - 2,\n",
    "        \"s\": latitude_collocated - 2,\n",
    "        \"e\": longitude_collocated + 2,\n",
    "    }\n",
    ")\n",
    "\n",
    "# set start and end time and request data\n",
    "data_L1B = request.get_between(\n",
    "    start_time=measurement_start, end_time=measurement_stop, filetype=\"nc\", asynchronous=True\n",
    ")\n",
    "\n",
    "# Save data as xarray data set\n",
    "ds_L1B = data_L1B.as_xarray()"
   ]
  },
  {
   "cell_type": "markdown",
   "id": "c586f4c6-b47e-4916-8d64-591498802e13",
   "metadata": {},
   "source": [
    "The following processing is already shown and explained in the Demo_ALD_U_N_2A jupyter notebook.  \n",
    "### Remove duplicate profiles in L2A product\n",
    "Especially at the border of two L2A raw data files, duplicates can be present. These must be removed by using the time parameters.\n",
    "It can happen that they are also present in data which is retrieved from the VirES server."
   ]
  },
  {
   "cell_type": "code",
   "execution_count": null,
   "id": "3c9f77fb-742e-45e0-9c02-b7e30834d48c",
   "metadata": {
    "tags": []
   },
   "outputs": [],
   "source": [
    "# Create mask of unique profiles\n",
    "_, unique_mask = np.unique(ds_sca_preliminary[\"SCA_time_obs\"], return_index=True)\n",
    "\n",
    "# Create new dataset and fill in L2A dataset variables with applied unique_mask\n",
    "ds_sca = xr.Dataset()\n",
    "for param in ds_sca_preliminary.keys():\n",
    "    ds_sca[param] = (\n",
    "        ds_sca_preliminary[param].dims,\n",
    "        ds_sca_preliminary[param].data[unique_mask],\n",
    "        ds_sca_preliminary[param].attrs,\n",
    "    )\n",
    "del ds_sca_preliminary"
   ]
  },
  {
   "cell_type": "markdown",
   "id": "1cba58b1-6296-461e-9742-841122a64f15",
   "metadata": {
    "execution": {
     "iopub.execute_input": "2021-05-06T14:44:46.457637Z",
     "iopub.status.busy": "2021-05-06T14:44:46.456925Z",
     "iopub.status.idle": "2021-05-06T14:44:55.982813Z",
     "shell.execute_reply": "2021-05-06T14:44:55.983200Z"
    }
   },
   "source": [
    "### Add datetime variable to the data sets"
   ]
  },
  {
   "cell_type": "code",
   "execution_count": null,
   "id": "2a7d4de4-12e1-4923-a36c-732f6845f01f",
   "metadata": {
    "tags": []
   },
   "outputs": [],
   "source": [
    "ds_sca[\"SCA_time_obs_datetime\"] = (\n",
    "    (\"sca_dim\"),\n",
    "    nc.num2date(\n",
    "        ds_sca[\"SCA_time_obs\"], units=\"s since 2000-01-01\", only_use_cftime_datetimes=False\n",
    "    ),\n",
    ")\n",
    "\n",
    "ds_sca[\"L1B_start_time_obs_datetime\"] = (\n",
    "    (\"observation\"),\n",
    "    nc.num2date(\n",
    "        ds_sca[\"L1B_start_time_obs\"], units=\"s since 2000-01-01\", only_use_cftime_datetimes=False\n",
    "    ),\n",
    ")\n",
    "\n",
    "ds_sca[\"L1B_centroid_time_obs_datetime\"] = (\n",
    "    (\"observation\"),\n",
    "    nc.num2date(\n",
    "        ds_sca[\"L1B_centroid_time_obs\"], units=\"s since 2000-01-01\", only_use_cftime_datetimes=False\n",
    "    ),\n",
    ")\n",
    "\n",
    "ds_L1B[\"datetime\"] = (\n",
    "    (\"observation\"),\n",
    "    nc.num2date(ds_L1B[\"time\"], units=\"s since 2000-01-01\", only_use_cftime_datetimes=False),\n",
    ")"
   ]
  },
  {
   "cell_type": "markdown",
   "id": "7939ede0-17aa-4a0b-b861-c351a66a501d",
   "metadata": {},
   "source": [
    "### Extract bits from processing_qc_flag and add them to the data sets for QC"
   ]
  },
  {
   "cell_type": "code",
   "execution_count": null,
   "id": "0f5527a0-1c36-4a1e-8222-276e02eb867a",
   "metadata": {
    "tags": []
   },
   "outputs": [],
   "source": [
    "ds_sca[\"SCA_validity_flags\"] = (\n",
    "    (\"sca_dim\", \"array_24\", \"array_8\"),\n",
    "    np.unpackbits(\n",
    "        ds_sca[\"SCA_processing_qc_flag\"][:, :].values.view(np.uint8), bitorder=\"little\"\n",
    "    ).reshape([-1, 24, 8]),\n",
    ")\n",
    "ds_sca[\"SCA_middle_bin_validity_flags\"] = (\n",
    "    (\"sca_dim\", \"array_23\", \"array_8\"),\n",
    "    np.unpackbits(\n",
    "        ds_sca[\"SCA_middle_bin_processing_qc_flag\"][:, :].values.view(np.uint8), bitorder=\"little\"\n",
    "    ).reshape([-1, 23, 8]),\n",
    ")"
   ]
  },
  {
   "cell_type": "markdown",
   "id": "ef84bace-15cb-4ed6-8238-655934e07065",
   "metadata": {
    "execution": {
     "iopub.execute_input": "2021-05-06T14:44:46.457637Z",
     "iopub.status.busy": "2021-05-06T14:44:46.456925Z",
     "iopub.status.idle": "2021-05-06T14:44:55.982813Z",
     "shell.execute_reply": "2021-05-06T14:44:55.983200Z"
    }
   },
   "source": [
    "### Add SCA/SCA-mid-bin geolocation and SCA altitude "
   ]
  },
  {
   "cell_type": "code",
   "execution_count": null,
   "id": "9ce8bd9b-9bfc-4d7b-a19a-8bf658ab4f30",
   "metadata": {
    "tags": []
   },
   "outputs": [],
   "source": [
    "# SCA altitude\n",
    "ds_sca[\"SCA_bin_altitude_obs\"] = (\n",
    "    (\"sca_dim\", \"array_25\"),\n",
    "    ds_sca[\"rayleigh_altitude_obs\"][ds_sca[\"sca_mask\"].astype(bool)].data,\n",
    ")\n",
    "# SCA and SCA-mid-bin longitude\n",
    "ds_sca[\"SCA_longitude\"] = (\n",
    "    (\"sca_dim\"),\n",
    "    ds_sca[\"longitude_of_DEM_intersection_obs\"][ds_sca[\"sca_mask\"].astype(bool)].data,\n",
    ")\n",
    "# SCA and SCA-mid-bin latitude\n",
    "ds_sca[\"SCA_latitude\"] = (\n",
    "    (\"sca_dim\"),\n",
    "    ds_sca[\"latitude_of_DEM_intersection_obs\"][ds_sca[\"sca_mask\"].astype(bool)].data,\n",
    ")"
   ]
  },
  {
   "cell_type": "markdown",
   "id": "59ab29fa-179a-442d-8cfc-60d1f7697d29",
   "metadata": {
    "execution": {
     "iopub.execute_input": "2021-05-06T14:44:46.457637Z",
     "iopub.status.busy": "2021-05-06T14:44:46.456925Z",
     "iopub.status.idle": "2021-05-06T14:44:55.982813Z",
     "shell.execute_reply": "2021-05-06T14:44:55.983200Z"
    }
   },
   "source": [
    "### Add SCA/SCA-mid-bin altitude for CoG\n",
    "Altitude are given for the range bin boundaries but center altitude are needed for profile plots."
   ]
  },
  {
   "cell_type": "code",
   "execution_count": null,
   "id": "0e276118-37ca-46f2-baa7-153a76ded006",
   "metadata": {
    "tags": []
   },
   "outputs": [],
   "source": [
    "# SCA altitude for range bin center\n",
    "ds_sca[\"SCA_bin_altitude_center_obs\"] = (\n",
    "    (\"sca_dim\", \"array_24\"),\n",
    "    ds_sca[\"SCA_bin_altitude_obs\"][:, 1:].data\n",
    "    - ds_sca[\"SCA_bin_altitude_obs\"].diff(dim=\"array_25\").data / 2.0,\n",
    ")\n",
    "\n",
    "# SCA mid-bin altitude for range bin center\n",
    "ds_sca[\"SCA_middle_bin_altitude_center_obs\"] = (\n",
    "    (\"sca_dim\", \"array_23\"),\n",
    "    ds_sca[\"SCA_middle_bin_altitude_obs\"][:, 1:].data\n",
    "    - ds_sca[\"SCA_middle_bin_altitude_obs\"].diff(dim=\"array_24\").data / 2.0,\n",
    ")"
   ]
  },
  {
   "cell_type": "markdown",
   "id": "8cbfa335-54be-44da-8564-8ebbc7c0964a",
   "metadata": {},
   "source": [
    "### Add lidar ratio\n",
    "Lidar ratio is just the inverse of the backscatter to extinction ratio (BER)"
   ]
  },
  {
   "cell_type": "code",
   "execution_count": null,
   "id": "6bfed0c4-08dc-4776-b6d5-ebdb62a93a07",
   "metadata": {
    "tags": []
   },
   "outputs": [],
   "source": [
    "ds_sca[\"SCA_middle_bin_lidar_ratio\"] = (\n",
    "    (\"sca_dim\", \"array_23\"),\n",
    "    1.0 / ds_sca[\"SCA_middle_bin_BER\"].data,\n",
    ")"
   ]
  },
  {
   "cell_type": "markdown",
   "id": "b2a69e01-a595-471d-9263-999ce50c2ebb",
   "metadata": {},
   "source": [
    "### Add L1B_SNR to SCA dataset\n",
    "L1B SNR can be used as the main proxy for QC-filtering."
   ]
  },
  {
   "cell_type": "code",
   "execution_count": null,
   "id": "016bafb5-e685-47bf-9142-b80e0f84c258",
   "metadata": {
    "tags": []
   },
   "outputs": [],
   "source": [
    "# SNR for SCA\n",
    "rayleigh_SNR = ds_L1B[\"rayleigh_SNR\"][:, :-1][ds_sca[\"sca_mask\"].astype(bool)].data\n",
    "ds_sca[\"SCA_rayleigh_SNR\"] = (\n",
    "    (\"sca_dim\", \"array_24\"),\n",
    "    rayleigh_SNR,\n",
    ")\n",
    "mie_SNR = ds_L1B[\"mie_SNR\"][:, :-1][ds_sca[\"sca_mask\"].astype(bool)].data\n",
    "ds_sca[\"SCA_mie_SNR\"] = (\n",
    "    (\"sca_dim\", \"array_24\"),\n",
    "    mie_SNR,\n",
    ")\n",
    "\n",
    "# SNR for SCA_middle_bin\n",
    "rayleigh_SNR_mid_bin = (rayleigh_SNR[:, :-1] + rayleigh_SNR[:, 1:]) / 2.0\n",
    "ds_sca[\"SCA_middle_bin_rayleigh_SNR\"] = (\n",
    "    (\"sca_dim\", \"array_23\"),\n",
    "    rayleigh_SNR_mid_bin,\n",
    ")\n",
    "mie_SNR_mid_bin = (mie_SNR[:, :-1] + mie_SNR[:, 1:]) / 2.0\n",
    "ds_sca[\"SCA_middle_bin_mie_SNR\"] = (\n",
    "    (\"sca_dim\", \"array_23\"),\n",
    "    mie_SNR_mid_bin,\n",
    ")"
   ]
  },
  {
   "cell_type": "markdown",
   "id": "ce03a5c1-92cc-49b8-ad3f-91fd31150561",
   "metadata": {},
   "source": [
    "### Scale backscatter and extinction with 1e-6\n",
    "Backscatter and extinction values in the L2A product are scaled with 1e-6."
   ]
  },
  {
   "cell_type": "code",
   "execution_count": null,
   "id": "1ec0cea0-3218-423c-a465-6b5320f45de3",
   "metadata": {
    "tags": []
   },
   "outputs": [],
   "source": [
    "for parameter in [\n",
    "    \"SCA_extinction\",\n",
    "    \"SCA_backscatter\",\n",
    "    \"SCA_middle_bin_extinction\",\n",
    "    \"SCA_middle_bin_backscatter\",\n",
    "]:\n",
    "    ds_sca[parameter] *= 1e-6"
   ]
  },
  {
   "cell_type": "markdown",
   "id": "9350981b-3441-4eb5-bbad-793b278e8653",
   "metadata": {},
   "source": [
    "## Plot overview map of ground-site and collocated Aeolus measurements"
   ]
  },
  {
   "cell_type": "code",
   "execution_count": null,
   "id": "46cd381d-9ce4-4575-86f9-545fd48bb08f",
   "metadata": {
    "tags": []
   },
   "outputs": [],
   "source": [
    "fig = plt.figure(figsize=(8, 6))\n",
    "ax = fig.add_subplot(1, 1, 1, projection=ccrs.Mercator(central_longitude=longitude_collocated))\n",
    "ax.set_extent(\n",
    "    [\n",
    "        longitude_collocated - 6,\n",
    "        longitude_collocated + 7,\n",
    "        latitude_collocated - 4,\n",
    "        latitude_collocated + 4,\n",
    "    ],\n",
    "    crs=ccrs.PlateCarree(),\n",
    ")\n",
    "ax.stock_img()\n",
    "ax.add_feature(feature.LAKES)\n",
    "ax.add_feature(feature.RIVERS, linestyle=\"-\")\n",
    "ax.add_feature(feature.BORDERS.with_scale(\"50m\"), linestyle=\"-\")\n",
    "ax.coastlines(resolution=\"50m\")\n",
    "gl = ax.gridlines(draw_labels=True, linewidth=0.3, color=\"black\", alpha=0.5, linestyle=\"-\")\n",
    "\n",
    "ax.add_patch(\n",
    "    Rectangle(\n",
    "        xy=[longitude_collocated - 2, latitude_collocated - 2],\n",
    "        width=4,\n",
    "        height=4,\n",
    "        facecolor=\"blue\",\n",
    "        alpha=0.2,\n",
    "        transform=ccrs.PlateCarree(),\n",
    "        label=\"bbox (request)\",\n",
    "    )\n",
    ")\n",
    "\n",
    "ax.scatter(\n",
    "    ds_sca[\"longitude_of_DEM_intersection_obs\"],\n",
    "    ds_sca[\"latitude_of_DEM_intersection_obs\"],\n",
    "    marker=\"o\",\n",
    "    c=\"k\",\n",
    "    s=5,\n",
    "    label=\"geolocation CoG\",\n",
    "    transform=ccrs.Geodetic(),\n",
    ")\n",
    "ax.scatter(\n",
    "    ds_sca[\"longitude_of_DEM_intersection_obs\"][0],\n",
    "    ds_sca[\"latitude_of_DEM_intersection_obs\"][0],\n",
    "    marker=\"o\",\n",
    "    c=\"g\",\n",
    "    edgecolor=\"g\",\n",
    "    label=\"start\",\n",
    "    transform=ccrs.Geodetic(),\n",
    ")\n",
    "ax.scatter(\n",
    "    ds_sca[\"longitude_of_DEM_intersection_obs\"][-1],\n",
    "    ds_sca[\"latitude_of_DEM_intersection_obs\"][-1],\n",
    "    marker=\"o\",\n",
    "    c=\"r\",\n",
    "    edgecolor=\"r\",\n",
    "    label=\"stop\",\n",
    "    transform=ccrs.Geodetic(),\n",
    ")\n",
    "ax.scatter(\n",
    "    longitude_collocated,\n",
    "    latitude_collocated,\n",
    "    marker=\"x\",\n",
    "    c=\"b\",\n",
    "    # edgecolor=\"b\",\n",
    "    label=\"ground site\",\n",
    "    transform=ccrs.Geodetic(),\n",
    ")\n",
    "\n",
    "circle = geodesic.Geodesic().circle(longitude_collocated, latitude_collocated, 100000, 180, True)\n",
    "ax.plot(circle[:, 0], circle[:, 1], \"b-\", transform=ccrs.Geodetic(), label=\"100 km radius\")\n",
    "\n",
    "ax.legend()\n",
    "ax.set_title(\n",
    "    \"Aeolus orbit \\n from {} to {}\".format(\n",
    "        ds_sca[\"SCA_time_obs_datetime\"][0].values.astype(\"datetime64[s]\"),\n",
    "        ds_sca[\"SCA_time_obs_datetime\"][-1].values.astype(\"datetime64[s]\"),\n",
    "    )\n",
    ")"
   ]
  },
  {
   "cell_type": "code",
   "execution_count": null,
   "id": "a81df589-c355-4b71-9c0a-d78c784e40a0",
   "metadata": {},
   "outputs": [],
   "source": [
    "# calculate distance to ground site from L2A obs center and save to list\n",
    "dist_to_site = [\n",
    "    int(distance.distance((latitude_collocated, longitude_collocated), (i, j)).km)\n",
    "    for i, j in zip(\n",
    "        ds_sca[\"latitude_of_DEM_intersection_obs\"], ds_sca[\"longitude_of_DEM_intersection_obs\"]\n",
    "    )\n",
    "]"
   ]
  },
  {
   "cell_type": "markdown",
   "id": "7ecbcaa8-e289-4c6b-9390-392ba82bc369",
   "metadata": {},
   "source": [
    "## Compare profiles from Aeolus and ground-site"
   ]
  },
  {
   "cell_type": "code",
   "execution_count": null,
   "id": "6ccd9cba-e621-4686-a843-4f4e0780c4f3",
   "metadata": {},
   "outputs": [],
   "source": [
    "def plot_profile_comparison(i):\n",
    "    \"\"\"\n",
    "    Function for Aeolus L2A with ground-based PollyXT data\n",
    "\n",
    "    Parameters\n",
    "    ----------\n",
    "    i : 'int'\n",
    "        id of the L2A profile to plot (see map plot above for geolocation)\n",
    "    \"\"\"\n",
    "\n",
    "    if i > (ds_sca.dims[\"observation\"] - 1):\n",
    "        print(f\"maximum profile_id is {ds_sca.dims['observation']-1}\")\n",
    "    else:\n",
    "        fig, ax = plt.subplots(1, 5, figsize=(13, 5), sharey=True, constrained_layout=True)\n",
    "\n",
    "        ax[0].plot(\n",
    "            pollyXT_profiles[\"aerBsc_raman_355\"].rolling(height=9).median(),\n",
    "            pollyXT_profiles[\"height_asl_km\"],\n",
    "            label=\"PollyXT total\",\n",
    "        )\n",
    "        ax[0].plot(\n",
    "            pollyXT_profiles[\"aerBsc_raman_355_copolar\"].rolling(height=9).median(),\n",
    "            pollyXT_profiles[\"height_asl_km\"],\n",
    "            label=\"PollyXT co-polar\",\n",
    "        )\n",
    "        # In the following subplots we don't plot the first SCA_middle_bin, because its altitude is always -1\n",
    "        ax[0].plot(\n",
    "            ds_sca[\"SCA_middle_bin_backscatter\"][i, 1:],\n",
    "            ds_sca[\"SCA_middle_bin_altitude_center_obs\"][i, 1:] / 1000.0,\n",
    "            label=\"SCA_middle_bin\",\n",
    "        )\n",
    "\n",
    "        ax[0].set_ylim(0, 15)\n",
    "        ax[0].set_xlim(-0.5e-6, 4e-6)\n",
    "        ax[0].set_ylabel(\"Altitude asl [km]\")\n",
    "        ax[0].set_xlabel(\n",
    "            \"Particle backscatter \\n coefficient \\n [{}]\".format(\n",
    "                pollyXT_profiles[\"aerBsc_raman_355\"].unit\n",
    "            )\n",
    "        )\n",
    "        ax[0].legend(loc=\"upper right\")\n",
    "\n",
    "        ax[1].plot(\n",
    "            pollyXT_profiles[\"aerExt_raman_355\"].rolling(height=9).median(),\n",
    "            pollyXT_profiles[\"height_asl_km\"],\n",
    "            label=\"PollyXT\",\n",
    "        )\n",
    "        ax[1].plot(\n",
    "            ds_sca[\"SCA_middle_bin_extinction\"][i, 1:],\n",
    "            ds_sca[\"SCA_middle_bin_altitude_center_obs\"][i, 1:] / 1000.0,\n",
    "            label=\"SCA_middle_bin\",\n",
    "        )\n",
    "\n",
    "        ax[1].set_xlabel(\n",
    "            \"Particle extinction \\n coefficient \\n [{}]\".format(\n",
    "                pollyXT_profiles[\"aerExt_raman_355\"].unit\n",
    "            )\n",
    "        )\n",
    "        ax[1].set_xlim(-0.5e-4, 4e-4)\n",
    "        ax[1].tick_params(labelleft=False)\n",
    "        ax[1].legend(loc=\"upper right\")\n",
    "\n",
    "        ax[2].plot(\n",
    "            pollyXT_profiles[\"aerLR_raman_355\"].rolling(height=9).median(),\n",
    "            pollyXT_profiles[\"height_asl_km\"],\n",
    "            label=\"PollyXT total\",\n",
    "        )\n",
    "        ax[2].plot(\n",
    "            pollyXT_profiles[\"aerLR_raman_355_copolar\"].rolling(height=5).median(),\n",
    "            pollyXT_profiles[\"height_asl_km\"],\n",
    "            label=\"PollyXT co-polar\",\n",
    "        )\n",
    "        ax[2].plot(\n",
    "            ds_sca[\"SCA_middle_bin_lidar_ratio\"][i, 1:],\n",
    "            ds_sca[\"SCA_middle_bin_altitude_center_obs\"][i, 1:] / 1000.0,\n",
    "            label=\"SCA_middle_bin\",\n",
    "        )\n",
    "\n",
    "        ax[2].set_xlabel(\n",
    "            \"Particle lidar ratio \\n [{}]\".format(pollyXT_profiles[\"aerLR_raman_355\"].unit)\n",
    "        )\n",
    "        ax[2].set_xlim(0, 150)\n",
    "        ax[2].tick_params(labelleft=False)\n",
    "        ax[2].legend(loc=\"upper right\")\n",
    "\n",
    "        ax[3].plot(\n",
    "            ds_sca[\"SCA_middle_bin_rayleigh_SNR\"][i, 1:],\n",
    "            ds_sca[\"SCA_middle_bin_altitude_center_obs\"][i, 1:] / 1000.0,\n",
    "            label=\"Rayleigh\",\n",
    "        )\n",
    "        ax[3].plot(\n",
    "            ds_sca[\"SCA_middle_bin_mie_SNR\"][i, 1:],\n",
    "            ds_sca[\"SCA_middle_bin_altitude_center_obs\"][i, 1:] / 1000.0,\n",
    "            label=\"Mie\",\n",
    "        )\n",
    "        ax[3].set_xlabel(\"SNR\")\n",
    "        ax[3].set_xlim(0, 220)\n",
    "        ax[3].tick_params(labelleft=False)\n",
    "        ax[3].legend(loc=\"upper right\")\n",
    "\n",
    "        # validity_flag[:, :, 0] == 0\n",
    "        ax[4].plot(\n",
    "            ds_sca[\"SCA_middle_bin_validity_flags\"][i, 1:, 0],\n",
    "            ds_sca[\"SCA_middle_bin_altitude_center_obs\"][i, 1:] / 1000.0,\n",
    "            label=\"SCA_mid_bin_extinction\",\n",
    "        )\n",
    "        ax[4].plot(\n",
    "            ds_sca[\"SCA_middle_bin_validity_flags\"][i, 1:, 1],\n",
    "            ds_sca[\"SCA_middle_bin_altitude_center_obs\"][i, 1:] / 1000.0,\n",
    "            label=\"SCA_mid_bin_backscatter\",\n",
    "        )\n",
    "        ax[4].set_xlabel(\"Validity flag\")\n",
    "        ax[4].set_xticks([0, 1], [\"invalid\", \"valid\"])\n",
    "        ax[4].tick_params(labelleft=False)\n",
    "        ax[4].legend(loc=\"upper right\")\n",
    "\n",
    "        fig.suptitle(\n",
    "            \"Aeolus observation at {} latitude - {} longitude \\n\".format(\n",
    "                ds_sca[\"latitude_of_DEM_intersection_obs\"][i].values.round(2),\n",
    "                ds_sca[\"longitude_of_DEM_intersection_obs\"][i].values.round(2),\n",
    "            )\n",
    "            + \"at {} \\n Distance between ground-site and obs center: {} km\".format(\n",
    "                ds_sca[\"SCA_time_obs_datetime\"][i].values.astype(\"datetime64[s]\"),\n",
    "                dist_to_site[i],\n",
    "            )\n",
    "        )\n",
    "        for axis in ax:\n",
    "            axis.grid()"
   ]
  },
  {
   "cell_type": "markdown",
   "id": "c8e8220f-e6e6-44c8-8744-b0f6651e2363",
   "metadata": {},
   "source": [
    "Plot profile number 2 (check geolocation in the plot above)"
   ]
  },
  {
   "cell_type": "code",
   "execution_count": null,
   "id": "4881b7c9-2d0c-4060-b3ac-f1e3e1cf38bf",
   "metadata": {},
   "outputs": [],
   "source": [
    "plot_profile_comparison(2)"
   ]
  },
  {
   "cell_type": "markdown",
   "id": "f2b76b49-0bf9-4042-a8d3-2e9ba6180404",
   "metadata": {},
   "source": [
    "Plot profile number 1"
   ]
  },
  {
   "cell_type": "code",
   "execution_count": null,
   "id": "a1e6b51a-832f-4c7d-a3e4-c5c734a002ca",
   "metadata": {},
   "outputs": [],
   "source": [
    "plot_profile_comparison(1)"
   ]
  }
 ],
 "metadata": {
  "kernelspec": {
   "display_name": "Python 3 (ipykernel)",
   "language": "python",
   "name": "python3"
  },
  "language_info": {
   "codemirror_mode": {
    "name": "ipython",
    "version": 3
   },
   "file_extension": ".py",
   "mimetype": "text/x-python",
   "name": "python",
   "nbconvert_exporter": "python",
   "pygments_lexer": "ipython3",
   "version": "3.9.7"
  }
 },
 "nbformat": 4,
 "nbformat_minor": 5
}
