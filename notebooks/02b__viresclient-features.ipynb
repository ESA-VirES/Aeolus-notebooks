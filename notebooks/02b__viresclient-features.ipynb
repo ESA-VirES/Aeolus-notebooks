{
 "cells": [
  {
   "cell_type": "markdown",
   "metadata": {},
   "source": [
    "# VirES Python Client Features\n",
    "\n",
    "> Abstract: The VirES Python Client provides helpful functions to discover and access Aeolus data."
   ]
  },
  {
   "cell_type": "code",
   "execution_count": 1,
   "metadata": {
    "tags": []
   },
   "outputs": [
    {
     "name": "stdout",
     "output_type": "stream",
     "text": [
      "Python implementation: CPython\n",
      "Python version       : 3.8.8\n",
      "IPython version      : 7.22.0\n",
      "\n",
      "viresclient: 0.9.7\n",
      "pandas     : 1.2.3\n",
      "xarray     : 0.19.0\n",
      "matplotlib : 3.4.1\n",
      "\n"
     ]
    }
   ],
   "source": [
    "# Display important package versions used\n",
    "%load_ext watermark\n",
    "%watermark -i -v -p viresclient,pandas,xarray,matplotlib"
   ]
  },
  {
   "cell_type": "markdown",
   "metadata": {},
   "source": [
    "The basic configuration and use of the **`viresclient`** is presented in the previous section.\n",
    "This tutorial provides further insights in the capabilities of the client and describes helpful functions to work with Aeolus data.\n",
    "\n",
    "Run this on the **[VRE](https://vre.aeolus.services/)** (Virtual Research Environment), where viresclient is already installed, or [check the instructions](https://viresclient.readthedocs.io/en/latest/installation.html) to set it up on your own Python environment.\n",
    "\n",
    "For more information see:\n",
    "- https://aeolus.services/ (Web interface)\n",
    "- https://viresclient.readthedocs.io (Python interface)\n"
   ]
  },
  {
   "cell_type": "markdown",
   "metadata": {},
   "source": [
    "## Discover available data\n",
    "\n",
    "Each collection (i.e. product type) has a large number of available parameters. It is possible to show all collections and their parameters provided by the VirES interface by using the `available_collections` and `print_available_collections` methods of the `AeolusRequest` class.\n",
    "\n",
    "The `available_collections` method will return a dictionary object containing all collections. For each collection there are different field types. Each field type then has a list of parameters of that field type.\n",
    "\n",
    "The `print_available_collections` is a helper function specifically tailored for notebooks to print out the parameter list with additional information description and help find what you are looking for.\n",
    "As there are many hundreds of parameters the this methods allows to pass following optional arguments to reduce the number of results:\n",
    " * **collection**: Specify the collection you are interested in (ALD_U_N_1B, ALD_U_N_2A, ALD_U_N_2B, ALD_U_N_2C, AUX_MRC_1B, AUX_RRC_1B, AUX_ISR_1B, AUX_ZWC_1B, AUX_MET_12)\n",
    " * **field_type**: Specify the field type you are interested in (observation_fields, measurement_fields, group_fields, sca_fields, ica_fields, mca_fields, mie_grouping_fields, rayleigh_grouping_fields, mie_profile_fields, rayleigh_profile_fields, mie_wind_fields, rayleigh_wind_fields)\n",
    " * **regex**: Allows providing a regular expression string to filter the output based on parameter identifier. It is possible to only use a regular string that will be matched if the identifier contains it (see also examples below) \n",
    " * **details**: (True or False) Determines if additional details such be shown in the printed result table \n",
    " * **path**: (True or False) Determines if the CODA path information should be shown in the printed result table\n",
    " \n",
    " Let's look at some examples to better illustrate how the method can be used.\n"
   ]
  },
  {
   "cell_type": "code",
   "execution_count": 2,
   "metadata": {},
   "outputs": [
    {
     "data": {
      "text/html": [
       "<div>\n",
       "<style scoped>\n",
       "    .dataframe tbody tr th:only-of-type {\n",
       "        vertical-align: middle;\n",
       "    }\n",
       "\n",
       "    .dataframe tbody tr th {\n",
       "        vertical-align: top;\n",
       "    }\n",
       "\n",
       "    .dataframe thead th {\n",
       "        text-align: right;\n",
       "    }\n",
       "</style>\n",
       "<table border=\"1\" class=\"dataframe\">\n",
       "  <thead>\n",
       "    <tr style=\"text-align: right;\">\n",
       "      <th></th>\n",
       "      <th></th>\n",
       "      <th>uom</th>\n",
       "      <th>description</th>\n",
       "    </tr>\n",
       "    <tr>\n",
       "      <th>field type</th>\n",
       "      <th>identifier</th>\n",
       "      <th></th>\n",
       "      <th></th>\n",
       "    </tr>\n",
       "  </thead>\n",
       "  <tbody>\n",
       "    <tr>\n",
       "      <th>mie_wind_fields</th>\n",
       "      <th>mie_wind_result_applied_m1_temperature_corr_velocity</th>\n",
       "      <td>cm/s</td>\n",
       "      <td>Applied M1 mirror temperature correction to the HLOS Wind velocity</td>\n",
       "    </tr>\n",
       "    <tr>\n",
       "      <th rowspan=\"3\" valign=\"top\">rayleigh_wind_fields</th>\n",
       "      <th>rayleigh_wind_result_wind_to_temperature</th>\n",
       "      <td>cm/s/K</td>\n",
       "      <td>First-order derivative of the HLOS wind with respect to the temperature inside the sensing volume</td>\n",
       "    </tr>\n",
       "    <tr>\n",
       "      <th>rayleigh_wind_result_applied_m1_temperature_corr_velocity</th>\n",
       "      <td>cm/s</td>\n",
       "      <td>Applied M1 mirror temperature correction to the HLOS Wind velocity</td>\n",
       "    </tr>\n",
       "    <tr>\n",
       "      <th>rayleigh_wind_result_reference_temperature</th>\n",
       "      <td>10⁻²K</td>\n",
       "      <td>Reference temperature used for inverting the Rayleigh response into an HLOS wind</td>\n",
       "    </tr>\n",
       "  </tbody>\n",
       "</table>\n",
       "</div>"
      ],
      "text/plain": [
       "                                                                                   uom  \\\n",
       "field type           identifier                                                          \n",
       "mie_wind_fields      mie_wind_result_applied_m1_temperature_corr_velocity         cm/s   \n",
       "rayleigh_wind_fields rayleigh_wind_result_wind_to_temperature                   cm/s/K   \n",
       "                     rayleigh_wind_result_applied_m1_temperature_corr_velocity    cm/s   \n",
       "                     rayleigh_wind_result_reference_temperature                  10⁻²K   \n",
       "\n",
       "                                                                                                                                                                      description  \n",
       "field type           identifier                                                                                                                                                    \n",
       "mie_wind_fields      mie_wind_result_applied_m1_temperature_corr_velocity                                      Applied M1 mirror temperature correction to the HLOS Wind velocity  \n",
       "rayleigh_wind_fields rayleigh_wind_result_wind_to_temperature                   First-order derivative of the HLOS wind with respect to the temperature inside the sensing volume  \n",
       "                     rayleigh_wind_result_applied_m1_temperature_corr_velocity                                 Applied M1 mirror temperature correction to the HLOS Wind velocity  \n",
       "                     rayleigh_wind_result_reference_temperature                                  Reference temperature used for inverting the Rayleigh response into an HLOS wind  "
      ]
     },
     "execution_count": 2,
     "metadata": {},
     "output_type": "execute_result"
    }
   ],
   "source": [
    "# We import the AeolusRequest class from the viresclient\n",
    "from viresclient import AeolusRequest\n",
    "# We create a new AeolusRequest instance\n",
    "request = AeolusRequest()\n",
    "\n",
    "# Let us say we are looking for parameters related to temperature inside the collection ALD_U_N_2B\n",
    "# for that we could use following call. We can use the regex argument to match all identifiers containing `temp` in the identifier\n",
    "request.print_available_collections(collection=\"ALD_U_N_2B\", regex=\"temp\")\n",
    "# The results are printed below"
   ]
  },
  {
   "cell_type": "code",
   "execution_count": 3,
   "metadata": {},
   "outputs": [
    {
     "data": {
      "text/html": [
       "<div>\n",
       "<style scoped>\n",
       "    .dataframe tbody tr th:only-of-type {\n",
       "        vertical-align: middle;\n",
       "    }\n",
       "\n",
       "    .dataframe tbody tr th {\n",
       "        vertical-align: top;\n",
       "    }\n",
       "\n",
       "    .dataframe thead th {\n",
       "        text-align: right;\n",
       "    }\n",
       "</style>\n",
       "<table border=\"1\" class=\"dataframe\">\n",
       "  <thead>\n",
       "    <tr style=\"text-align: right;\">\n",
       "      <th></th>\n",
       "      <th></th>\n",
       "      <th>uom</th>\n",
       "      <th>description</th>\n",
       "      <th>path</th>\n",
       "    </tr>\n",
       "    <tr>\n",
       "      <th>field type</th>\n",
       "      <th>identifier</th>\n",
       "      <th></th>\n",
       "      <th></th>\n",
       "      <th></th>\n",
       "    </tr>\n",
       "  </thead>\n",
       "  <tbody>\n",
       "    <tr>\n",
       "      <th>mie_wind_fields</th>\n",
       "      <th>mie_wind_result_applied_m1_temperature_corr_velocity</th>\n",
       "      <td>cm/s</td>\n",
       "      <td>Applied M1 mirror temperature correction to the HLOS Wind velocity</td>\n",
       "      <td>['/mie_hloswind', -1, 'windresult/applied_m1_temperature_corr_velocity']</td>\n",
       "    </tr>\n",
       "    <tr>\n",
       "      <th rowspan=\"3\" valign=\"top\">rayleigh_wind_fields</th>\n",
       "      <th>rayleigh_wind_result_wind_to_temperature</th>\n",
       "      <td>cm/s/K</td>\n",
       "      <td>First-order derivative of the HLOS wind with respect to the temperature inside the sensing volume</td>\n",
       "      <td>['/rayleigh_hloswind', -1, 'windresult/rayleigh_wind_to_temperature']</td>\n",
       "    </tr>\n",
       "    <tr>\n",
       "      <th>rayleigh_wind_result_applied_m1_temperature_corr_velocity</th>\n",
       "      <td>cm/s</td>\n",
       "      <td>Applied M1 mirror temperature correction to the HLOS Wind velocity</td>\n",
       "      <td>['/rayleigh_hloswind', -1, 'windresult/applied_m1_temperature_corr_velocity']</td>\n",
       "    </tr>\n",
       "    <tr>\n",
       "      <th>rayleigh_wind_result_reference_temperature</th>\n",
       "      <td>10⁻²K</td>\n",
       "      <td>Reference temperature used for inverting the Rayleigh response into an HLOS wind</td>\n",
       "      <td>['/rayleigh_hloswind', -1, 'windresult/reference_temperature']</td>\n",
       "    </tr>\n",
       "  </tbody>\n",
       "</table>\n",
       "</div>"
      ],
      "text/plain": [
       "                                                                                   uom  \\\n",
       "field type           identifier                                                          \n",
       "mie_wind_fields      mie_wind_result_applied_m1_temperature_corr_velocity         cm/s   \n",
       "rayleigh_wind_fields rayleigh_wind_result_wind_to_temperature                   cm/s/K   \n",
       "                     rayleigh_wind_result_applied_m1_temperature_corr_velocity    cm/s   \n",
       "                     rayleigh_wind_result_reference_temperature                  10⁻²K   \n",
       "\n",
       "                                                                                                                                                                      description  \\\n",
       "field type           identifier                                                                                                                                                     \n",
       "mie_wind_fields      mie_wind_result_applied_m1_temperature_corr_velocity                                      Applied M1 mirror temperature correction to the HLOS Wind velocity   \n",
       "rayleigh_wind_fields rayleigh_wind_result_wind_to_temperature                   First-order derivative of the HLOS wind with respect to the temperature inside the sensing volume   \n",
       "                     rayleigh_wind_result_applied_m1_temperature_corr_velocity                                 Applied M1 mirror temperature correction to the HLOS Wind velocity   \n",
       "                     rayleigh_wind_result_reference_temperature                                  Reference temperature used for inverting the Rayleigh response into an HLOS wind   \n",
       "\n",
       "                                                                                                                                                         path  \n",
       "field type           identifier                                                                                                                                \n",
       "mie_wind_fields      mie_wind_result_applied_m1_temperature_corr_velocity            ['/mie_hloswind', -1, 'windresult/applied_m1_temperature_corr_velocity']  \n",
       "rayleigh_wind_fields rayleigh_wind_result_wind_to_temperature                           ['/rayleigh_hloswind', -1, 'windresult/rayleigh_wind_to_temperature']  \n",
       "                     rayleigh_wind_result_applied_m1_temperature_corr_velocity  ['/rayleigh_hloswind', -1, 'windresult/applied_m1_temperature_corr_velocity']  \n",
       "                     rayleigh_wind_result_reference_temperature                                ['/rayleigh_hloswind', -1, 'windresult/reference_temperature']  "
      ]
     },
     "execution_count": 3,
     "metadata": {},
     "output_type": "execute_result"
    }
   ],
   "source": [
    "# If we wanted to see the original CODA path for these results we can just pass the path argument as True\n",
    "request.print_available_collections(collection=\"ALD_U_N_2B\", regex=\"temp\", path=True)"
   ]
  },
  {
   "cell_type": "code",
   "execution_count": 4,
   "metadata": {},
   "outputs": [
    {
     "data": {
      "text/html": [
       "<div>\n",
       "<style scoped>\n",
       "    .dataframe tbody tr th:only-of-type {\n",
       "        vertical-align: middle;\n",
       "    }\n",
       "\n",
       "    .dataframe tbody tr th {\n",
       "        vertical-align: top;\n",
       "    }\n",
       "\n",
       "    .dataframe thead th {\n",
       "        text-align: right;\n",
       "    }\n",
       "</style>\n",
       "<table border=\"1\" class=\"dataframe\">\n",
       "  <thead>\n",
       "    <tr style=\"text-align: right;\">\n",
       "      <th></th>\n",
       "      <th></th>\n",
       "      <th></th>\n",
       "      <th>uom</th>\n",
       "      <th>description</th>\n",
       "    </tr>\n",
       "    <tr>\n",
       "      <th>collection</th>\n",
       "      <th>field type</th>\n",
       "      <th>identifier</th>\n",
       "      <th></th>\n",
       "      <th></th>\n",
       "    </tr>\n",
       "  </thead>\n",
       "  <tbody>\n",
       "    <tr>\n",
       "      <th rowspan=\"4\" valign=\"top\">ALD_U_N_2B</th>\n",
       "      <th>mie_wind_fields</th>\n",
       "      <th>mie_wind_result_applied_m1_temperature_corr_velocity</th>\n",
       "      <td>cm/s</td>\n",
       "      <td>Applied M1 mirror temperature correction to the HLOS Wind velocity</td>\n",
       "    </tr>\n",
       "    <tr>\n",
       "      <th rowspan=\"3\" valign=\"top\">rayleigh_wind_fields</th>\n",
       "      <th>rayleigh_wind_result_wind_to_temperature</th>\n",
       "      <td>cm/s/K</td>\n",
       "      <td>First-order derivative of the HLOS wind with respect to the temperature inside the sensing volume</td>\n",
       "    </tr>\n",
       "    <tr>\n",
       "      <th>rayleigh_wind_result_applied_m1_temperature_corr_velocity</th>\n",
       "      <td>cm/s</td>\n",
       "      <td>Applied M1 mirror temperature correction to the HLOS Wind velocity</td>\n",
       "    </tr>\n",
       "    <tr>\n",
       "      <th>rayleigh_wind_result_reference_temperature</th>\n",
       "      <td>10⁻²K</td>\n",
       "      <td>Reference temperature used for inverting the Rayleigh response into an HLOS wind</td>\n",
       "    </tr>\n",
       "    <tr>\n",
       "      <th rowspan=\"4\" valign=\"top\">ALD_U_N_2C</th>\n",
       "      <th>mie_wind_fields</th>\n",
       "      <th>mie_wind_result_applied_m1_temperature_corr_velocity</th>\n",
       "      <td>cm/s</td>\n",
       "      <td>Applied M1 mirror temperature correction to the HLOS Wind velocity</td>\n",
       "    </tr>\n",
       "    <tr>\n",
       "      <th rowspan=\"3\" valign=\"top\">rayleigh_wind_fields</th>\n",
       "      <th>rayleigh_wind_result_wind_to_temperature</th>\n",
       "      <td>cm/s/K</td>\n",
       "      <td>First-order derivative of the HLOS wind with respect to the temperature inside the sensing volume</td>\n",
       "    </tr>\n",
       "    <tr>\n",
       "      <th>rayleigh_wind_result_applied_m1_temperature_corr_velocity</th>\n",
       "      <td>cm/s</td>\n",
       "      <td>Applied M1 mirror temperature correction to the HLOS Wind velocity</td>\n",
       "    </tr>\n",
       "    <tr>\n",
       "      <th>rayleigh_wind_result_reference_temperature</th>\n",
       "      <td>10⁻²K</td>\n",
       "      <td>Reference temperature used for inverting the Rayleigh response into an HLOS wind</td>\n",
       "    </tr>\n",
       "    <tr>\n",
       "      <th rowspan=\"8\" valign=\"top\">AUX_ISR_1B</th>\n",
       "      <th rowspan=\"8\" valign=\"top\">fields</th>\n",
       "      <th>rayleigh_spectrometer_temperature_9</th>\n",
       "      <td>°C</td>\n",
       "      <td>Sensor RSP etalon temperature</td>\n",
       "    </tr>\n",
       "    <tr>\n",
       "      <th>rayleigh_spectrometer_temperature_10</th>\n",
       "      <td>°C</td>\n",
       "      <td>Sensor RSP etalon temperature</td>\n",
       "    </tr>\n",
       "    <tr>\n",
       "      <th>rayleigh_spectrometer_temperature_11</th>\n",
       "      <td>°C</td>\n",
       "      <td>Sensor RSP etalon temperature</td>\n",
       "    </tr>\n",
       "    <tr>\n",
       "      <th>rayleigh_thermal_hood_temperature_1</th>\n",
       "      <td>°C</td>\n",
       "      <td>Sensor RSPT average temperature</td>\n",
       "    </tr>\n",
       "    <tr>\n",
       "      <th>rayleigh_thermal_hood_temperature_2</th>\n",
       "      <td>°C</td>\n",
       "      <td>Sensor RSPT average temperature</td>\n",
       "    </tr>\n",
       "    <tr>\n",
       "      <th>rayleigh_thermal_hood_temperature_3</th>\n",
       "      <td>°C</td>\n",
       "      <td>Sensor RSPT average temperature</td>\n",
       "    </tr>\n",
       "    <tr>\n",
       "      <th>rayleigh_thermal_hood_temperature_4</th>\n",
       "      <td>°C</td>\n",
       "      <td>Sensor RSPT average temperature</td>\n",
       "    </tr>\n",
       "    <tr>\n",
       "      <th>rayleigh_optical_baseplate_avg_temperature</th>\n",
       "      <td>°C</td>\n",
       "      <td>Sensor Optical Baseplate Rayleigh average temperature</td>\n",
       "    </tr>\n",
       "    <tr>\n",
       "      <th rowspan=\"2\" valign=\"top\">AUX_MET_12</th>\n",
       "      <th rowspan=\"2\" valign=\"top\">fields</th>\n",
       "      <th>layer_temperature_off_nadir</th>\n",
       "      <td>10⁻² K</td>\n",
       "      <td>Layer temperature off nadir</td>\n",
       "    </tr>\n",
       "    <tr>\n",
       "      <th>layer_temperature_nadir</th>\n",
       "      <td>10⁻² K</td>\n",
       "      <td>Layer temperature nadir</td>\n",
       "    </tr>\n",
       "  </tbody>\n",
       "</table>\n",
       "</div>"
      ],
      "text/plain": [
       "                                                                                              uom  \\\n",
       "collection field type           identifier                                                          \n",
       "ALD_U_N_2B mie_wind_fields      mie_wind_result_applied_m1_temperature_corr_velocity         cm/s   \n",
       "           rayleigh_wind_fields rayleigh_wind_result_wind_to_temperature                   cm/s/K   \n",
       "                                rayleigh_wind_result_applied_m1_temperature_corr_velocity    cm/s   \n",
       "                                rayleigh_wind_result_reference_temperature                  10⁻²K   \n",
       "ALD_U_N_2C mie_wind_fields      mie_wind_result_applied_m1_temperature_corr_velocity         cm/s   \n",
       "           rayleigh_wind_fields rayleigh_wind_result_wind_to_temperature                   cm/s/K   \n",
       "                                rayleigh_wind_result_applied_m1_temperature_corr_velocity    cm/s   \n",
       "                                rayleigh_wind_result_reference_temperature                  10⁻²K   \n",
       "AUX_ISR_1B fields               rayleigh_spectrometer_temperature_9                            °C   \n",
       "                                rayleigh_spectrometer_temperature_10                           °C   \n",
       "                                rayleigh_spectrometer_temperature_11                           °C   \n",
       "                                rayleigh_thermal_hood_temperature_1                            °C   \n",
       "                                rayleigh_thermal_hood_temperature_2                            °C   \n",
       "                                rayleigh_thermal_hood_temperature_3                            °C   \n",
       "                                rayleigh_thermal_hood_temperature_4                            °C   \n",
       "                                rayleigh_optical_baseplate_avg_temperature                     °C   \n",
       "AUX_MET_12 fields               layer_temperature_off_nadir                                10⁻² K   \n",
       "                                layer_temperature_nadir                                    10⁻² K   \n",
       "\n",
       "                                                                                                                                                                                 description  \n",
       "collection field type           identifier                                                                                                                                                    \n",
       "ALD_U_N_2B mie_wind_fields      mie_wind_result_applied_m1_temperature_corr_velocity                                      Applied M1 mirror temperature correction to the HLOS Wind velocity  \n",
       "           rayleigh_wind_fields rayleigh_wind_result_wind_to_temperature                   First-order derivative of the HLOS wind with respect to the temperature inside the sensing volume  \n",
       "                                rayleigh_wind_result_applied_m1_temperature_corr_velocity                                 Applied M1 mirror temperature correction to the HLOS Wind velocity  \n",
       "                                rayleigh_wind_result_reference_temperature                                  Reference temperature used for inverting the Rayleigh response into an HLOS wind  \n",
       "ALD_U_N_2C mie_wind_fields      mie_wind_result_applied_m1_temperature_corr_velocity                                      Applied M1 mirror temperature correction to the HLOS Wind velocity  \n",
       "           rayleigh_wind_fields rayleigh_wind_result_wind_to_temperature                   First-order derivative of the HLOS wind with respect to the temperature inside the sensing volume  \n",
       "                                rayleigh_wind_result_applied_m1_temperature_corr_velocity                                 Applied M1 mirror temperature correction to the HLOS Wind velocity  \n",
       "                                rayleigh_wind_result_reference_temperature                                  Reference temperature used for inverting the Rayleigh response into an HLOS wind  \n",
       "AUX_ISR_1B fields               rayleigh_spectrometer_temperature_9                                                                                           Sensor RSP etalon temperature   \n",
       "                                rayleigh_spectrometer_temperature_10                                                                                          Sensor RSP etalon temperature   \n",
       "                                rayleigh_spectrometer_temperature_11                                                                                          Sensor RSP etalon temperature   \n",
       "                                rayleigh_thermal_hood_temperature_1                                                                                         Sensor RSPT average temperature   \n",
       "                                rayleigh_thermal_hood_temperature_2                                                                                         Sensor RSPT average temperature   \n",
       "                                rayleigh_thermal_hood_temperature_3                                                                                         Sensor RSPT average temperature   \n",
       "                                rayleigh_thermal_hood_temperature_4                                                                                         Sensor RSPT average temperature   \n",
       "                                rayleigh_optical_baseplate_avg_temperature                                                             Sensor Optical Baseplate Rayleigh average temperature  \n",
       "AUX_MET_12 fields               layer_temperature_off_nadir                                                                                                      Layer temperature off nadir  \n",
       "                                layer_temperature_nadir                                                                                                              Layer temperature nadir  "
      ]
     },
     "execution_count": 4,
     "metadata": {},
     "output_type": "execute_result"
    }
   ],
   "source": [
    "# If we wanted to find all parameters that might be related to temperature from all collections\n",
    "# we could remove the collection argument as follows\n",
    "request.print_available_collections(regex=\"temp\")"
   ]
  },
  {
   "cell_type": "markdown",
   "metadata": {},
   "source": [
    "## Options when fetching data\n",
    "\n",
    "As shortly presented in the previous tutorial it is possible to retrieve Aeolus data using `AeolusRequest.get_between()` method. There are some important options to configure the request to retrieve exactly what you are looking for. The required configuration methods are `set_collection` to define the data product you want to retrieve, as well as the `set_fields` method (further described in the **Fields** section below). \n",
    "\n",
    "### Bounding Box\n",
    "This option is optional but listed as first as it can help greatly improve data access performance if you want to investigate a specific area. By using the `set_bbox` function you can define your area of interest for your request. This will allow the server to filter out complete products which are not intersecting with your selected area. For requests with longer time periods this will greatly increase data acc to performance.\n",
    "The bounding box is expected as a dictionary containing EPSG 4326 longitude (-180 to 180) and latitude (-90 to 90) values for:\n",
    " * **e**: east (min longitude),\n",
    " * **s**: south (min latitude),\n",
    " * **w**: west (max longitude),\n",
    " * **n**: north (max latitude)\n",
    " \n",
    "\n",
    "\n"
   ]
  },
  {
   "cell_type": "code",
   "execution_count": 5,
   "metadata": {},
   "outputs": [
    {
     "data": {
      "application/vnd.jupyter.widget-view+json": {
       "model_id": "7c146e0b9f534bddaeddf323f923a057",
       "version_major": 2,
       "version_minor": 0
      },
      "text/plain": [
       "Processing:    0%|          |  [ Elapsed: 00:00, Remaining: ? ] [1/1] "
      ]
     },
     "metadata": {},
     "output_type": "display_data"
    },
    {
     "data": {
      "application/vnd.jupyter.widget-view+json": {
       "model_id": "61e4abaeb96c41479eac8b28474c38d7",
       "version_major": 2,
       "version_minor": 0
      },
      "text/plain": [
       "Downloading:   0%|          |  [ Elapsed: 00:00, Remaining: ? ] (0.079MB)"
      ]
     },
     "metadata": {},
     "output_type": "display_data"
    }
   ],
   "source": [
    "# Set up connection with server\n",
    "request = AeolusRequest()\n",
    "# Set collection to use\n",
    "# Set collection to use\n",
    "request.set_collection('ALD_U_N_2B')\n",
    "\n",
    "# Define the area we are interested in, e.g. area covering roughly around Germany\n",
    "my_bbox = {\n",
    "    \"e\":20,\n",
    "    \"s\":45,\n",
    "    \"w\": 0,\n",
    "    \"n\": 60,\n",
    "}\n",
    "request.set_bbox(my_bbox)\n",
    "\n",
    "# Set the fields we are interested in (more information on this further below)\n",
    "request.set_fields(rayleigh_wind_fields=[\n",
    "    \"rayleigh_wind_result_start_time\",\n",
    "    \"rayleigh_wind_result_stop_time\",\n",
    "    \"rayleigh_wind_result_bottom_altitude\",\n",
    "    \"rayleigh_wind_result_top_altitude\",\n",
    "    \"rayleigh_wind_result_wind_velocity\",\n",
    "])\n",
    "\n",
    "# Send the request to retrieve the data\n",
    "data = request.get_between(\n",
    "    start_time=\"2020-04-10T06:21:58Z\",\n",
    "    end_time=\"2020-04-12T07:50:33Z\",\n",
    "    filetype=\"nc\",\n",
    ")"
   ]
  },
  {
   "cell_type": "markdown",
   "metadata": {
    "tags": []
   },
   "source": [
    "### Parameters and field_types\n",
    "\n",
    "Parameters are classified in different field_types and each collection has multiple field_types. You can request parameters only for specific field_types as there are non unique parameter identifiers. For example multiple L1B parameters are available as measurement and as observation (field types), in order to specify which parameter you want to retrieve you have to specify from which field_type you would like to retrieve it.\n",
    "How to find which parameter is available in which field_type is described in section **Discover available data** above.\n",
    "In order to set the parameters you want to retrieve you have to use the `set_fields` method, and passing the field_type identifiers with an array of parameter identifiers strings as arguments.\n",
    "As a summary here is a list of the available field_types per collection:\n",
    " * ALD_U_N_1B\n",
    "   - observation_fields\n",
    "   - measurement_fields\n",
    " * ALD_U_N_2A\n",
    "   - observation_fields\n",
    "   - measurement_fields\n",
    "   - group_fields\n",
    "   - sca_fields\n",
    "   - ica_fields\n",
    "   - mca_fields\n",
    " * ALD_U_N_2B and ALD_U_N_2C\n",
    "   - mie_grouping_fields\n",
    "   - rayleigh_grouping_fields\n",
    "   - mie_profile_fields\n",
    "   - rayleigh_profile_fields\n",
    "   - mie_wind_fields\n",
    "   - rayleigh_wind_fields\n",
    "   - measurement_fields\n",
    " * AUX_MRC_1B, AUX_ISR_1B, AUX_ZWC_1B, AUX_MET_12\n",
    "   - fields - collection contain only one (non specific) field type\n",
    "   \n",
    "As we have seen some examples already in previous tutorials, here are some helper classes to show how to retrieve a larger set of the parameters using the `available_collections` presented before."
   ]
  },
  {
   "cell_type": "code",
   "execution_count": 6,
   "metadata": {},
   "outputs": [
    {
     "data": {
      "application/vnd.jupyter.widget-view+json": {
       "model_id": "2604f7c2c5484c9a9354b8fb66c1d79a",
       "version_major": 2,
       "version_minor": 0
      },
      "text/plain": [
       "Processing:    0%|          |  [ Elapsed: 00:00, Remaining: ? ] [1/1] "
      ]
     },
     "metadata": {},
     "output_type": "display_data"
    },
    {
     "data": {
      "application/vnd.jupyter.widget-view+json": {
       "model_id": "0fb672d1285b41f9ab3dad29a37cfd94",
       "version_major": 2,
       "version_minor": 0
      },
      "text/plain": [
       "Downloading:   0%|          |  [ Elapsed: 00:00, Remaining: ? ] (13.986MB)"
      ]
     },
     "metadata": {},
     "output_type": "display_data"
    },
    {
     "name": "stdout",
     "output_type": "stream",
     "text": [
      "dict_keys(['mie_grouping_data', 'rayleigh_grouping_data', 'mie_profile_data', 'rayleigh_profile_data', 'mie_wind_data', 'rayleigh_wind_data', 'measurement_data'])\n"
     ]
    }
   ],
   "source": [
    "# Set up connection with server\n",
    "request = AeolusRequest()\n",
    "# Set collection to use\n",
    "DATA_PRODUCT = 'ALD_U_N_2B'\n",
    "request.set_collection(DATA_PRODUCT)\n",
    "\n",
    "# Get all available field_types for this collection\n",
    "collection_description = request.available_collections()['collections'][DATA_PRODUCT]\n",
    "\n",
    "# Create dictionary to hold field_type key and parameter identifier array as value\n",
    "request_fields = {}\n",
    "for field_type in collection_description:\n",
    "    # save an array of the parameter keys for each field_type\n",
    "    request_fields[field_type] = collection_description[field_type].keys()\n",
    "\n",
    "# Unpack the dictionary to pass each field_type as separate argument\n",
    "# This will define to request all available parameters that the service has to offer for this collection\n",
    "request.set_fields(**request_fields)\n",
    "\n",
    "# Or you could select to retrieve all parameters of a specific field_type for example with\n",
    "# request.set_fields(mie_wind_fields=request_fields[\"mie_wind_fields\"])\n",
    "\n",
    "# now we can request the data\n",
    "return_data = request.get_between(\n",
    "    start_time=\"2020-04-10T06:21:58Z\",\n",
    "    end_time=\"2020-04-10T06:22:33Z\",\n",
    "    filetype=\"nc\"\n",
    ")\n",
    "\n",
    "# If you like to work with xarray you can use the as_xarray_dict method to convert the response\n",
    "# to a dictionary containing an xarray object per field_type requested.\n",
    "# Further information on this is described in the next tutorial \"viresclient data management\"\n",
    "xarray_dict = return_data.as_xarray_dict()\n",
    "print(xarray_dict.keys())"
   ]
  },
  {
   "cell_type": "markdown",
   "metadata": {},
   "source": [
    "### Filters\n",
    "\n",
    "When requesting the data, apart from the time (`get_between`) and area selection (`set_bbox`) you can define range filters to apply for each parameter if you are interested in retrieving data even with a greater granularity.\n",
    "You can apply filter by using the `set_range_filter` function. \n",
    "The `set_range_filter` function takes 3 arguments `(parameter_id, range_min, range_max)`:\n",
    "* parameter_id: Parameter identifier string to which the filter should be applied\n",
    "* range_min: Minimum value of the filter range\n",
    "* range_max: Maximum value of the filter range"
   ]
  },
  {
   "cell_type": "code",
   "execution_count": 7,
   "metadata": {},
   "outputs": [
    {
     "data": {
      "application/vnd.jupyter.widget-view+json": {
       "model_id": "65ca1064316742f69a12690539fbffc6",
       "version_major": 2,
       "version_minor": 0
      },
      "text/plain": [
       "Processing:    0%|          |  [ Elapsed: 00:00, Remaining: ? ] [1/1] "
      ]
     },
     "metadata": {},
     "output_type": "display_data"
    },
    {
     "data": {
      "application/vnd.jupyter.widget-view+json": {
       "model_id": "82c2e40001dc4134939bbe912b1633ab",
       "version_major": 2,
       "version_minor": 0
      },
      "text/plain": [
       "Downloading:   0%|          |  [ Elapsed: 00:00, Remaining: ? ] (0.055MB)"
      ]
     },
     "metadata": {},
     "output_type": "display_data"
    },
    {
     "data": {
      "text/plain": [
       "KeysView(<xarray.Dataset>\n",
       "Dimensions:                           (off_nadir: 10, array_137: 137)\n",
       "Dimensions without coordinates: off_nadir, array_137\n",
       "Data variables:\n",
       "    time_off_nadir                    (off_nadir) float64 ...\n",
       "    latitude_off_nadir                (off_nadir) float64 ...\n",
       "    longitude_off_nadir               (off_nadir) float64 ...\n",
       "    surface_altitude_off_nadir        (off_nadir) int32 ...\n",
       "    layer_altitude_off_nadir          (off_nadir, array_137) int32 ...\n",
       "    layer_temperature_off_nadir       (off_nadir, array_137) float64 ...\n",
       "    layer_cloud_cover_off_nadir       (off_nadir, array_137) uint8 ...\n",
       "    layer_wind_component_u_off_nadir  (off_nadir, array_137) int16 ...\n",
       "    layer_wind_component_v_off_nadir  (off_nadir, array_137) int16 ...\n",
       "    layer_rel_humidity_off_nadir      (off_nadir, array_137) uint8 ...\n",
       "    layer_validity_flag_off_nadir     (off_nadir, array_137) int8 ...\n",
       "Attributes:\n",
       "    history:  {\"inputFiles\": [\"AE_OPER_AUX_MET_12_20210409T030000_20210410T09...\n",
       "    Sources:  [('AE_OPER_AUX_MET_12_20210409T030000_20210410T090000_0001', 'M...)"
      ]
     },
     "execution_count": 7,
     "metadata": {},
     "output_type": "execute_result"
    }
   ],
   "source": [
    "# Data request for AUX_MET product\n",
    "request = AeolusRequest()\n",
    "\n",
    "request.set_collection(\"AUX_MET_12\")\n",
    "\n",
    "# set fields\n",
    "request.set_fields(fields=[\n",
    "    \"time_off_nadir\",\n",
    "    \"latitude_off_nadir\",\n",
    "    \"longitude_off_nadir\",\n",
    "    \"surface_altitude_off_nadir\",\n",
    "    \"layer_altitude_off_nadir\",\n",
    "    \"layer_temperature_off_nadir\",\n",
    "    \"layer_cloud_cover_off_nadir\",\n",
    "    \"layer_wind_component_u_off_nadir\",\n",
    "    \"layer_wind_component_v_off_nadir\",\n",
    "    \"layer_rel_humidity_off_nadir\",\n",
    "    \"layer_validity_flag_off_nadir\",\n",
    "])\n",
    "\n",
    "# Now we set filters for the layer altitude parameters\n",
    "request.set_range_filter(\"layer_altitude_off_nadir\", 0, 2500000)\n",
    "\n",
    "# set start and end time and request data\n",
    "data_aux_met = request.get_between(\n",
    "    start_time=\"2021-04-10T06:21:00Z\",\n",
    "    end_time=\"2021-04-10T06:21:30Z\",\n",
    "    filetype=\"nc\"\n",
    ")\n",
    "# For collections or requests that don't contain multiple field_types\n",
    "# you can convert the complete response object to an xarray\n",
    "xarray_data = data_aux_met.as_xarray()\n",
    "xarray_data.keys()"
   ]
  }
 ],
 "metadata": {
  "kernelspec": {
   "display_name": "Python 3",
   "language": "python",
   "name": "python3"
  },
  "language_info": {
   "codemirror_mode": {
    "name": "ipython",
    "version": 3
   },
   "file_extension": ".py",
   "mimetype": "text/x-python",
   "name": "python",
   "nbconvert_exporter": "python",
   "pygments_lexer": "ipython3",
   "version": "3.8.8"
  },
  "toc-autonumbering": false
 },
 "nbformat": 4,
 "nbformat_minor": 4
}
